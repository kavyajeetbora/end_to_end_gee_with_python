{
  "nbformat": 4,
  "nbformat_minor": 0,
  "metadata": {
    "colab": {
      "provenance": [],
      "authorship_tag": "ABX9TyMUnepOQpTR+3BNivcRZf/8",
      "include_colab_link": true
    },
    "kernelspec": {
      "name": "python3",
      "display_name": "Python 3"
    },
    "language_info": {
      "name": "python"
    }
  },
  "cells": [
    {
      "cell_type": "markdown",
      "metadata": {
        "id": "view-in-github",
        "colab_type": "text"
      },
      "source": [
        "<a href=\"https://colab.research.google.com/github/kavyajeetbora/end_to_end_gee_with_python/blob/master/%20Google%20Earth%20Engine%20with%20Amirhossein%20Ahrari/002_Landsat%20Monthly%20LST.ipynb\" target=\"_parent\"><img src=\"https://colab.research.google.com/assets/colab-badge.svg\" alt=\"Open In Colab\"/></a>"
      ]
    },
    {
      "cell_type": "markdown",
      "source": [
        "# Plotting the monthly landsat data\n",
        "\n",
        "- Here we will try to plot the monthly landsat data by aggregating the image collection month wise and reduce them by median values\n",
        "- Also in this exercise we will merge landsat 8 and landsat 9 data for better data quality\n",
        "- Plot the results\n",
        "- Plot a timeseries of the aggregated results\n"
      ],
      "metadata": {
        "id": "HKoz64WMa2FI"
      }
    },
    {
      "cell_type": "code",
      "execution_count": 64,
      "metadata": {
        "id": "Cx78rURgtCSZ",
        "colab": {
          "base_uri": "https://localhost:8080/",
          "height": 17
        },
        "outputId": "5a09c51a-fec0-4f35-97b1-5ef8dc096e37"
      },
      "outputs": [
        {
          "output_type": "display_data",
          "data": {
            "text/plain": [
              "<IPython.core.display.HTML object>"
            ],
            "text/html": [
              "\n",
              "            <style>\n",
              "                .geemap-dark {\n",
              "                    --jp-widgets-color: white;\n",
              "                    --jp-widgets-label-color: white;\n",
              "                    --jp-ui-font-color1: white;\n",
              "                    --jp-layout-color2: #454545;\n",
              "                    background-color: #383838;\n",
              "                }\n",
              "\n",
              "                .geemap-dark .jupyter-button {\n",
              "                    --jp-layout-color3: #383838;\n",
              "                }\n",
              "\n",
              "                .geemap-colab {\n",
              "                    background-color: var(--colab-primary-surface-color, white);\n",
              "                }\n",
              "\n",
              "                .geemap-colab .jupyter-button {\n",
              "                    --jp-layout-color3: var(--colab-primary-surface-color, white);\n",
              "                }\n",
              "            </style>\n",
              "            "
            ]
          },
          "metadata": {}
        }
      ],
      "source": [
        "import geemap\n",
        "import ee\n",
        "from datetime import datetime, timedelta\n",
        "import pandas as pd\n",
        "\n",
        "ee.Authenticate()\n",
        "ee.Initialize(project='kavyajeetbora-ee')"
      ]
    },
    {
      "cell_type": "code",
      "source": [
        "def filterImageCollection(\n",
        "        image_collection_id: str,\n",
        "        geometry: ee.geometry.Geometry,\n",
        "        date_range: tuple[str],\n",
        "        cloud_cover = 10\n",
        "    ) -> ee.imagecollection.ImageCollection:\n",
        "\n",
        "    imageCollection = ee.ImageCollection(image_collection_id)\n",
        "    d1,d2 = date_range\n",
        "    filtered = imageCollection.filter(\n",
        "       ee.Filter.lt('CLOUD_COVER', 10)\n",
        "    )\\\n",
        "    .filter(\n",
        "        ee.Filter.date(d1, d2) ## Filter by date\n",
        "    ).filter(\n",
        "        ee.Filter.bounds(geometry) ## Filter by bounds\n",
        "    )\n",
        "\n",
        "    return filtered"
      ],
      "metadata": {
        "colab": {
          "base_uri": "https://localhost:8080/",
          "height": 17
        },
        "id": "_yhLoLNsuFbC",
        "outputId": "20c29978-cd00-4b08-b80b-49bc9e4e8daa"
      },
      "execution_count": 19,
      "outputs": [
        {
          "output_type": "display_data",
          "data": {
            "text/plain": [
              "<IPython.core.display.HTML object>"
            ],
            "text/html": [
              "\n",
              "            <style>\n",
              "                .geemap-dark {\n",
              "                    --jp-widgets-color: white;\n",
              "                    --jp-widgets-label-color: white;\n",
              "                    --jp-ui-font-color1: white;\n",
              "                    --jp-layout-color2: #454545;\n",
              "                    background-color: #383838;\n",
              "                }\n",
              "\n",
              "                .geemap-dark .jupyter-button {\n",
              "                    --jp-layout-color3: #383838;\n",
              "                }\n",
              "\n",
              "                .geemap-colab {\n",
              "                    background-color: var(--colab-primary-surface-color, white);\n",
              "                }\n",
              "\n",
              "                .geemap-colab .jupyter-button {\n",
              "                    --jp-layout-color3: var(--colab-primary-surface-color, white);\n",
              "                }\n",
              "            </style>\n",
              "            "
            ]
          },
          "metadata": {}
        }
      ]
    },
    {
      "cell_type": "markdown",
      "source": [
        "## Filtering the data\n",
        "\n",
        "\n",
        "\n",
        "### Get the geometry for area of interest"
      ],
      "metadata": {
        "id": "SdXZeFzNwX4V"
      }
    },
    {
      "cell_type": "code",
      "source": [
        "## Get the area of interest\n",
        "admin = ee.FeatureCollection('FAO/GAUL_SIMPLIFIED_500m/2015/level2')\n",
        "delhi = admin.filter(ee.Filter.eq('ADM1_NAME', 'Delhi'))\\\n",
        ".filter(ee.Filter.eq('ADM2_NAME', 'Delhi'))\n",
        "\n",
        "geometry = delhi.geometry()"
      ],
      "metadata": {
        "colab": {
          "base_uri": "https://localhost:8080/",
          "height": 17
        },
        "id": "xM-f1T0EvNfl",
        "outputId": "2ca10f95-6f36-4f5e-e107-0ec6246b45c2"
      },
      "execution_count": 25,
      "outputs": [
        {
          "output_type": "display_data",
          "data": {
            "text/plain": [
              "<IPython.core.display.HTML object>"
            ],
            "text/html": [
              "\n",
              "            <style>\n",
              "                .geemap-dark {\n",
              "                    --jp-widgets-color: white;\n",
              "                    --jp-widgets-label-color: white;\n",
              "                    --jp-ui-font-color1: white;\n",
              "                    --jp-layout-color2: #454545;\n",
              "                    background-color: #383838;\n",
              "                }\n",
              "\n",
              "                .geemap-dark .jupyter-button {\n",
              "                    --jp-layout-color3: #383838;\n",
              "                }\n",
              "\n",
              "                .geemap-colab {\n",
              "                    background-color: var(--colab-primary-surface-color, white);\n",
              "                }\n",
              "\n",
              "                .geemap-colab .jupyter-button {\n",
              "                    --jp-layout-color3: var(--colab-primary-surface-color, white);\n",
              "                }\n",
              "            </style>\n",
              "            "
            ]
          },
          "metadata": {}
        }
      ]
    },
    {
      "cell_type": "markdown",
      "source": [
        "## Get the landsat image collection data\n",
        "\n",
        "**About Landsat**\n",
        "\n",
        "Landsat, a joint program of the USGS and NASA, has been observing the Earth continuously from 1972 through the present day. Today the Landsat satellites image the entire Earth's surface at a 30-meter resolution about once every two weeks (**Revisit Interval\n",
        "16 days**), including multispectral and thermal data. The USGS produces data in 3 categories for each satellite (Tier 1, Tier 2 and RT)\n",
        "\n",
        "Landsat collection structure.\n",
        "The USGS produces data in 3 tiers (categories) for each satellite:\n",
        "\n",
        "1. Tier 1 (T1) - Data that meets geometric and radiometric quality requirements\n",
        "2. Tier 2 (T2) - Data that doesn't meet the Tier 1 requirements\n",
        "3. Real Time (RT) - Data that hasn't yet been evaluated (it takes as much as a month)."
      ],
      "metadata": {
        "id": "EWXqY3U1dZXQ"
      }
    },
    {
      "cell_type": "code",
      "source": [
        "y1,y2 = (2023, 2024)\n",
        "cloud_cover = 45\n",
        "date_range = (f\"{y1}-01-01\", f\"{y2}-01-01\")\n",
        "\n",
        "## get the landsat 8 image collection\n",
        "landsat8 = filterImageCollection(\n",
        "    image_collection_id = \"LANDSAT/LC08/C02/T1_L2\",\n",
        "    geometry = geometry,\n",
        "    date_range = date_range,\n",
        "    cloud_cover = cloud_cover\n",
        ")\n",
        "\n",
        "## get the landsat 8 image collection\n",
        "landsat9 = filterImageCollection(\n",
        "    image_collection_id = \"LANDSAT/LC09/C02/T1_L2\",\n",
        "    geometry = geometry,\n",
        "    date_range = date_range,\n",
        "    cloud_cover = cloud_cover\n",
        ")\n",
        "\n",
        "## merge the image collection\n",
        "## Sort them as per time\n",
        "landsat = landsat8.merge(landsat9).sort('system:time_start')"
      ],
      "metadata": {
        "colab": {
          "base_uri": "https://localhost:8080/",
          "height": 17
        },
        "id": "j2pTvNNZdIx7",
        "outputId": "4fc9711c-9fea-4679-b8af-ac72c98bdb34"
      },
      "execution_count": 37,
      "outputs": [
        {
          "output_type": "display_data",
          "data": {
            "text/plain": [
              "<IPython.core.display.HTML object>"
            ],
            "text/html": [
              "\n",
              "            <style>\n",
              "                .geemap-dark {\n",
              "                    --jp-widgets-color: white;\n",
              "                    --jp-widgets-label-color: white;\n",
              "                    --jp-ui-font-color1: white;\n",
              "                    --jp-layout-color2: #454545;\n",
              "                    background-color: #383838;\n",
              "                }\n",
              "\n",
              "                .geemap-dark .jupyter-button {\n",
              "                    --jp-layout-color3: #383838;\n",
              "                }\n",
              "\n",
              "                .geemap-colab {\n",
              "                    background-color: var(--colab-primary-surface-color, white);\n",
              "                }\n",
              "\n",
              "                .geemap-colab .jupyter-button {\n",
              "                    --jp-layout-color3: var(--colab-primary-surface-color, white);\n",
              "                }\n",
              "            </style>\n",
              "            "
            ]
          },
          "metadata": {}
        }
      ]
    },
    {
      "cell_type": "markdown",
      "source": [
        "Using `pandas.date_range` to generate the monthly dates\n",
        "\n",
        "use `freq` parameter to decide how to divide the range, whether daily or monthly.\n",
        "\n",
        "See the `freq` notations here: [Offset aliases](https://pandas.pydata.org/docs/user_guide/timeseries.html#offset-aliases)"
      ],
      "metadata": {
        "id": "f-D9FRkEkX7q"
      }
    },
    {
      "cell_type": "code",
      "source": [
        "## Generating a monthly range of dates\n",
        "monthly_range = pd.date_range(start=f'1/1/{y1}', end=f'01/01/{y2}', freq='MS').strftime('%Y-%m-%d')\n",
        "monthly_range"
      ],
      "metadata": {
        "colab": {
          "base_uri": "https://localhost:8080/",
          "height": 86
        },
        "id": "Q9JY_3EFfvhS",
        "outputId": "afa9953c-298a-4f11-eeae-9b66992e4a1b"
      },
      "execution_count": 60,
      "outputs": [
        {
          "output_type": "display_data",
          "data": {
            "text/plain": [
              "<IPython.core.display.HTML object>"
            ],
            "text/html": [
              "\n",
              "            <style>\n",
              "                .geemap-dark {\n",
              "                    --jp-widgets-color: white;\n",
              "                    --jp-widgets-label-color: white;\n",
              "                    --jp-ui-font-color1: white;\n",
              "                    --jp-layout-color2: #454545;\n",
              "                    background-color: #383838;\n",
              "                }\n",
              "\n",
              "                .geemap-dark .jupyter-button {\n",
              "                    --jp-layout-color3: #383838;\n",
              "                }\n",
              "\n",
              "                .geemap-colab {\n",
              "                    background-color: var(--colab-primary-surface-color, white);\n",
              "                }\n",
              "\n",
              "                .geemap-colab .jupyter-button {\n",
              "                    --jp-layout-color3: var(--colab-primary-surface-color, white);\n",
              "                }\n",
              "            </style>\n",
              "            "
            ]
          },
          "metadata": {}
        },
        {
          "output_type": "execute_result",
          "data": {
            "text/plain": [
              "Index(['2023-01-01', '2023-02-01', '2023-03-01', '2023-04-01', '2023-05-01',\n",
              "       '2023-06-01', '2023-07-01', '2023-08-01', '2023-09-01', '2023-10-01',\n",
              "       '2023-11-01', '2023-12-01', '2024-01-01'],\n",
              "      dtype='object')"
            ]
          },
          "metadata": {},
          "execution_count": 60
        }
      ]
    },
    {
      "cell_type": "code",
      "source": [
        "def resample_img_collection(image_collection: ee.imagecollection.ImageCollection, monthly_range:list) -> ee.imagecollection.ImageCollection:\n",
        "\n",
        "    '''\n",
        "    Downsampling an image collection by a specfic date range, like monthly or weekly\n",
        "    Returns an image collection down sampled\n",
        "    The default aggregation of the images is set as median values\n",
        "    '''\n",
        "    d1,d2 = monthly_range[0], monthly_range[1]\n",
        "    collection = []\n",
        "\n",
        "    for i in range(0, len(monthly_range)-1):\n",
        "        d1,d2 = monthly_range[i], monthly_range[i+1]\n",
        "        c = image_collection.filter(ee.Filter.date(d1,d2))\n",
        "        d1_unix, d2_unix = list(map(lambda x: ee.Date(x).millis(), [d1,d2]))\n",
        "        c = c.median().set('system:time_start', d1_unix).set('system:time_end', d2_unix)\n",
        "        collection.append(c)\n",
        "\n",
        "    new_img_collection = ee.ImageCollection(collection)\n",
        "    return new_img_collection\n",
        "\n",
        "landsat_monthly = resample_img_collection(landsat, monthly_range)"
      ],
      "metadata": {
        "colab": {
          "base_uri": "https://localhost:8080/",
          "height": 17
        },
        "id": "u8L5-4p4kvsh",
        "outputId": "e42a47ba-c35b-4fb5-c2cd-c0a0faa9a758"
      },
      "execution_count": 88,
      "outputs": [
        {
          "output_type": "display_data",
          "data": {
            "text/plain": [
              "<IPython.core.display.HTML object>"
            ],
            "text/html": [
              "\n",
              "            <style>\n",
              "                .geemap-dark {\n",
              "                    --jp-widgets-color: white;\n",
              "                    --jp-widgets-label-color: white;\n",
              "                    --jp-ui-font-color1: white;\n",
              "                    --jp-layout-color2: #454545;\n",
              "                    background-color: #383838;\n",
              "                }\n",
              "\n",
              "                .geemap-dark .jupyter-button {\n",
              "                    --jp-layout-color3: #383838;\n",
              "                }\n",
              "\n",
              "                .geemap-colab {\n",
              "                    background-color: var(--colab-primary-surface-color, white);\n",
              "                }\n",
              "\n",
              "                .geemap-colab .jupyter-button {\n",
              "                    --jp-layout-color3: var(--colab-primary-surface-color, white);\n",
              "                }\n",
              "            </style>\n",
              "            "
            ]
          },
          "metadata": {}
        }
      ]
    },
    {
      "cell_type": "markdown",
      "source": [
        "## Visualize the results\n",
        "\n",
        "In landsat there are multiple bands from which we can plot the RGB image, any spectral indices like NVDI or the surface temperature as mentioned in the documentation\n",
        "\n",
        "Here we will visualize the surface temperature represented by `ST_B10` band"
      ],
      "metadata": {
        "id": "DElGKWuT2jb7"
      }
    },
    {
      "cell_type": "code",
      "source": [
        "def rescale_image(image):\n",
        "    temp = image.select('ST_B10').multiply(0.00341802).add(149).rename('temp') ## in kelvin\n",
        "    temp = temp.subtract(273.15)\n",
        "    return temp.copyProperties(image, ['system:time_start', 'system:time_end'])\n",
        "\n",
        "surf_temp = landsat_monthly.map(rescale_image)\n",
        "surf_temp.size()"
      ],
      "metadata": {
        "id": "Sdao_5_BsDGC",
        "outputId": "65bf10e6-fed6-4f26-af5a-9043be6319b4",
        "colab": {
          "base_uri": "https://localhost:8080/",
          "height": 67
        }
      },
      "execution_count": 150,
      "outputs": [
        {
          "output_type": "display_data",
          "data": {
            "text/plain": [
              "<IPython.core.display.HTML object>"
            ],
            "text/html": [
              "\n",
              "            <style>\n",
              "                .geemap-dark {\n",
              "                    --jp-widgets-color: white;\n",
              "                    --jp-widgets-label-color: white;\n",
              "                    --jp-ui-font-color1: white;\n",
              "                    --jp-layout-color2: #454545;\n",
              "                    background-color: #383838;\n",
              "                }\n",
              "\n",
              "                .geemap-dark .jupyter-button {\n",
              "                    --jp-layout-color3: #383838;\n",
              "                }\n",
              "\n",
              "                .geemap-colab {\n",
              "                    background-color: var(--colab-primary-surface-color, white);\n",
              "                }\n",
              "\n",
              "                .geemap-colab .jupyter-button {\n",
              "                    --jp-layout-color3: var(--colab-primary-surface-color, white);\n",
              "                }\n",
              "            </style>\n",
              "            "
            ]
          },
          "metadata": {}
        },
        {
          "output_type": "execute_result",
          "data": {
            "text/plain": [
              "<ee.ee_number.Number at 0x784a2be8e5f0>"
            ],
            "text/html": [
              "<div><style>:root {\n",
              "  --font-color-primary: var(--jp-content-font-color0, rgba(0, 0, 0, 1));\n",
              "  --font-color-secondary: var(--jp-content-font-color2, rgba(0, 0, 0, 0.6));\n",
              "  --font-color-accent: rgba(123, 31, 162, 1);\n",
              "  --border-color: var(--jp-border-color2, #e0e0e0);\n",
              "  --background-color: var(--jp-layout-color0, white);\n",
              "  --background-color-row-even: var(--jp-layout-color1, white);\n",
              "  --background-color-row-odd: var(--jp-layout-color2, #eeeeee);\n",
              "}\n",
              "\n",
              "html[theme=\"dark\"],\n",
              "body[data-theme=\"dark\"],\n",
              "body.vscode-dark {\n",
              "  --font-color-primary: rgba(255, 255, 255, 1);\n",
              "  --font-color-secondary: rgba(255, 255, 255, 0.6);\n",
              "  --font-color-accent: rgb(173, 132, 190);\n",
              "  --border-color: #2e2e2e;\n",
              "  --background-color: #111111;\n",
              "  --background-color-row-even: #111111;\n",
              "  --background-color-row-odd: #313131;\n",
              "}\n",
              "\n",
              ".ee {\n",
              "  padding: 1em;\n",
              "  line-height: 1.5em;\n",
              "  min-width: 300px;\n",
              "  max-width: 1200px;\n",
              "  overflow-y: scroll;\n",
              "  max-height: 600px;\n",
              "  border: 1px solid var(--border-color);\n",
              "  font-family: monospace;\n",
              "}\n",
              "\n",
              ".ee li {\n",
              "  list-style-type: none;\n",
              "}\n",
              "\n",
              ".ee ul {\n",
              "  padding-left: 1.5em !important;\n",
              "  margin: 0;\n",
              "}\n",
              "\n",
              ".ee > ul {\n",
              "  padding-left: 0 !important;\n",
              "}\n",
              "\n",
              ".ee-open,\n",
              ".ee-shut {\n",
              "  color: var(--font-color-secondary);\n",
              "  cursor: pointer;\n",
              "  margin: 0;\n",
              "}\n",
              "\n",
              ".ee-open:hover,\n",
              ".ee-shut:hover {\n",
              "  color: var(--font-color-primary);\n",
              "}\n",
              "\n",
              ".ee-k {\n",
              "  color: var(--font-color-accent);\n",
              "  margin-right: 6px;\n",
              "}\n",
              "\n",
              ".ee-v {\n",
              "  color: var(--font-color-primary);\n",
              "}\n",
              "\n",
              ".ee-toggle {\n",
              "  display: none;\n",
              "}\n",
              "\n",
              ".ee-shut + ul {\n",
              "  display: none;\n",
              "}\n",
              "\n",
              ".ee-open + ul {\n",
              "  display: block;\n",
              "}\n",
              "\n",
              ".ee-shut::before {\n",
              "  display: inline-block;\n",
              "  content: \"▼\";\n",
              "  margin-right: 6px;\n",
              "  transform: rotate(-90deg);\n",
              "  transition: transform 0.2s;\n",
              "}\n",
              "\n",
              ".ee-open::before {\n",
              "  transform: rotate(0deg);\n",
              "  display: inline-block;\n",
              "  content: \"▼\";\n",
              "  margin-right: 6px;\n",
              "  transition: transform 0.2s;\n",
              "}\n",
              "</style><div class='ee'><ul><li><span class='ee-v'>12</span></li></ul></div><script>function toggleHeader() {\n",
              "    const parent = this.parentElement;\n",
              "    parent.className = parent.className === \"ee-open\" ? \"ee-shut\" : \"ee-open\";\n",
              "}\n",
              "\n",
              "for (let c of document.getElementsByClassName(\"ee-toggle\")) {\n",
              "    c.onclick = toggleHeader;\n",
              "}</script></div>"
            ]
          },
          "metadata": {},
          "execution_count": 150
        }
      ]
    },
    {
      "cell_type": "code",
      "source": [
        "# Map = geemap.Map()\n",
        "\n",
        "# ## Calculate the median composite and select values greater than 0 only\n",
        "# ndwi = landsat.median().clip(geometry)\n",
        "\n",
        "# ## Mask the image: this will set all the values\n",
        "# thr = ndwi.gt(0)\n",
        "# ndwi_masked = thr.updateMask(thr)\n",
        "\n",
        "# vizParams = {\n",
        "#     'min': 0,\n",
        "#     'max': 1,\n",
        "#     'palette': ['#ece7f2','#a6bddb','#2b8cbe']\n",
        "# }\n",
        "\n",
        "# Map.addLayer(ndwi_masked.clip(geometry), vizParams, 'NDWI')\n",
        "\n",
        "# Map.centerObject(geometry, 12)\n",
        "# Map"
      ],
      "metadata": {
        "id": "wFfsBpmWyECD"
      },
      "execution_count": null,
      "outputs": []
    },
    {
      "cell_type": "markdown",
      "source": [
        "## Plotting the time series\n"
      ],
      "metadata": {
        "id": "4d9u_Q_wyj1x"
      }
    },
    {
      "cell_type": "code",
      "source": [
        "def summarizeRegion(image, geometry, bandName):\n",
        "    '''\n",
        "    Compute the average regional stat of a given image\n",
        "    and store it in image property metadata\n",
        "    '''\n",
        "    stat = ee.Number(image.reduceRegion(\n",
        "        reducer = ee.Reducer.mean(),\n",
        "        geometry = geometry,\n",
        "        scale = 10, ## scale = 10 m pixel, gee will down/up sample the image as required\n",
        "        maxPixels = 1e10\n",
        "    ).get(bandName))\n",
        "\n",
        "    return image.set('average_stat', stat)\n",
        "\n",
        "\n",
        "# Get a list of dictionaries containing image information\n",
        "\n",
        "def extract_time_series(image_collection, stat='average_stat'):\n",
        "    '''\n",
        "    Extract timeseries values, the average values and the time\n",
        "    here time will be converted to python datetime object\n",
        "    It will set as none where average value is not found\n",
        "    '''\n",
        "\n",
        "    image_list = image_collection.getInfo()['features']\n",
        "    properties = [img['properties'] for img in image_list]\n",
        "\n",
        "    x, y = [], []\n",
        "    for prop in properties:\n",
        "        try:\n",
        "            stat = prop['average_stat']\n",
        "            time = prop['GENERATION_TIME']/1000 ## in seconds\n",
        "            time = datetime.fromtimestamp(time) #.strftime('%Y-%m-%d')\n",
        "        except:\n",
        "            stat = float('nan')\n",
        "\n",
        "        y.append(stat)\n",
        "        x.append(time)\n",
        "\n",
        "    return x,y\n",
        "\n",
        "def plot_time_series(x,y):\n",
        "    '''\n",
        "    Plot the time series given the x - datetime, y- stat\n",
        "    and return a matplotlib figure\n",
        "    '''\n",
        "\n",
        "    fig,ax = plt.subplots(figsize=(15,5))\n",
        "    x,y = extract_time_series(indices)\n",
        "    ax.plot(x,y)\n",
        "    ax.set_xlabel(\"Date\")\n",
        "    ax.set_ylabel('Average NDVI')\n",
        "    ax.set_title(\"Average NDVI\")\n",
        "    return fig"
      ],
      "metadata": {
        "id": "4R1NONvJw8c9",
        "outputId": "bee3eec6-3fa3-4ef0-d10e-9bad75391e56",
        "colab": {
          "base_uri": "https://localhost:8080/",
          "height": 67
        }
      },
      "execution_count": 148,
      "outputs": [
        {
          "output_type": "display_data",
          "data": {
            "text/plain": [
              "<IPython.core.display.HTML object>"
            ],
            "text/html": [
              "\n",
              "            <style>\n",
              "                .geemap-dark {\n",
              "                    --jp-widgets-color: white;\n",
              "                    --jp-widgets-label-color: white;\n",
              "                    --jp-ui-font-color1: white;\n",
              "                    --jp-layout-color2: #454545;\n",
              "                    background-color: #383838;\n",
              "                }\n",
              "\n",
              "                .geemap-dark .jupyter-button {\n",
              "                    --jp-layout-color3: #383838;\n",
              "                }\n",
              "\n",
              "                .geemap-colab {\n",
              "                    background-color: var(--colab-primary-surface-color, white);\n",
              "                }\n",
              "\n",
              "                .geemap-colab .jupyter-button {\n",
              "                    --jp-layout-color3: var(--colab-primary-surface-color, white);\n",
              "                }\n",
              "            </style>\n",
              "            "
            ]
          },
          "metadata": {}
        },
        {
          "output_type": "execute_result",
          "data": {
            "text/plain": [
              "<ee.computedobject.ComputedObject at 0x784a2be8d030>"
            ],
            "text/html": [
              "<div><style>:root {\n",
              "  --font-color-primary: var(--jp-content-font-color0, rgba(0, 0, 0, 1));\n",
              "  --font-color-secondary: var(--jp-content-font-color2, rgba(0, 0, 0, 0.6));\n",
              "  --font-color-accent: rgba(123, 31, 162, 1);\n",
              "  --border-color: var(--jp-border-color2, #e0e0e0);\n",
              "  --background-color: var(--jp-layout-color0, white);\n",
              "  --background-color-row-even: var(--jp-layout-color1, white);\n",
              "  --background-color-row-odd: var(--jp-layout-color2, #eeeeee);\n",
              "}\n",
              "\n",
              "html[theme=\"dark\"],\n",
              "body[data-theme=\"dark\"],\n",
              "body.vscode-dark {\n",
              "  --font-color-primary: rgba(255, 255, 255, 1);\n",
              "  --font-color-secondary: rgba(255, 255, 255, 0.6);\n",
              "  --font-color-accent: rgb(173, 132, 190);\n",
              "  --border-color: #2e2e2e;\n",
              "  --background-color: #111111;\n",
              "  --background-color-row-even: #111111;\n",
              "  --background-color-row-odd: #313131;\n",
              "}\n",
              "\n",
              ".ee {\n",
              "  padding: 1em;\n",
              "  line-height: 1.5em;\n",
              "  min-width: 300px;\n",
              "  max-width: 1200px;\n",
              "  overflow-y: scroll;\n",
              "  max-height: 600px;\n",
              "  border: 1px solid var(--border-color);\n",
              "  font-family: monospace;\n",
              "}\n",
              "\n",
              ".ee li {\n",
              "  list-style-type: none;\n",
              "}\n",
              "\n",
              ".ee ul {\n",
              "  padding-left: 1.5em !important;\n",
              "  margin: 0;\n",
              "}\n",
              "\n",
              ".ee > ul {\n",
              "  padding-left: 0 !important;\n",
              "}\n",
              "\n",
              ".ee-open,\n",
              ".ee-shut {\n",
              "  color: var(--font-color-secondary);\n",
              "  cursor: pointer;\n",
              "  margin: 0;\n",
              "}\n",
              "\n",
              ".ee-open:hover,\n",
              ".ee-shut:hover {\n",
              "  color: var(--font-color-primary);\n",
              "}\n",
              "\n",
              ".ee-k {\n",
              "  color: var(--font-color-accent);\n",
              "  margin-right: 6px;\n",
              "}\n",
              "\n",
              ".ee-v {\n",
              "  color: var(--font-color-primary);\n",
              "}\n",
              "\n",
              ".ee-toggle {\n",
              "  display: none;\n",
              "}\n",
              "\n",
              ".ee-shut + ul {\n",
              "  display: none;\n",
              "}\n",
              "\n",
              ".ee-open + ul {\n",
              "  display: block;\n",
              "}\n",
              "\n",
              ".ee-shut::before {\n",
              "  display: inline-block;\n",
              "  content: \"▼\";\n",
              "  margin-right: 6px;\n",
              "  transform: rotate(-90deg);\n",
              "  transition: transform 0.2s;\n",
              "}\n",
              "\n",
              ".ee-open::before {\n",
              "  transform: rotate(0deg);\n",
              "  display: inline-block;\n",
              "  content: \"▼\";\n",
              "  margin-right: 6px;\n",
              "  transition: transform 0.2s;\n",
              "}\n",
              "</style><div class='ee'><ul><li><span class='ee-v'>None</span></li></ul></div><script>function toggleHeader() {\n",
              "    const parent = this.parentElement;\n",
              "    parent.className = parent.className === \"ee-open\" ? \"ee-shut\" : \"ee-open\";\n",
              "}\n",
              "\n",
              "for (let c of document.getElementsByClassName(\"ee-toggle\")) {\n",
              "    c.onclick = toggleHeader;\n",
              "}</script></div>"
            ]
          },
          "metadata": {},
          "execution_count": 148
        }
      ]
    },
    {
      "cell_type": "markdown",
      "source": [
        "## Resources\n",
        "\n",
        "1. [ee.Date](https://developers.google.com/earth-engine/apidocs/ee-date)\n",
        "2. [ee.ImageCollection.merge](https://developers.google.com/earth-engine/apidocs/ee-imagecollection-merge)"
      ],
      "metadata": {
        "id": "-kB4amBFtqXM"
      }
    }
  ]
}