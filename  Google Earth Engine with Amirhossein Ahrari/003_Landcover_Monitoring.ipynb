{
  "nbformat": 4,
  "nbformat_minor": 0,
  "metadata": {
    "colab": {
      "provenance": [],
      "authorship_tag": "ABX9TyPH4mmM2tQcdoxVKHd/ZAk6",
      "include_colab_link": true
    },
    "kernelspec": {
      "name": "python3",
      "display_name": "Python 3"
    },
    "language_info": {
      "name": "python"
    }
  },
  "cells": [
    {
      "cell_type": "markdown",
      "metadata": {
        "id": "view-in-github",
        "colab_type": "text"
      },
      "source": [
        "<a href=\"https://colab.research.google.com/github/kavyajeetbora/end_to_end_gee_with_python/blob/master/%20Google%20Earth%20Engine%20with%20Amirhossein%20Ahrari/003_Landcover_Monitoring.ipynb\" target=\"_parent\"><img src=\"https://colab.research.google.com/assets/colab-badge.svg\" alt=\"Open In Colab\"/></a>"
      ]
    },
    {
      "cell_type": "markdown",
      "source": [
        "## Cropland monitoring using MODIS Landcover product\n",
        "\n",
        "We will use the ESA WorldCover Globa dataset to classify the landcover types\n",
        "\n",
        "- Calculate the land cover for each class and present it percentage wise\n",
        "- Visualize the map\n",
        "- plot a bar plot to show the distribution or Pie chart whichever suits better\n",
        "- Report the area of each land cover class that can be use to display in a dashboard\n"
      ],
      "metadata": {
        "id": "2fXWbY9GE69X"
      }
    },
    {
      "cell_type": "code",
      "execution_count": 12,
      "metadata": {
        "colab": {
          "base_uri": "https://localhost:8080/",
          "height": 17
        },
        "id": "WRYbJGtaEjm_",
        "outputId": "8a877194-4c7e-4577-f75a-dec285bcecd9"
      },
      "outputs": [
        {
          "output_type": "display_data",
          "data": {
            "text/plain": [
              "<IPython.core.display.HTML object>"
            ],
            "text/html": [
              "\n",
              "            <style>\n",
              "                .geemap-dark {\n",
              "                    --jp-widgets-color: white;\n",
              "                    --jp-widgets-label-color: white;\n",
              "                    --jp-ui-font-color1: white;\n",
              "                    --jp-layout-color2: #454545;\n",
              "                    background-color: #383838;\n",
              "                }\n",
              "\n",
              "                .geemap-dark .jupyter-button {\n",
              "                    --jp-layout-color3: #383838;\n",
              "                }\n",
              "\n",
              "                .geemap-colab {\n",
              "                    background-color: var(--colab-primary-surface-color, white);\n",
              "                }\n",
              "\n",
              "                .geemap-colab .jupyter-button {\n",
              "                    --jp-layout-color3: var(--colab-primary-surface-color, white);\n",
              "                }\n",
              "            </style>\n",
              "            "
            ]
          },
          "metadata": {}
        }
      ],
      "source": [
        "import geemap\n",
        "import ee\n",
        "from datetime import datetime, timedelta\n",
        "import pandas as pd\n",
        "import matplotlib.pyplot as plt\n",
        "\n",
        "ee.Authenticate()\n",
        "ee.Initialize(project='kavyajeetbora-ee')\n",
        "\n",
        "def filterImageCollection(\n",
        "        image_collection_id: str,\n",
        "        geometry: ee.geometry.Geometry,\n",
        "        date_range: tuple[str],\n",
        "        cloud_cover = 10\n",
        "    ) -> ee.imagecollection.ImageCollection:\n",
        "\n",
        "    imageCollection = ee.ImageCollection(image_collection_id)\n",
        "    d1,d2 = date_range\n",
        "    filtered = imageCollection.filter(\n",
        "       ee.Filter.lt('CLOUD_COVER', 10)\n",
        "    )\\\n",
        "    .filter(\n",
        "        ee.Filter.date(d1, d2) ## Filter by date\n",
        "    ).filter(\n",
        "        ee.Filter.bounds(geometry) ## Filter by bounds\n",
        "    )\n",
        "\n",
        "    return filtered\n",
        "\n",
        "## Get the area of interest\n",
        "admin = ee.FeatureCollection('FAO/GAUL_SIMPLIFIED_500m/2015/level2')\n",
        "delhi = admin.filter(ee.Filter.eq('ADM1_NAME', 'Delhi'))\\\n",
        ".filter(ee.Filter.eq('ADM2_NAME', 'Delhi'))\n",
        "\n",
        "geometry = delhi.geometry()"
      ]
    },
    {
      "cell_type": "code",
      "source": [
        "ee.ImageCollection('ESA/WorldCover/v200')"
      ],
      "metadata": {
        "colab": {
          "base_uri": "https://localhost:8080/",
          "height": 509
        },
        "id": "nbpHpUntI1EN",
        "outputId": "55cdb5cb-c10f-45f2-ce5d-4a3c17d20819"
      },
      "execution_count": 16,
      "outputs": [
        {
          "output_type": "display_data",
          "data": {
            "text/plain": [
              "<IPython.core.display.HTML object>"
            ],
            "text/html": [
              "\n",
              "            <style>\n",
              "                .geemap-dark {\n",
              "                    --jp-widgets-color: white;\n",
              "                    --jp-widgets-label-color: white;\n",
              "                    --jp-ui-font-color1: white;\n",
              "                    --jp-layout-color2: #454545;\n",
              "                    background-color: #383838;\n",
              "                }\n",
              "\n",
              "                .geemap-dark .jupyter-button {\n",
              "                    --jp-layout-color3: #383838;\n",
              "                }\n",
              "\n",
              "                .geemap-colab {\n",
              "                    background-color: var(--colab-primary-surface-color, white);\n",
              "                }\n",
              "\n",
              "                .geemap-colab .jupyter-button {\n",
              "                    --jp-layout-color3: var(--colab-primary-surface-color, white);\n",
              "                }\n",
              "            </style>\n",
              "            "
            ]
          },
          "metadata": {}
        },
        {
          "output_type": "execute_result",
          "data": {
            "text/plain": [
              "<ee.imagecollection.ImageCollection at 0x7a8613fef250>"
            ],
            "text/html": [
              "<div><style>:root {\n",
              "  --font-color-primary: var(--jp-content-font-color0, rgba(0, 0, 0, 1));\n",
              "  --font-color-secondary: var(--jp-content-font-color2, rgba(0, 0, 0, 0.6));\n",
              "  --font-color-accent: rgba(123, 31, 162, 1);\n",
              "  --border-color: var(--jp-border-color2, #e0e0e0);\n",
              "  --background-color: var(--jp-layout-color0, white);\n",
              "  --background-color-row-even: var(--jp-layout-color1, white);\n",
              "  --background-color-row-odd: var(--jp-layout-color2, #eeeeee);\n",
              "}\n",
              "\n",
              "html[theme=\"dark\"],\n",
              "body[data-theme=\"dark\"],\n",
              "body.vscode-dark {\n",
              "  --font-color-primary: rgba(255, 255, 255, 1);\n",
              "  --font-color-secondary: rgba(255, 255, 255, 0.6);\n",
              "  --font-color-accent: rgb(173, 132, 190);\n",
              "  --border-color: #2e2e2e;\n",
              "  --background-color: #111111;\n",
              "  --background-color-row-even: #111111;\n",
              "  --background-color-row-odd: #313131;\n",
              "}\n",
              "\n",
              ".ee {\n",
              "  padding: 1em;\n",
              "  line-height: 1.5em;\n",
              "  min-width: 300px;\n",
              "  max-width: 1200px;\n",
              "  overflow-y: scroll;\n",
              "  max-height: 600px;\n",
              "  border: 1px solid var(--border-color);\n",
              "  font-family: monospace;\n",
              "}\n",
              "\n",
              ".ee li {\n",
              "  list-style-type: none;\n",
              "}\n",
              "\n",
              ".ee ul {\n",
              "  padding-left: 1.5em !important;\n",
              "  margin: 0;\n",
              "}\n",
              "\n",
              ".ee > ul {\n",
              "  padding-left: 0 !important;\n",
              "}\n",
              "\n",
              ".ee-open,\n",
              ".ee-shut {\n",
              "  color: var(--font-color-secondary);\n",
              "  cursor: pointer;\n",
              "  margin: 0;\n",
              "}\n",
              "\n",
              ".ee-open:hover,\n",
              ".ee-shut:hover {\n",
              "  color: var(--font-color-primary);\n",
              "}\n",
              "\n",
              ".ee-k {\n",
              "  color: var(--font-color-accent);\n",
              "  margin-right: 6px;\n",
              "}\n",
              "\n",
              ".ee-v {\n",
              "  color: var(--font-color-primary);\n",
              "}\n",
              "\n",
              ".ee-toggle {\n",
              "  display: none;\n",
              "}\n",
              "\n",
              ".ee-shut + ul {\n",
              "  display: none;\n",
              "}\n",
              "\n",
              ".ee-open + ul {\n",
              "  display: block;\n",
              "}\n",
              "\n",
              ".ee-shut::before {\n",
              "  display: inline-block;\n",
              "  content: \"▼\";\n",
              "  margin-right: 6px;\n",
              "  transform: rotate(-90deg);\n",
              "  transition: transform 0.2s;\n",
              "}\n",
              "\n",
              ".ee-open::before {\n",
              "  transform: rotate(0deg);\n",
              "  display: inline-block;\n",
              "  content: \"▼\";\n",
              "  margin-right: 6px;\n",
              "  transition: transform 0.2s;\n",
              "}\n",
              "</style><div class='ee'><ul><li><label class='ee-shut'>ImageCollection ESA/WorldCover/v200  (1 element)<input type='checkbox' class='ee-toggle'></label><ul><li><span class='ee-k'>type:</span><span class='ee-v'>ImageCollection</span></li><li><span class='ee-k'>id:</span><span class='ee-v'>ESA/WorldCover/v200</span></li><li><span class='ee-k'>version:</span><span class='ee-v'>1699537813333727</span></li><li><label class='ee-shut'>bands: []<input type='checkbox' class='ee-toggle'></label><ul></ul></li><li><label class='ee-shut'>properties: Object (1 property)<input type='checkbox' class='ee-toggle'></label><ul><li><span class='ee-k'>max_mirrored_version:</span><span class='ee-v'>1699489608680902</span></li></ul></li><li><label class='ee-shut'>features: List (1 element)<input type='checkbox' class='ee-toggle'></label><ul><li><label class='ee-shut'>0: Image ESA/WorldCover/v200/2021 (1 band)<input type='checkbox' class='ee-toggle'></label><ul><li><span class='ee-k'>type:</span><span class='ee-v'>Image</span></li><li><span class='ee-k'>id:</span><span class='ee-v'>ESA/WorldCover/v200/2021</span></li><li><span class='ee-k'>version:</span><span class='ee-v'>1699537784392512</span></li><li><label class='ee-shut'>bands: List (1 element)<input type='checkbox' class='ee-toggle'></label><ul><li><label class='ee-shut'>0: \"Map\", unsigned int8, EPSG:4326, 4320000x1728000 px<input type='checkbox' class='ee-toggle'></label><ul><li><span class='ee-k'>id:</span><span class='ee-v'>Map</span></li><li><span class='ee-k'>crs:</span><span class='ee-v'>EPSG:4326</span></li><li><label class='ee-shut'>crs_transform: List (6 elements)<input type='checkbox' class='ee-toggle'></label><ul><li><span class='ee-k'>0:</span><span class='ee-v'>8.333333333333333e-05</span></li><li><span class='ee-k'>1:</span><span class='ee-v'>0</span></li><li><span class='ee-k'>2:</span><span class='ee-v'>-180</span></li><li><span class='ee-k'>3:</span><span class='ee-v'>0</span></li><li><span class='ee-k'>4:</span><span class='ee-v'>-8.333333333333333e-05</span></li><li><span class='ee-k'>5:</span><span class='ee-v'>84</span></li></ul></li><li><label class='ee-shut'>data_type: unsigned int8<input type='checkbox' class='ee-toggle'></label><ul><li><span class='ee-k'>type:</span><span class='ee-v'>PixelType</span></li><li><span class='ee-k'>max:</span><span class='ee-v'>255</span></li><li><span class='ee-k'>min:</span><span class='ee-v'>0</span></li><li><span class='ee-k'>precision:</span><span class='ee-v'>int</span></li></ul></li><li><label class='ee-shut'>dimensions: [4320000, 1728000]<input type='checkbox' class='ee-toggle'></label><ul><li><span class='ee-k'>0:</span><span class='ee-v'>4320000</span></li><li><span class='ee-k'>1:</span><span class='ee-v'>1728000</span></li></ul></li></ul></li></ul></li><li><label class='ee-shut'>properties: Object (8 properties)<input type='checkbox' class='ee-toggle'></label><ul><li><label class='ee-shut'>Map_class_names: List (11 elements)<input type='checkbox' class='ee-toggle'></label><ul><li><span class='ee-k'>0:</span><span class='ee-v'>Tree cover</span></li><li><span class='ee-k'>1:</span><span class='ee-v'>Shrubland</span></li><li><span class='ee-k'>2:</span><span class='ee-v'>Grassland</span></li><li><span class='ee-k'>3:</span><span class='ee-v'>Cropland</span></li><li><span class='ee-k'>4:</span><span class='ee-v'>Built-up</span></li><li><span class='ee-k'>5:</span><span class='ee-v'>Bare / sparse vegetation</span></li><li><span class='ee-k'>6:</span><span class='ee-v'>Snow and ice</span></li><li><span class='ee-k'>7:</span><span class='ee-v'>Permanent water bodies</span></li><li><span class='ee-k'>8:</span><span class='ee-v'>Herbaceous wetland</span></li><li><span class='ee-k'>9:</span><span class='ee-v'>Mangroves</span></li><li><span class='ee-k'>10:</span><span class='ee-v'>Moss and lichen</span></li></ul></li><li><label class='ee-shut'>Map_class_palette: List (11 elements)<input type='checkbox' class='ee-toggle'></label><ul><li><span class='ee-k'>0:</span><span class='ee-v'>006400</span></li><li><span class='ee-k'>1:</span><span class='ee-v'>ffbb22</span></li><li><span class='ee-k'>2:</span><span class='ee-v'>ffff4c</span></li><li><span class='ee-k'>3:</span><span class='ee-v'>f096ff</span></li><li><span class='ee-k'>4:</span><span class='ee-v'>fa0000</span></li><li><span class='ee-k'>5:</span><span class='ee-v'>b4b4b4</span></li><li><span class='ee-k'>6:</span><span class='ee-v'>f0f0f0</span></li><li><span class='ee-k'>7:</span><span class='ee-v'>0064c8</span></li><li><span class='ee-k'>8:</span><span class='ee-v'>0096a0</span></li><li><span class='ee-k'>9:</span><span class='ee-v'>00cf75</span></li><li><span class='ee-k'>10:</span><span class='ee-v'>fae6a0</span></li></ul></li><li><label class='ee-shut'>Map_class_values: [10, 20, 30, 40, 50, 60, 70, 80, 90, 95, 100]<input type='checkbox' class='ee-toggle'></label><ul><li><span class='ee-k'>0:</span><span class='ee-v'>10</span></li><li><span class='ee-k'>1:</span><span class='ee-v'>20</span></li><li><span class='ee-k'>2:</span><span class='ee-v'>30</span></li><li><span class='ee-k'>3:</span><span class='ee-v'>40</span></li><li><span class='ee-k'>4:</span><span class='ee-v'>50</span></li><li><span class='ee-k'>5:</span><span class='ee-v'>60</span></li><li><span class='ee-k'>6:</span><span class='ee-v'>70</span></li><li><span class='ee-k'>7:</span><span class='ee-v'>80</span></li><li><span class='ee-k'>8:</span><span class='ee-v'>90</span></li><li><span class='ee-k'>9:</span><span class='ee-v'>95</span></li><li><span class='ee-k'>10:</span><span class='ee-v'>100</span></li></ul></li><li><span class='ee-k'>system:asset_size:</span><span class='ee-v'>109661138988</span></li><li><label class='ee-shut'>system:footprint: LinearRing (5 vertices)<input type='checkbox' class='ee-toggle'></label><ul><li><span class='ee-k'>type:</span><span class='ee-v'>LinearRing</span></li><li><label class='ee-shut'>coordinates: List (5 elements)<input type='checkbox' class='ee-toggle'></label><ul><li><label class='ee-shut'>0: [-180, -90]<input type='checkbox' class='ee-toggle'></label><ul><li><span class='ee-k'>0:</span><span class='ee-v'>-180</span></li><li><span class='ee-k'>1:</span><span class='ee-v'>-90</span></li></ul></li><li><label class='ee-shut'>1: [180, -90]<input type='checkbox' class='ee-toggle'></label><ul><li><span class='ee-k'>0:</span><span class='ee-v'>180</span></li><li><span class='ee-k'>1:</span><span class='ee-v'>-90</span></li></ul></li><li><label class='ee-shut'>2: [180, 90]<input type='checkbox' class='ee-toggle'></label><ul><li><span class='ee-k'>0:</span><span class='ee-v'>180</span></li><li><span class='ee-k'>1:</span><span class='ee-v'>90</span></li></ul></li><li><label class='ee-shut'>3: [-180, 90]<input type='checkbox' class='ee-toggle'></label><ul><li><span class='ee-k'>0:</span><span class='ee-v'>-180</span></li><li><span class='ee-k'>1:</span><span class='ee-v'>90</span></li></ul></li><li><label class='ee-shut'>4: [-180, -90]<input type='checkbox' class='ee-toggle'></label><ul><li><span class='ee-k'>0:</span><span class='ee-v'>-180</span></li><li><span class='ee-k'>1:</span><span class='ee-v'>-90</span></li></ul></li></ul></li></ul></li><li><span class='ee-k'>system:index:</span><span class='ee-v'>2021</span></li><li><span class='ee-k'>system:time_end:</span><span class='ee-v'>1640991600000</span></li><li><span class='ee-k'>system:time_start:</span><span class='ee-v'>1609455600000</span></li></ul></li></ul></li></ul></li></ul></li></ul></div><script>function toggleHeader() {\n",
              "    const parent = this.parentElement;\n",
              "    parent.className = parent.className === \"ee-open\" ? \"ee-shut\" : \"ee-open\";\n",
              "}\n",
              "\n",
              "for (let c of document.getElementsByClassName(\"ee-toggle\")) {\n",
              "    c.onclick = toggleHeader;\n",
              "}</script></div>"
            ]
          },
          "metadata": {},
          "execution_count": 16
        }
      ]
    },
    {
      "cell_type": "code",
      "source": [
        "date_range = ('2003-01-01', '2024-01-01')\n",
        "cloud_cover=10\n",
        "\n",
        "esa_worldcover = filterImageCollection(\n",
        "    image_collection_id =  \"ESA/WorldCover/v200\",\n",
        "    geometry = geometry,\n",
        "    date_range = date_range,\n",
        "    cloud_cover = cloud_cover\n",
        ")\n",
        "\n",
        "esa_worldcover"
      ],
      "metadata": {
        "colab": {
          "base_uri": "https://localhost:8080/",
          "height": 68
        },
        "id": "tlAGDJZGFAK4",
        "outputId": "ccc5ae70-6cd5-482f-c786-d2c07bdcf80c"
      },
      "execution_count": 14,
      "outputs": [
        {
          "output_type": "display_data",
          "data": {
            "text/plain": [
              "<IPython.core.display.HTML object>"
            ],
            "text/html": [
              "\n",
              "            <style>\n",
              "                .geemap-dark {\n",
              "                    --jp-widgets-color: white;\n",
              "                    --jp-widgets-label-color: white;\n",
              "                    --jp-ui-font-color1: white;\n",
              "                    --jp-layout-color2: #454545;\n",
              "                    background-color: #383838;\n",
              "                }\n",
              "\n",
              "                .geemap-dark .jupyter-button {\n",
              "                    --jp-layout-color3: #383838;\n",
              "                }\n",
              "\n",
              "                .geemap-colab {\n",
              "                    background-color: var(--colab-primary-surface-color, white);\n",
              "                }\n",
              "\n",
              "                .geemap-colab .jupyter-button {\n",
              "                    --jp-layout-color3: var(--colab-primary-surface-color, white);\n",
              "                }\n",
              "            </style>\n",
              "            "
            ]
          },
          "metadata": {}
        },
        {
          "output_type": "execute_result",
          "data": {
            "text/plain": [
              "<ee.ee_number.Number at 0x7a85d992dc30>"
            ],
            "text/html": [
              "<div><style>:root {\n",
              "  --font-color-primary: var(--jp-content-font-color0, rgba(0, 0, 0, 1));\n",
              "  --font-color-secondary: var(--jp-content-font-color2, rgba(0, 0, 0, 0.6));\n",
              "  --font-color-accent: rgba(123, 31, 162, 1);\n",
              "  --border-color: var(--jp-border-color2, #e0e0e0);\n",
              "  --background-color: var(--jp-layout-color0, white);\n",
              "  --background-color-row-even: var(--jp-layout-color1, white);\n",
              "  --background-color-row-odd: var(--jp-layout-color2, #eeeeee);\n",
              "}\n",
              "\n",
              "html[theme=\"dark\"],\n",
              "body[data-theme=\"dark\"],\n",
              "body.vscode-dark {\n",
              "  --font-color-primary: rgba(255, 255, 255, 1);\n",
              "  --font-color-secondary: rgba(255, 255, 255, 0.6);\n",
              "  --font-color-accent: rgb(173, 132, 190);\n",
              "  --border-color: #2e2e2e;\n",
              "  --background-color: #111111;\n",
              "  --background-color-row-even: #111111;\n",
              "  --background-color-row-odd: #313131;\n",
              "}\n",
              "\n",
              ".ee {\n",
              "  padding: 1em;\n",
              "  line-height: 1.5em;\n",
              "  min-width: 300px;\n",
              "  max-width: 1200px;\n",
              "  overflow-y: scroll;\n",
              "  max-height: 600px;\n",
              "  border: 1px solid var(--border-color);\n",
              "  font-family: monospace;\n",
              "}\n",
              "\n",
              ".ee li {\n",
              "  list-style-type: none;\n",
              "}\n",
              "\n",
              ".ee ul {\n",
              "  padding-left: 1.5em !important;\n",
              "  margin: 0;\n",
              "}\n",
              "\n",
              ".ee > ul {\n",
              "  padding-left: 0 !important;\n",
              "}\n",
              "\n",
              ".ee-open,\n",
              ".ee-shut {\n",
              "  color: var(--font-color-secondary);\n",
              "  cursor: pointer;\n",
              "  margin: 0;\n",
              "}\n",
              "\n",
              ".ee-open:hover,\n",
              ".ee-shut:hover {\n",
              "  color: var(--font-color-primary);\n",
              "}\n",
              "\n",
              ".ee-k {\n",
              "  color: var(--font-color-accent);\n",
              "  margin-right: 6px;\n",
              "}\n",
              "\n",
              ".ee-v {\n",
              "  color: var(--font-color-primary);\n",
              "}\n",
              "\n",
              ".ee-toggle {\n",
              "  display: none;\n",
              "}\n",
              "\n",
              ".ee-shut + ul {\n",
              "  display: none;\n",
              "}\n",
              "\n",
              ".ee-open + ul {\n",
              "  display: block;\n",
              "}\n",
              "\n",
              ".ee-shut::before {\n",
              "  display: inline-block;\n",
              "  content: \"▼\";\n",
              "  margin-right: 6px;\n",
              "  transform: rotate(-90deg);\n",
              "  transition: transform 0.2s;\n",
              "}\n",
              "\n",
              ".ee-open::before {\n",
              "  transform: rotate(0deg);\n",
              "  display: inline-block;\n",
              "  content: \"▼\";\n",
              "  margin-right: 6px;\n",
              "  transition: transform 0.2s;\n",
              "}\n",
              "</style><div class='ee'><ul><li><span class='ee-v'>0</span></li></ul></div><script>function toggleHeader() {\n",
              "    const parent = this.parentElement;\n",
              "    parent.className = parent.className === \"ee-open\" ? \"ee-shut\" : \"ee-open\";\n",
              "}\n",
              "\n",
              "for (let c of document.getElementsByClassName(\"ee-toggle\")) {\n",
              "    c.onclick = toggleHeader;\n",
              "}</script></div>"
            ]
          },
          "metadata": {},
          "execution_count": 14
        }
      ]
    }
  ]
}