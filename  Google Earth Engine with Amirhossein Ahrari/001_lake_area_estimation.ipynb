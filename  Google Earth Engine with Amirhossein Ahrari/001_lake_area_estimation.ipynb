{
  "nbformat": 4,
  "nbformat_minor": 0,
  "metadata": {
    "colab": {
      "provenance": [],
      "authorship_tag": "ABX9TyPvbmiFUC15ObiC8NRu0W5c",
      "include_colab_link": true
    },
    "kernelspec": {
      "name": "python3",
      "display_name": "Python 3"
    },
    "language_info": {
      "name": "python"
    },
    "widgets": {
      "application/vnd.jupyter.widget-state+json": {
        "6ea5e01c00cf46eaa70b1536cded2390": {
          "model_module": "jupyter-leaflet",
          "model_name": "LeafletMapModel",
          "model_module_version": "^0.18",
          "state": {
            "_dom_classes": [],
            "_model_module": "jupyter-leaflet",
            "_model_module_version": "^0.18",
            "_model_name": "LeafletMapModel",
            "_view_count": null,
            "_view_module": "jupyter-leaflet",
            "_view_module_version": "^0.18",
            "_view_name": "LeafletMapView",
            "bottom": 109520,
            "bounce_at_zoom_limits": true,
            "box_zoom": true,
            "center": [
              28.724313406473488,
              77.26769107746071
            ],
            "close_popup_on_click": true,
            "controls": [
              "IPY_MODEL_d8422882110440288be5d416c369db78",
              "IPY_MODEL_b06878bb618e46029685ddf1c4a2afab",
              "IPY_MODEL_9108ac3b32ce4f048214f8caec35f327",
              "IPY_MODEL_6961b29894084019be8bf3c80dea7d20",
              "IPY_MODEL_7d37d90496aa44d7963ac1702dddb213",
              "IPY_MODEL_876473eedf0145b2b9938c891d8f0b2a",
              "IPY_MODEL_f4a5581f2c304ad0aa9c10266bfb6f35",
              "IPY_MODEL_de8fb61738b24751b60932dca6174bc5"
            ],
            "crs": {
              "name": "EPSG3857",
              "custom": false
            },
            "default_style": "IPY_MODEL_33aae63d64d343bcbcce2ac30b8d7393",
            "double_click_zoom": true,
            "dragging": true,
            "dragging_style": "IPY_MODEL_9686fd877eba49fcb6cd05b25c8d6710",
            "east": 78.23517459796852,
            "fullscreen": false,
            "inertia": true,
            "inertia_deceleration": 3000,
            "inertia_max_speed": 1500,
            "interpolation": "bilinear",
            "keyboard": true,
            "keyboard_pan_offset": 80,
            "keyboard_zoom_offset": 1,
            "layers": [
              "IPY_MODEL_f0131263669b42f7ac46dbe1bcc04729",
              "IPY_MODEL_f7e71eaff49142e6910fa6291f59958c"
            ],
            "layout": "IPY_MODEL_6edd5cf4515344eb9fbdf9e3b922c1b3",
            "left": 186632.11558280516,
            "max_zoom": 24,
            "min_zoom": null,
            "modisdate": "2024-04-24",
            "north": 29.084976575985912,
            "options": [
              "bounce_at_zoom_limits",
              "box_zoom",
              "center",
              "close_popup_on_click",
              "double_click_zoom",
              "dragging",
              "fullscreen",
              "inertia",
              "inertia_deceleration",
              "inertia_max_speed",
              "interpolation",
              "keyboard",
              "keyboard_pan_offset",
              "keyboard_zoom_offset",
              "max_zoom",
              "min_zoom",
              "prefer_canvas",
              "scroll_wheel_zoom",
              "tap",
              "tap_tolerance",
              "touch_zoom",
              "world_copy_jump",
              "zoom",
              "zoom_animation_threshold",
              "zoom_delta",
              "zoom_snap"
            ],
            "panes": {},
            "prefer_canvas": false,
            "right": 188041.11558280516,
            "scroll_wheel_zoom": true,
            "south": 28.362401735238237,
            "style": "IPY_MODEL_33aae63d64d343bcbcce2ac30b8d7393",
            "tap": true,
            "tap_tolerance": 15,
            "top": 108920,
            "touch_zoom": true,
            "west": 76.30020755695288,
            "window_url": "https://4550a6mxq27-496ff2e9c6d22116-0-colab.googleusercontent.com/outputframe.html?vrz=colab_20240423-060158_RC00_627338680",
            "world_copy_jump": false,
            "zoom": 10,
            "zoom_animation_threshold": 4,
            "zoom_delta": 1,
            "zoom_snap": 1
          }
        },
        "d8422882110440288be5d416c369db78": {
          "model_module": "jupyter-leaflet",
          "model_name": "LeafletWidgetControlModel",
          "model_module_version": "^0.18",
          "state": {
            "_model_module": "jupyter-leaflet",
            "_model_module_version": "^0.18",
            "_model_name": "LeafletWidgetControlModel",
            "_view_count": null,
            "_view_module": "jupyter-leaflet",
            "_view_module_version": "^0.18",
            "_view_name": "LeafletWidgetControlView",
            "max_height": null,
            "max_width": null,
            "min_height": null,
            "min_width": null,
            "options": [
              "position",
              "transparent_bg"
            ],
            "position": "topleft",
            "transparent_bg": false,
            "widget": "IPY_MODEL_54cb46e1109f41e88610447471ef6780"
          }
        },
        "b06878bb618e46029685ddf1c4a2afab": {
          "model_module": "jupyter-leaflet",
          "model_name": "LeafletZoomControlModel",
          "model_module_version": "^0.18",
          "state": {
            "_model_module": "jupyter-leaflet",
            "_model_module_version": "^0.18",
            "_model_name": "LeafletZoomControlModel",
            "_view_count": null,
            "_view_module": "jupyter-leaflet",
            "_view_module_version": "^0.18",
            "_view_name": "LeafletZoomControlView",
            "options": [
              "position",
              "zoom_in_text",
              "zoom_in_title",
              "zoom_out_text",
              "zoom_out_title"
            ],
            "position": "topleft",
            "zoom_in_text": "+",
            "zoom_in_title": "Zoom in",
            "zoom_out_text": "-",
            "zoom_out_title": "Zoom out"
          }
        },
        "9108ac3b32ce4f048214f8caec35f327": {
          "model_module": "jupyter-leaflet",
          "model_name": "LeafletFullScreenControlModel",
          "model_module_version": "^0.18",
          "state": {
            "_model_module": "jupyter-leaflet",
            "_model_module_version": "^0.18",
            "_model_name": "LeafletFullScreenControlModel",
            "_view_count": null,
            "_view_module": "jupyter-leaflet",
            "_view_module_version": "^0.18",
            "_view_name": "LeafletFullScreenControlView",
            "options": [
              "position"
            ],
            "position": "topleft"
          }
        },
        "6961b29894084019be8bf3c80dea7d20": {
          "model_module": "jupyter-leaflet",
          "model_name": "LeafletDrawControlModel",
          "model_module_version": "^0.18",
          "state": {
            "_model_module": "jupyter-leaflet",
            "_model_module_version": "^0.18",
            "_model_name": "LeafletDrawControlModel",
            "_view_count": null,
            "_view_module": "jupyter-leaflet",
            "_view_module_version": "^0.18",
            "_view_name": "LeafletDrawControlView",
            "circle": {},
            "circlemarker": {},
            "data": [],
            "edit": true,
            "marker": {
              "shapeOptions": {
                "color": "#3388ff"
              }
            },
            "options": [
              "position"
            ],
            "polygon": {
              "shapeOptions": {}
            },
            "polyline": {
              "shapeOptions": {}
            },
            "position": "topleft",
            "rectangle": {
              "shapeOptions": {
                "color": "#3388ff"
              }
            },
            "remove": true
          }
        },
        "7d37d90496aa44d7963ac1702dddb213": {
          "model_module": "jupyter-leaflet",
          "model_name": "LeafletScaleControlModel",
          "model_module_version": "^0.18",
          "state": {
            "_model_module": "jupyter-leaflet",
            "_model_module_version": "^0.18",
            "_model_name": "LeafletScaleControlModel",
            "_view_count": null,
            "_view_module": "jupyter-leaflet",
            "_view_module_version": "^0.18",
            "_view_name": "LeafletScaleControlView",
            "imperial": true,
            "max_width": 100,
            "metric": true,
            "options": [
              "imperial",
              "max_width",
              "metric",
              "position",
              "update_when_idle"
            ],
            "position": "bottomleft",
            "update_when_idle": false
          }
        },
        "876473eedf0145b2b9938c891d8f0b2a": {
          "model_module": "jupyter-leaflet",
          "model_name": "LeafletMeasureControlModel",
          "model_module_version": "^0.18",
          "state": {
            "_custom_units": {},
            "_model_module": "jupyter-leaflet",
            "_model_module_version": "^0.18",
            "_model_name": "LeafletMeasureControlModel",
            "_view_count": null,
            "_view_module": "jupyter-leaflet",
            "_view_module_version": "^0.18",
            "_view_name": "LeafletMeasureControlView",
            "active_color": "orange",
            "capture_z_index": 10000,
            "completed_color": "#C8F2BE",
            "options": [
              "active_color",
              "capture_z_index",
              "completed_color",
              "popup_options",
              "position",
              "primary_area_unit",
              "primary_length_unit",
              "secondary_area_unit",
              "secondary_length_unit"
            ],
            "popup_options": {
              "className": "leaflet-measure-resultpopup",
              "autoPanPadding": [
                10,
                10
              ]
            },
            "position": "bottomleft",
            "primary_area_unit": "acres",
            "primary_length_unit": "kilometers",
            "secondary_area_unit": null,
            "secondary_length_unit": null
          }
        },
        "f4a5581f2c304ad0aa9c10266bfb6f35": {
          "model_module": "jupyter-leaflet",
          "model_name": "LeafletWidgetControlModel",
          "model_module_version": "^0.18",
          "state": {
            "_model_module": "jupyter-leaflet",
            "_model_module_version": "^0.18",
            "_model_name": "LeafletWidgetControlModel",
            "_view_count": null,
            "_view_module": "jupyter-leaflet",
            "_view_module_version": "^0.18",
            "_view_name": "LeafletWidgetControlView",
            "max_height": null,
            "max_width": null,
            "min_height": null,
            "min_width": null,
            "options": [
              "position",
              "transparent_bg"
            ],
            "position": "topright",
            "transparent_bg": false,
            "widget": "IPY_MODEL_73f84219fb1748eeb0013966e5aa9c53"
          }
        },
        "de8fb61738b24751b60932dca6174bc5": {
          "model_module": "jupyter-leaflet",
          "model_name": "LeafletAttributionControlModel",
          "model_module_version": "^0.18",
          "state": {
            "_model_module": "jupyter-leaflet",
            "_model_module_version": "^0.18",
            "_model_name": "LeafletAttributionControlModel",
            "_view_count": null,
            "_view_module": "jupyter-leaflet",
            "_view_module_version": "^0.18",
            "_view_name": "LeafletAttributionControlView",
            "options": [
              "position",
              "prefix"
            ],
            "position": "bottomright",
            "prefix": "ipyleaflet"
          }
        },
        "33aae63d64d343bcbcce2ac30b8d7393": {
          "model_module": "jupyter-leaflet",
          "model_name": "LeafletMapStyleModel",
          "model_module_version": "^0.18",
          "state": {
            "_model_module": "jupyter-leaflet",
            "_model_module_version": "^0.18",
            "_model_name": "LeafletMapStyleModel",
            "_view_count": null,
            "_view_module": "@jupyter-widgets/base",
            "_view_module_version": "1.2.0",
            "_view_name": "StyleView",
            "cursor": "grab"
          }
        },
        "9686fd877eba49fcb6cd05b25c8d6710": {
          "model_module": "jupyter-leaflet",
          "model_name": "LeafletMapStyleModel",
          "model_module_version": "^0.18",
          "state": {
            "_model_module": "jupyter-leaflet",
            "_model_module_version": "^0.18",
            "_model_name": "LeafletMapStyleModel",
            "_view_count": null,
            "_view_module": "@jupyter-widgets/base",
            "_view_module_version": "1.2.0",
            "_view_name": "StyleView",
            "cursor": "move"
          }
        },
        "f0131263669b42f7ac46dbe1bcc04729": {
          "model_module": "jupyter-leaflet",
          "model_name": "LeafletTileLayerModel",
          "model_module_version": "^0.18",
          "state": {
            "_model_module": "jupyter-leaflet",
            "_model_module_version": "^0.18",
            "_model_name": "LeafletTileLayerModel",
            "_view_count": null,
            "_view_module": "jupyter-leaflet",
            "_view_module_version": "^0.18",
            "_view_name": "LeafletTileLayerView",
            "attribution": "&copy; <a href=\"https://www.openstreetmap.org/copyright\">OpenStreetMap</a> contributors",
            "base": true,
            "bottom": true,
            "bounds": null,
            "detect_retina": false,
            "loading": false,
            "max_native_zoom": null,
            "max_zoom": 19,
            "min_native_zoom": null,
            "min_zoom": 1,
            "name": "OpenStreetMap.Mapnik",
            "no_wrap": false,
            "opacity": 1,
            "options": [
              "attribution",
              "bounds",
              "detect_retina",
              "max_native_zoom",
              "max_zoom",
              "min_native_zoom",
              "min_zoom",
              "no_wrap",
              "tile_size",
              "tms",
              "zoom_offset"
            ],
            "pane": "",
            "popup": null,
            "popup_max_height": null,
            "popup_max_width": 300,
            "popup_min_width": 50,
            "show_loading": false,
            "subitems": [],
            "tile_size": 256,
            "tms": false,
            "url": "https://tile.openstreetmap.org/{z}/{x}/{y}.png",
            "visible": true,
            "zoom_offset": 0
          }
        },
        "f7e71eaff49142e6910fa6291f59958c": {
          "model_module": "jupyter-leaflet",
          "model_name": "LeafletTileLayerModel",
          "model_module_version": "^0.18",
          "state": {
            "_model_module": "jupyter-leaflet",
            "_model_module_version": "^0.18",
            "_model_name": "LeafletTileLayerModel",
            "_view_count": null,
            "_view_module": "jupyter-leaflet",
            "_view_module_version": "^0.18",
            "_view_name": "LeafletTileLayerView",
            "attribution": "Google Earth Engine",
            "base": false,
            "bottom": true,
            "bounds": null,
            "detect_retina": false,
            "loading": false,
            "max_native_zoom": null,
            "max_zoom": 24,
            "min_native_zoom": null,
            "min_zoom": 0,
            "name": "NDWI",
            "no_wrap": false,
            "opacity": 1,
            "options": [
              "attribution",
              "bounds",
              "detect_retina",
              "max_native_zoom",
              "max_zoom",
              "min_native_zoom",
              "min_zoom",
              "no_wrap",
              "tile_size",
              "tms",
              "zoom_offset"
            ],
            "pane": "",
            "popup": null,
            "popup_max_height": null,
            "popup_max_width": 300,
            "popup_min_width": 50,
            "show_loading": false,
            "subitems": [],
            "tile_size": 256,
            "tms": false,
            "url": "https://earthengine.googleapis.com/v1/projects/kavyajeetbora-ee/maps/41948f6b217420287282e5dd1cb3e8b4-902ddbb5315f7b2c97f0b0f5a77c180a/tiles/{z}/{x}/{y}",
            "visible": true,
            "zoom_offset": 0
          }
        },
        "6edd5cf4515344eb9fbdf9e3b922c1b3": {
          "model_module": "@jupyter-widgets/base",
          "model_name": "LayoutModel",
          "model_module_version": "1.2.0",
          "state": {
            "_model_module": "@jupyter-widgets/base",
            "_model_module_version": "1.2.0",
            "_model_name": "LayoutModel",
            "_view_count": null,
            "_view_module": "@jupyter-widgets/base",
            "_view_module_version": "1.2.0",
            "_view_name": "LayoutView",
            "align_content": null,
            "align_items": null,
            "align_self": null,
            "border": null,
            "bottom": null,
            "display": null,
            "flex": null,
            "flex_flow": null,
            "grid_area": null,
            "grid_auto_columns": null,
            "grid_auto_flow": null,
            "grid_auto_rows": null,
            "grid_column": null,
            "grid_gap": null,
            "grid_row": null,
            "grid_template_areas": null,
            "grid_template_columns": null,
            "grid_template_rows": null,
            "height": "600px",
            "justify_content": null,
            "justify_items": null,
            "left": null,
            "margin": null,
            "max_height": null,
            "max_width": null,
            "min_height": null,
            "min_width": null,
            "object_fit": null,
            "object_position": null,
            "order": null,
            "overflow": null,
            "overflow_x": null,
            "overflow_y": null,
            "padding": null,
            "right": null,
            "top": null,
            "visibility": null,
            "width": null
          }
        },
        "6a66035b14474c919e6611391ce772a9": {
          "model_module": "jupyter-leaflet",
          "model_name": "LeafletMapStyleModel",
          "model_module_version": "^0.18",
          "state": {
            "_model_module": "jupyter-leaflet",
            "_model_module_version": "^0.18",
            "_model_name": "LeafletMapStyleModel",
            "_view_count": null,
            "_view_module": "@jupyter-widgets/base",
            "_view_module_version": "1.2.0",
            "_view_name": "StyleView",
            "cursor": "grab"
          }
        },
        "54cb46e1109f41e88610447471ef6780": {
          "model_module": "@jupyter-widgets/controls",
          "model_name": "HBoxModel",
          "model_module_version": "1.5.0",
          "state": {
            "_dom_classes": [
              "geemap-colab"
            ],
            "_model_module": "@jupyter-widgets/controls",
            "_model_module_version": "1.5.0",
            "_model_name": "HBoxModel",
            "_view_count": null,
            "_view_module": "@jupyter-widgets/controls",
            "_view_module_version": "1.5.0",
            "_view_name": "HBoxView",
            "box_style": "",
            "children": [
              "IPY_MODEL_50b4abed088f47bfbfa6cdb596ff8f1c"
            ],
            "layout": "IPY_MODEL_d05738fd6c6a4eaaab4f84601a0b63ed"
          }
        },
        "73f84219fb1748eeb0013966e5aa9c53": {
          "model_module": "@jupyter-widgets/controls",
          "model_name": "VBoxModel",
          "model_module_version": "1.5.0",
          "state": {
            "_dom_classes": [
              "geemap-colab"
            ],
            "_model_module": "@jupyter-widgets/controls",
            "_model_module_version": "1.5.0",
            "_model_name": "VBoxModel",
            "_view_count": null,
            "_view_module": "@jupyter-widgets/controls",
            "_view_module_version": "1.5.0",
            "_view_name": "VBoxView",
            "box_style": "",
            "children": [
              "IPY_MODEL_312060235fef4880a8cbe3aeb2460e10"
            ],
            "layout": "IPY_MODEL_325169f2afc34956a3d80922964b0777"
          }
        },
        "50b4abed088f47bfbfa6cdb596ff8f1c": {
          "model_module": "@jupyter-widgets/controls",
          "model_name": "ToggleButtonModel",
          "model_module_version": "1.5.0",
          "state": {
            "_dom_classes": [],
            "_model_module": "@jupyter-widgets/controls",
            "_model_module_version": "1.5.0",
            "_model_name": "ToggleButtonModel",
            "_view_count": null,
            "_view_module": "@jupyter-widgets/controls",
            "_view_module_version": "1.5.0",
            "_view_name": "ToggleButtonView",
            "button_style": "",
            "description": "",
            "description_tooltip": null,
            "disabled": false,
            "icon": "globe",
            "layout": "IPY_MODEL_5a39e88046804e4682355e3886f4ad81",
            "style": "IPY_MODEL_52f61dfb466e4a229262d0defddffeb5",
            "tooltip": "Search location/data",
            "value": false
          }
        },
        "d05738fd6c6a4eaaab4f84601a0b63ed": {
          "model_module": "@jupyter-widgets/base",
          "model_name": "LayoutModel",
          "model_module_version": "1.2.0",
          "state": {
            "_model_module": "@jupyter-widgets/base",
            "_model_module_version": "1.2.0",
            "_model_name": "LayoutModel",
            "_view_count": null,
            "_view_module": "@jupyter-widgets/base",
            "_view_module_version": "1.2.0",
            "_view_name": "LayoutView",
            "align_content": null,
            "align_items": null,
            "align_self": null,
            "border": null,
            "bottom": null,
            "display": null,
            "flex": null,
            "flex_flow": null,
            "grid_area": null,
            "grid_auto_columns": null,
            "grid_auto_flow": null,
            "grid_auto_rows": null,
            "grid_column": null,
            "grid_gap": null,
            "grid_row": null,
            "grid_template_areas": null,
            "grid_template_columns": null,
            "grid_template_rows": null,
            "height": null,
            "justify_content": null,
            "justify_items": null,
            "left": null,
            "margin": null,
            "max_height": null,
            "max_width": null,
            "min_height": null,
            "min_width": null,
            "object_fit": null,
            "object_position": null,
            "order": null,
            "overflow": null,
            "overflow_x": null,
            "overflow_y": null,
            "padding": null,
            "right": null,
            "top": null,
            "visibility": null,
            "width": null
          }
        },
        "312060235fef4880a8cbe3aeb2460e10": {
          "model_module": "@jupyter-widgets/controls",
          "model_name": "ToggleButtonModel",
          "model_module_version": "1.5.0",
          "state": {
            "_dom_classes": [],
            "_model_module": "@jupyter-widgets/controls",
            "_model_module_version": "1.5.0",
            "_model_name": "ToggleButtonModel",
            "_view_count": null,
            "_view_module": "@jupyter-widgets/controls",
            "_view_module_version": "1.5.0",
            "_view_name": "ToggleButtonView",
            "button_style": "",
            "description": "",
            "description_tooltip": null,
            "disabled": false,
            "icon": "wrench",
            "layout": "IPY_MODEL_2e7ce101337149c8a525ce2888441add",
            "style": "IPY_MODEL_d122d261bb5b4a8e9e7db0eaa0e8ddc7",
            "tooltip": "Toolbar",
            "value": false
          }
        },
        "325169f2afc34956a3d80922964b0777": {
          "model_module": "@jupyter-widgets/base",
          "model_name": "LayoutModel",
          "model_module_version": "1.2.0",
          "state": {
            "_model_module": "@jupyter-widgets/base",
            "_model_module_version": "1.2.0",
            "_model_name": "LayoutModel",
            "_view_count": null,
            "_view_module": "@jupyter-widgets/base",
            "_view_module_version": "1.2.0",
            "_view_name": "LayoutView",
            "align_content": null,
            "align_items": null,
            "align_self": null,
            "border": null,
            "bottom": null,
            "display": null,
            "flex": null,
            "flex_flow": null,
            "grid_area": null,
            "grid_auto_columns": null,
            "grid_auto_flow": null,
            "grid_auto_rows": null,
            "grid_column": null,
            "grid_gap": null,
            "grid_row": null,
            "grid_template_areas": null,
            "grid_template_columns": null,
            "grid_template_rows": null,
            "height": null,
            "justify_content": null,
            "justify_items": null,
            "left": null,
            "margin": null,
            "max_height": null,
            "max_width": null,
            "min_height": null,
            "min_width": null,
            "object_fit": null,
            "object_position": null,
            "order": null,
            "overflow": null,
            "overflow_x": null,
            "overflow_y": null,
            "padding": null,
            "right": null,
            "top": null,
            "visibility": null,
            "width": null
          }
        },
        "5a39e88046804e4682355e3886f4ad81": {
          "model_module": "@jupyter-widgets/base",
          "model_name": "LayoutModel",
          "model_module_version": "1.2.0",
          "state": {
            "_model_module": "@jupyter-widgets/base",
            "_model_module_version": "1.2.0",
            "_model_name": "LayoutModel",
            "_view_count": null,
            "_view_module": "@jupyter-widgets/base",
            "_view_module_version": "1.2.0",
            "_view_name": "LayoutView",
            "align_content": null,
            "align_items": null,
            "align_self": null,
            "border": null,
            "bottom": null,
            "display": null,
            "flex": null,
            "flex_flow": null,
            "grid_area": null,
            "grid_auto_columns": null,
            "grid_auto_flow": null,
            "grid_auto_rows": null,
            "grid_column": null,
            "grid_gap": null,
            "grid_row": null,
            "grid_template_areas": null,
            "grid_template_columns": null,
            "grid_template_rows": null,
            "height": "28px",
            "justify_content": null,
            "justify_items": null,
            "left": null,
            "margin": null,
            "max_height": null,
            "max_width": null,
            "min_height": null,
            "min_width": null,
            "object_fit": null,
            "object_position": null,
            "order": null,
            "overflow": null,
            "overflow_x": null,
            "overflow_y": null,
            "padding": "0px 0px 0px 4px",
            "right": null,
            "top": null,
            "visibility": null,
            "width": "28px"
          }
        },
        "52f61dfb466e4a229262d0defddffeb5": {
          "model_module": "@jupyter-widgets/controls",
          "model_name": "DescriptionStyleModel",
          "model_module_version": "1.5.0",
          "state": {
            "_model_module": "@jupyter-widgets/controls",
            "_model_module_version": "1.5.0",
            "_model_name": "DescriptionStyleModel",
            "_view_count": null,
            "_view_module": "@jupyter-widgets/base",
            "_view_module_version": "1.2.0",
            "_view_name": "StyleView",
            "description_width": ""
          }
        },
        "2e7ce101337149c8a525ce2888441add": {
          "model_module": "@jupyter-widgets/base",
          "model_name": "LayoutModel",
          "model_module_version": "1.2.0",
          "state": {
            "_model_module": "@jupyter-widgets/base",
            "_model_module_version": "1.2.0",
            "_model_name": "LayoutModel",
            "_view_count": null,
            "_view_module": "@jupyter-widgets/base",
            "_view_module_version": "1.2.0",
            "_view_name": "LayoutView",
            "align_content": null,
            "align_items": null,
            "align_self": null,
            "border": null,
            "bottom": null,
            "display": null,
            "flex": null,
            "flex_flow": null,
            "grid_area": null,
            "grid_auto_columns": null,
            "grid_auto_flow": null,
            "grid_auto_rows": null,
            "grid_column": null,
            "grid_gap": null,
            "grid_row": null,
            "grid_template_areas": null,
            "grid_template_columns": null,
            "grid_template_rows": null,
            "height": "28px",
            "justify_content": null,
            "justify_items": null,
            "left": null,
            "margin": null,
            "max_height": null,
            "max_width": null,
            "min_height": null,
            "min_width": null,
            "object_fit": null,
            "object_position": null,
            "order": null,
            "overflow": null,
            "overflow_x": null,
            "overflow_y": null,
            "padding": "0px 0px 0px 4px",
            "right": null,
            "top": null,
            "visibility": null,
            "width": "28px"
          }
        },
        "d122d261bb5b4a8e9e7db0eaa0e8ddc7": {
          "model_module": "@jupyter-widgets/controls",
          "model_name": "DescriptionStyleModel",
          "model_module_version": "1.5.0",
          "state": {
            "_model_module": "@jupyter-widgets/controls",
            "_model_module_version": "1.5.0",
            "_model_name": "DescriptionStyleModel",
            "_view_count": null,
            "_view_module": "@jupyter-widgets/base",
            "_view_module_version": "1.2.0",
            "_view_name": "StyleView",
            "description_width": ""
          }
        }
      }
    }
  },
  "cells": [
    {
      "cell_type": "markdown",
      "metadata": {
        "id": "view-in-github",
        "colab_type": "text"
      },
      "source": [
        "<a href=\"https://colab.research.google.com/github/kavyajeetbora/end_to_end_gee_with_python/blob/master/%20Google%20Earth%20Engine%20with%20Amirhossein%20Ahrari/001_lake_area_estimation.ipynb\" target=\"_parent\"><img src=\"https://colab.research.google.com/assets/colab-badge.svg\" alt=\"Open In Colab\"/></a>"
      ]
    },
    {
      "cell_type": "code",
      "execution_count": 1,
      "metadata": {
        "id": "Cx78rURgtCSZ"
      },
      "outputs": [],
      "source": [
        "import geemap\n",
        "import ee\n",
        "from datetime import datetime, timedelta\n",
        "\n",
        "ee.Authenticate()\n",
        "ee.Initialize(project='kavyajeetbora-ee')"
      ]
    },
    {
      "cell_type": "code",
      "source": [
        "def filterImageCollection(\n",
        "        image_collection_id: str,\n",
        "        geometry: ee.geometry.Geometry,\n",
        "        date_range: tuple[str],\n",
        "        cloud_cover = 10\n",
        "    ) -> ee.imagecollection.ImageCollection:\n",
        "\n",
        "    imageCollection = ee.ImageCollection(image_collection_id)\n",
        "    d1,d2 = date_range\n",
        "    filtered = imageCollection.filter(\n",
        "       ee.Filter.lt('CLOUD_COVER', 10)\n",
        "    )\\\n",
        "    .filter(\n",
        "        ee.Filter.date(d1, d2) ## Filter by date\n",
        "    ).filter(\n",
        "        ee.Filter.bounds(geometry) ## Filter by bounds\n",
        "    )\n",
        "\n",
        "    return filtered"
      ],
      "metadata": {
        "colab": {
          "base_uri": "https://localhost:8080/",
          "height": 17
        },
        "id": "_yhLoLNsuFbC",
        "outputId": "c11a58bf-d525-49c4-cf61-703c5ff4788b"
      },
      "execution_count": 2,
      "outputs": [
        {
          "output_type": "display_data",
          "data": {
            "text/plain": [
              "<IPython.core.display.HTML object>"
            ],
            "text/html": [
              "\n",
              "            <style>\n",
              "                .geemap-dark {\n",
              "                    --jp-widgets-color: white;\n",
              "                    --jp-widgets-label-color: white;\n",
              "                    --jp-ui-font-color1: white;\n",
              "                    --jp-layout-color2: #454545;\n",
              "                    background-color: #383838;\n",
              "                }\n",
              "\n",
              "                .geemap-dark .jupyter-button {\n",
              "                    --jp-layout-color3: #383838;\n",
              "                }\n",
              "\n",
              "                .geemap-colab {\n",
              "                    background-color: var(--colab-primary-surface-color, white);\n",
              "                }\n",
              "\n",
              "                .geemap-colab .jupyter-button {\n",
              "                    --jp-layout-color3: var(--colab-primary-surface-color, white);\n",
              "                }\n",
              "            </style>\n",
              "            "
            ]
          },
          "metadata": {}
        }
      ]
    },
    {
      "cell_type": "code",
      "source": [
        "## get the current dates\n",
        "today = datetime.now()\n",
        "d1 = today - timedelta(days=180)\n",
        "current_date_range = (d1.date().strftime('%Y-%m-%d'), today.date().strftime('%Y-%m-%d'))\n",
        "current_date_range"
      ],
      "metadata": {
        "colab": {
          "base_uri": "https://localhost:8080/",
          "height": 34
        },
        "id": "rlSvGYVTvEL6",
        "outputId": "cd330537-49b8-452b-c30d-da880f86c314"
      },
      "execution_count": 3,
      "outputs": [
        {
          "output_type": "display_data",
          "data": {
            "text/plain": [
              "<IPython.core.display.HTML object>"
            ],
            "text/html": [
              "\n",
              "            <style>\n",
              "                .geemap-dark {\n",
              "                    --jp-widgets-color: white;\n",
              "                    --jp-widgets-label-color: white;\n",
              "                    --jp-ui-font-color1: white;\n",
              "                    --jp-layout-color2: #454545;\n",
              "                    background-color: #383838;\n",
              "                }\n",
              "\n",
              "                .geemap-dark .jupyter-button {\n",
              "                    --jp-layout-color3: #383838;\n",
              "                }\n",
              "\n",
              "                .geemap-colab {\n",
              "                    background-color: var(--colab-primary-surface-color, white);\n",
              "                }\n",
              "\n",
              "                .geemap-colab .jupyter-button {\n",
              "                    --jp-layout-color3: var(--colab-primary-surface-color, white);\n",
              "                }\n",
              "            </style>\n",
              "            "
            ]
          },
          "metadata": {}
        },
        {
          "output_type": "execute_result",
          "data": {
            "text/plain": [
              "('2023-10-28', '2024-04-25')"
            ]
          },
          "metadata": {},
          "execution_count": 3
        }
      ]
    },
    {
      "cell_type": "markdown",
      "source": [
        "## Landsat data\n",
        "\n",
        "\n",
        "**What are some major differences between Landsat 8 and Landsat 9 ?**\n",
        "\n",
        "In summary, while Landsat 8 and Landsat 9 share a similar mission and purpose, Landsat 9 represents an advancement in technology and continuity for the Landsat program. It provides improved sensor capabilities and reliability, ensuring the continuation of high-quality Earth observation data critical for scientific research and environmental management.\n",
        "\n",
        "**Which product to choose from Tier 1 or Tier 2 ?**\n",
        "\n",
        "In summary, Landsat 9 Tier 1 data products offer superior quality and precision suitable for scientific and research applications, while Tier 2 data is more accessible and adequate for general mapping and visualization tasks. Choose based on your specific project requirements and the level of precision needed for your analysis"
      ],
      "metadata": {
        "id": "SdXZeFzNwX4V"
      }
    },
    {
      "cell_type": "code",
      "source": [
        "admin = ee.FeatureCollection('FAO/GAUL_SIMPLIFIED_500m/2015/level2')\n",
        "delhi = admin.filter(ee.Filter.eq('ADM1_NAME', 'Delhi'))\\\n",
        ".filter(ee.Filter.eq('ADM2_NAME', 'Delhi'))\n",
        "\n",
        "geometry = delhi.geometry()\n",
        "\n",
        "filtered_imgs = filterImageCollection(\n",
        "    image_collection_id = \"LANDSAT/LC08/C02/T1_L2\",\n",
        "    geometry = geometry,\n",
        "    date_range = current_date_range\n",
        ")\n",
        "\n",
        "filtered_imgs.size()"
      ],
      "metadata": {
        "colab": {
          "base_uri": "https://localhost:8080/",
          "height": 68
        },
        "id": "xM-f1T0EvNfl",
        "outputId": "a0ab6197-d947-4184-bea0-04bdd4e7b1e0"
      },
      "execution_count": 4,
      "outputs": [
        {
          "output_type": "display_data",
          "data": {
            "text/plain": [
              "<IPython.core.display.HTML object>"
            ],
            "text/html": [
              "\n",
              "            <style>\n",
              "                .geemap-dark {\n",
              "                    --jp-widgets-color: white;\n",
              "                    --jp-widgets-label-color: white;\n",
              "                    --jp-ui-font-color1: white;\n",
              "                    --jp-layout-color2: #454545;\n",
              "                    background-color: #383838;\n",
              "                }\n",
              "\n",
              "                .geemap-dark .jupyter-button {\n",
              "                    --jp-layout-color3: #383838;\n",
              "                }\n",
              "\n",
              "                .geemap-colab {\n",
              "                    background-color: var(--colab-primary-surface-color, white);\n",
              "                }\n",
              "\n",
              "                .geemap-colab .jupyter-button {\n",
              "                    --jp-layout-color3: var(--colab-primary-surface-color, white);\n",
              "                }\n",
              "            </style>\n",
              "            "
            ]
          },
          "metadata": {}
        },
        {
          "output_type": "execute_result",
          "data": {
            "text/plain": [
              "<ee.ee_number.Number at 0x784a2e2da9e0>"
            ],
            "text/html": [
              "<div><style>:root {\n",
              "  --font-color-primary: var(--jp-content-font-color0, rgba(0, 0, 0, 1));\n",
              "  --font-color-secondary: var(--jp-content-font-color2, rgba(0, 0, 0, 0.6));\n",
              "  --font-color-accent: rgba(123, 31, 162, 1);\n",
              "  --border-color: var(--jp-border-color2, #e0e0e0);\n",
              "  --background-color: var(--jp-layout-color0, white);\n",
              "  --background-color-row-even: var(--jp-layout-color1, white);\n",
              "  --background-color-row-odd: var(--jp-layout-color2, #eeeeee);\n",
              "}\n",
              "\n",
              "html[theme=\"dark\"],\n",
              "body[data-theme=\"dark\"],\n",
              "body.vscode-dark {\n",
              "  --font-color-primary: rgba(255, 255, 255, 1);\n",
              "  --font-color-secondary: rgba(255, 255, 255, 0.6);\n",
              "  --font-color-accent: rgb(173, 132, 190);\n",
              "  --border-color: #2e2e2e;\n",
              "  --background-color: #111111;\n",
              "  --background-color-row-even: #111111;\n",
              "  --background-color-row-odd: #313131;\n",
              "}\n",
              "\n",
              ".ee {\n",
              "  padding: 1em;\n",
              "  line-height: 1.5em;\n",
              "  min-width: 300px;\n",
              "  max-width: 1200px;\n",
              "  overflow-y: scroll;\n",
              "  max-height: 600px;\n",
              "  border: 1px solid var(--border-color);\n",
              "  font-family: monospace;\n",
              "}\n",
              "\n",
              ".ee li {\n",
              "  list-style-type: none;\n",
              "}\n",
              "\n",
              ".ee ul {\n",
              "  padding-left: 1.5em !important;\n",
              "  margin: 0;\n",
              "}\n",
              "\n",
              ".ee > ul {\n",
              "  padding-left: 0 !important;\n",
              "}\n",
              "\n",
              ".ee-open,\n",
              ".ee-shut {\n",
              "  color: var(--font-color-secondary);\n",
              "  cursor: pointer;\n",
              "  margin: 0;\n",
              "}\n",
              "\n",
              ".ee-open:hover,\n",
              ".ee-shut:hover {\n",
              "  color: var(--font-color-primary);\n",
              "}\n",
              "\n",
              ".ee-k {\n",
              "  color: var(--font-color-accent);\n",
              "  margin-right: 6px;\n",
              "}\n",
              "\n",
              ".ee-v {\n",
              "  color: var(--font-color-primary);\n",
              "}\n",
              "\n",
              ".ee-toggle {\n",
              "  display: none;\n",
              "}\n",
              "\n",
              ".ee-shut + ul {\n",
              "  display: none;\n",
              "}\n",
              "\n",
              ".ee-open + ul {\n",
              "  display: block;\n",
              "}\n",
              "\n",
              ".ee-shut::before {\n",
              "  display: inline-block;\n",
              "  content: \"▼\";\n",
              "  margin-right: 6px;\n",
              "  transform: rotate(-90deg);\n",
              "  transition: transform 0.2s;\n",
              "}\n",
              "\n",
              ".ee-open::before {\n",
              "  transform: rotate(0deg);\n",
              "  display: inline-block;\n",
              "  content: \"▼\";\n",
              "  margin-right: 6px;\n",
              "  transition: transform 0.2s;\n",
              "}\n",
              "</style><div class='ee'><ul><li><span class='ee-v'>11</span></li></ul></div><script>function toggleHeader() {\n",
              "    const parent = this.parentElement;\n",
              "    parent.className = parent.className === \"ee-open\" ? \"ee-shut\" : \"ee-open\";\n",
              "}\n",
              "\n",
              "for (let c of document.getElementsByClassName(\"ee-toggle\")) {\n",
              "    c.onclick = toggleHeader;\n",
              "}</script></div>"
            ]
          },
          "metadata": {},
          "execution_count": 4
        }
      ]
    },
    {
      "cell_type": "markdown",
      "source": [
        "Now process the lansat images\n",
        "\n",
        "- scale images\n",
        "- calculate ndwi"
      ],
      "metadata": {
        "id": "DElGKWuT2jb7"
      }
    },
    {
      "cell_type": "code",
      "source": [
        "def preprocess_landsat(image:ee.image.Image) -> ee.image.Image:\n",
        "    '''\n",
        "    This function will choose only the required bands\n",
        "    also rescale the reflectance value to original\n",
        "    and calculate the indices: NDVI\n",
        "    '''\n",
        "\n",
        "    ## Select and rescale\n",
        "    bands = image.select(\"SR_*\").multiply(2.75e-05).add(-2)\n",
        "\n",
        "    ## Calculate the NDWI\n",
        "    ndwi = image.normalizedDifference(['SR_B3', 'SR_B5']).rename('ndwi')\n",
        "\n",
        "    return ndwi.copyProperties(image, image.propertyNames())\n",
        "\n",
        "\n",
        "landsat = filtered_imgs.map(preprocess_landsat)"
      ],
      "metadata": {
        "colab": {
          "base_uri": "https://localhost:8080/",
          "height": 17
        },
        "id": "yY-2786WxQLX",
        "outputId": "24dd93a2-d62c-4696-d7d0-8fa9cb801473"
      },
      "execution_count": 5,
      "outputs": [
        {
          "output_type": "display_data",
          "data": {
            "text/plain": [
              "<IPython.core.display.HTML object>"
            ],
            "text/html": [
              "\n",
              "            <style>\n",
              "                .geemap-dark {\n",
              "                    --jp-widgets-color: white;\n",
              "                    --jp-widgets-label-color: white;\n",
              "                    --jp-ui-font-color1: white;\n",
              "                    --jp-layout-color2: #454545;\n",
              "                    background-color: #383838;\n",
              "                }\n",
              "\n",
              "                .geemap-dark .jupyter-button {\n",
              "                    --jp-layout-color3: #383838;\n",
              "                }\n",
              "\n",
              "                .geemap-colab {\n",
              "                    background-color: var(--colab-primary-surface-color, white);\n",
              "                }\n",
              "\n",
              "                .geemap-colab .jupyter-button {\n",
              "                    --jp-layout-color3: var(--colab-primary-surface-color, white);\n",
              "                }\n",
              "            </style>\n",
              "            "
            ]
          },
          "metadata": {}
        }
      ]
    },
    {
      "cell_type": "markdown",
      "source": [
        "## Plot the NDWI data"
      ],
      "metadata": {
        "id": "Cv9VA5kc4jqi"
      }
    },
    {
      "cell_type": "code",
      "source": [
        "Map = geemap.Map()\n",
        "\n",
        "## Calculate the median composite and select values greater than 0 only\n",
        "ndwi = landsat.median().clip(geometry)\n",
        "\n",
        "## Mask the image: this will set all the values\n",
        "thr = ndwi.gt(0)\n",
        "ndwi_masked = thr.updateMask(thr)\n",
        "\n",
        "vizParams = {\n",
        "    'min': 0,\n",
        "    'max': 1,\n",
        "    'palette': ['#ece7f2','#a6bddb','#2b8cbe']\n",
        "}\n",
        "\n",
        "Map.addLayer(ndwi_masked.clip(geometry), vizParams, 'NDWI')\n",
        "\n",
        "Map.centerObject(geometry, 12)\n",
        "Map"
      ],
      "metadata": {
        "colab": {
          "base_uri": "https://localhost:8080/",
          "height": 621,
          "referenced_widgets": [
            "6ea5e01c00cf46eaa70b1536cded2390",
            "d8422882110440288be5d416c369db78",
            "b06878bb618e46029685ddf1c4a2afab",
            "9108ac3b32ce4f048214f8caec35f327",
            "6961b29894084019be8bf3c80dea7d20",
            "7d37d90496aa44d7963ac1702dddb213",
            "876473eedf0145b2b9938c891d8f0b2a",
            "f4a5581f2c304ad0aa9c10266bfb6f35",
            "de8fb61738b24751b60932dca6174bc5",
            "33aae63d64d343bcbcce2ac30b8d7393",
            "9686fd877eba49fcb6cd05b25c8d6710",
            "f0131263669b42f7ac46dbe1bcc04729",
            "f7e71eaff49142e6910fa6291f59958c",
            "6edd5cf4515344eb9fbdf9e3b922c1b3",
            "6a66035b14474c919e6611391ce772a9",
            "54cb46e1109f41e88610447471ef6780",
            "73f84219fb1748eeb0013966e5aa9c53",
            "50b4abed088f47bfbfa6cdb596ff8f1c",
            "d05738fd6c6a4eaaab4f84601a0b63ed",
            "312060235fef4880a8cbe3aeb2460e10",
            "325169f2afc34956a3d80922964b0777",
            "5a39e88046804e4682355e3886f4ad81",
            "52f61dfb466e4a229262d0defddffeb5",
            "2e7ce101337149c8a525ce2888441add",
            "d122d261bb5b4a8e9e7db0eaa0e8ddc7"
          ]
        },
        "id": "wFfsBpmWyECD",
        "outputId": "64320bb9-264c-48e9-9439-6bf89d5e83af"
      },
      "execution_count": 6,
      "outputs": [
        {
          "output_type": "display_data",
          "data": {
            "text/plain": [
              "<IPython.core.display.HTML object>"
            ],
            "text/html": [
              "\n",
              "            <style>\n",
              "                .geemap-dark {\n",
              "                    --jp-widgets-color: white;\n",
              "                    --jp-widgets-label-color: white;\n",
              "                    --jp-ui-font-color1: white;\n",
              "                    --jp-layout-color2: #454545;\n",
              "                    background-color: #383838;\n",
              "                }\n",
              "\n",
              "                .geemap-dark .jupyter-button {\n",
              "                    --jp-layout-color3: #383838;\n",
              "                }\n",
              "\n",
              "                .geemap-colab {\n",
              "                    background-color: var(--colab-primary-surface-color, white);\n",
              "                }\n",
              "\n",
              "                .geemap-colab .jupyter-button {\n",
              "                    --jp-layout-color3: var(--colab-primary-surface-color, white);\n",
              "                }\n",
              "            </style>\n",
              "            "
            ]
          },
          "metadata": {}
        },
        {
          "output_type": "display_data",
          "data": {
            "text/plain": [
              "Map(center=[28.64654955564474, 77.10895454636062], controls=(WidgetControl(options=['position', 'transparent_b…"
            ],
            "application/vnd.jupyter.widget-view+json": {
              "version_major": 2,
              "version_minor": 0,
              "model_id": "6ea5e01c00cf46eaa70b1536cded2390"
            }
          },
          "metadata": {
            "application/vnd.jupyter.widget-view+json": {
              "colab": {
                "custom_widget_manager": {
                  "url": "https://ssl.gstatic.com/colaboratory-static/widgets/colab-cdn-widget-manager/2b70e893a8ba7c0f/manager.min.js"
                }
              }
            }
          }
        }
      ]
    },
    {
      "cell_type": "code",
      "source": [
        "ndwi_masked"
      ],
      "metadata": {
        "colab": {
          "base_uri": "https://localhost:8080/",
          "height": 68
        },
        "id": "XxrSqifv6v7H",
        "outputId": "c4e5796e-b36a-463e-de6f-221d2556b9e1"
      },
      "execution_count": 7,
      "outputs": [
        {
          "output_type": "display_data",
          "data": {
            "text/plain": [
              "<IPython.core.display.HTML object>"
            ],
            "text/html": [
              "\n",
              "            <style>\n",
              "                .geemap-dark {\n",
              "                    --jp-widgets-color: white;\n",
              "                    --jp-widgets-label-color: white;\n",
              "                    --jp-ui-font-color1: white;\n",
              "                    --jp-layout-color2: #454545;\n",
              "                    background-color: #383838;\n",
              "                }\n",
              "\n",
              "                .geemap-dark .jupyter-button {\n",
              "                    --jp-layout-color3: #383838;\n",
              "                }\n",
              "\n",
              "                .geemap-colab {\n",
              "                    background-color: var(--colab-primary-surface-color, white);\n",
              "                }\n",
              "\n",
              "                .geemap-colab .jupyter-button {\n",
              "                    --jp-layout-color3: var(--colab-primary-surface-color, white);\n",
              "                }\n",
              "            </style>\n",
              "            "
            ]
          },
          "metadata": {}
        },
        {
          "output_type": "execute_result",
          "data": {
            "text/plain": [
              "<ee.image.Image at 0x784a2e1ec9a0>"
            ],
            "text/html": [
              "<div><style>:root {\n",
              "  --font-color-primary: var(--jp-content-font-color0, rgba(0, 0, 0, 1));\n",
              "  --font-color-secondary: var(--jp-content-font-color2, rgba(0, 0, 0, 0.6));\n",
              "  --font-color-accent: rgba(123, 31, 162, 1);\n",
              "  --border-color: var(--jp-border-color2, #e0e0e0);\n",
              "  --background-color: var(--jp-layout-color0, white);\n",
              "  --background-color-row-even: var(--jp-layout-color1, white);\n",
              "  --background-color-row-odd: var(--jp-layout-color2, #eeeeee);\n",
              "}\n",
              "\n",
              "html[theme=\"dark\"],\n",
              "body[data-theme=\"dark\"],\n",
              "body.vscode-dark {\n",
              "  --font-color-primary: rgba(255, 255, 255, 1);\n",
              "  --font-color-secondary: rgba(255, 255, 255, 0.6);\n",
              "  --font-color-accent: rgb(173, 132, 190);\n",
              "  --border-color: #2e2e2e;\n",
              "  --background-color: #111111;\n",
              "  --background-color-row-even: #111111;\n",
              "  --background-color-row-odd: #313131;\n",
              "}\n",
              "\n",
              ".ee {\n",
              "  padding: 1em;\n",
              "  line-height: 1.5em;\n",
              "  min-width: 300px;\n",
              "  max-width: 1200px;\n",
              "  overflow-y: scroll;\n",
              "  max-height: 600px;\n",
              "  border: 1px solid var(--border-color);\n",
              "  font-family: monospace;\n",
              "}\n",
              "\n",
              ".ee li {\n",
              "  list-style-type: none;\n",
              "}\n",
              "\n",
              ".ee ul {\n",
              "  padding-left: 1.5em !important;\n",
              "  margin: 0;\n",
              "}\n",
              "\n",
              ".ee > ul {\n",
              "  padding-left: 0 !important;\n",
              "}\n",
              "\n",
              ".ee-open,\n",
              ".ee-shut {\n",
              "  color: var(--font-color-secondary);\n",
              "  cursor: pointer;\n",
              "  margin: 0;\n",
              "}\n",
              "\n",
              ".ee-open:hover,\n",
              ".ee-shut:hover {\n",
              "  color: var(--font-color-primary);\n",
              "}\n",
              "\n",
              ".ee-k {\n",
              "  color: var(--font-color-accent);\n",
              "  margin-right: 6px;\n",
              "}\n",
              "\n",
              ".ee-v {\n",
              "  color: var(--font-color-primary);\n",
              "}\n",
              "\n",
              ".ee-toggle {\n",
              "  display: none;\n",
              "}\n",
              "\n",
              ".ee-shut + ul {\n",
              "  display: none;\n",
              "}\n",
              "\n",
              ".ee-open + ul {\n",
              "  display: block;\n",
              "}\n",
              "\n",
              ".ee-shut::before {\n",
              "  display: inline-block;\n",
              "  content: \"▼\";\n",
              "  margin-right: 6px;\n",
              "  transform: rotate(-90deg);\n",
              "  transition: transform 0.2s;\n",
              "}\n",
              "\n",
              ".ee-open::before {\n",
              "  transform: rotate(0deg);\n",
              "  display: inline-block;\n",
              "  content: \"▼\";\n",
              "  margin-right: 6px;\n",
              "  transition: transform 0.2s;\n",
              "}\n",
              "</style><div class='ee'><ul><li><label class='ee-shut'>Image (1 band)<input type='checkbox' class='ee-toggle'></label><ul><li><span class='ee-k'>type:</span><span class='ee-v'>Image</span></li><li><label class='ee-shut'>bands: List (1 element)<input type='checkbox' class='ee-toggle'></label><ul><li><label class='ee-shut'>0: \"ndwi\", int ∈ [0, 1], EPSG:4326, 2x3 px<input type='checkbox' class='ee-toggle'></label><ul><li><span class='ee-k'>id:</span><span class='ee-v'>ndwi</span></li><li><span class='ee-k'>crs:</span><span class='ee-v'>EPSG:4326</span></li><li><label class='ee-shut'>crs_transform: [1, 0, 0, 0, 1, 0]<input type='checkbox' class='ee-toggle'></label><ul><li><span class='ee-k'>0:</span><span class='ee-v'>1</span></li><li><span class='ee-k'>1:</span><span class='ee-v'>0</span></li><li><span class='ee-k'>2:</span><span class='ee-v'>0</span></li><li><span class='ee-k'>3:</span><span class='ee-v'>0</span></li><li><span class='ee-k'>4:</span><span class='ee-v'>1</span></li><li><span class='ee-k'>5:</span><span class='ee-v'>0</span></li></ul></li><li><label class='ee-shut'>data_type: int ∈ [0, 1]<input type='checkbox' class='ee-toggle'></label><ul><li><span class='ee-k'>type:</span><span class='ee-v'>PixelType</span></li><li><span class='ee-k'>max:</span><span class='ee-v'>1</span></li><li><span class='ee-k'>min:</span><span class='ee-v'>0</span></li><li><span class='ee-k'>precision:</span><span class='ee-v'>int</span></li></ul></li><li><label class='ee-shut'>dimensions: [2, 3]<input type='checkbox' class='ee-toggle'></label><ul><li><span class='ee-k'>0:</span><span class='ee-v'>2</span></li><li><span class='ee-k'>1:</span><span class='ee-v'>3</span></li></ul></li><li><label class='ee-shut'>origin: [76, 27]<input type='checkbox' class='ee-toggle'></label><ul><li><span class='ee-k'>0:</span><span class='ee-v'>76</span></li><li><span class='ee-k'>1:</span><span class='ee-v'>27</span></li></ul></li></ul></li></ul></li><li><label class='ee-shut'>properties: Object (1 property)<input type='checkbox' class='ee-toggle'></label><ul><li><label class='ee-shut'>system:footprint: Polygon (228 vertices)<input type='checkbox' class='ee-toggle'></label><ul><li><span class='ee-k'>type:</span><span class='ee-v'>Polygon</span></li><li><label class='ee-shut'>coordinates: List (1 element)<input type='checkbox' class='ee-toggle'></label><ul><li><label class='ee-shut'>0: List (228 elements)<input type='checkbox' class='ee-toggle'></label><ul><li><label class='ee-shut'>0: [76.83179521216374, 28.581733259417586]<input type='checkbox' class='ee-toggle'></label><ul><li><span class='ee-k'>0:</span><span class='ee-v'>76.83179521216374</span></li><li><span class='ee-k'>1:</span><span class='ee-v'>28.581733259417586</span></li></ul></li><li><label class='ee-shut'>1: [76.83853247703775, 28.557029892152244]<input type='checkbox' class='ee-toggle'></label><ul><li><span class='ee-k'>0:</span><span class='ee-v'>76.83853247703775</span></li><li><span class='ee-k'>1:</span><span class='ee-v'>28.557029892152244</span></li></ul></li><li><label class='ee-shut'>2: [76.85649854462561, 28.548046907845414]<input type='checkbox' class='ee-toggle'></label><ul><li><span class='ee-k'>0:</span><span class='ee-v'>76.85649854462561</span></li><li><span class='ee-k'>1:</span><span class='ee-v'>28.548046907845414</span></li></ul></li><li><label class='ee-shut'>3: [76.85874427371164, 28.54130961869212]<input type='checkbox' class='ee-toggle'></label><ul><li><span class='ee-k'>0:</span><span class='ee-v'>76.85874427371164</span></li><li><span class='ee-k'>1:</span><span class='ee-v'>28.54130961869212</span></li></ul></li><li><label class='ee-shut'>4: [76.8767103088653, 28.527835071946857]<input type='checkbox' class='ee-toggle'></label><ul><li><span class='ee-k'>0:</span><span class='ee-v'>76.8767103088653</span></li><li><span class='ee-k'>1:</span><span class='ee-v'>28.527835071946857</span></li></ul></li><li><label class='ee-shut'>5: [76.8789561103673, 28.523343549963876]<input type='checkbox' class='ee-toggle'></label><ul><li><span class='ee-k'>0:</span><span class='ee-v'>76.8789561103673</span></li><li><span class='ee-k'>1:</span><span class='ee-v'>28.523343549963876</span></li></ul></li><li><label class='ee-shut'>6: [76.87446455445522, 28.514360570339058]<input type='checkbox' class='ee-toggle'></label><ul><li><span class='ee-k'>0:</span><span class='ee-v'>76.87446455445522</span></li><li><span class='ee-k'>1:</span><span class='ee-v'>28.514360570339058</span></li></ul></li><li><label class='ee-shut'>7: [76.8789561103673, 28.5098690290594]<input type='checkbox' class='ee-toggle'></label><ul><li><span class='ee-k'>0:</span><span class='ee-v'>76.8789561103673</span></li><li><span class='ee-k'>1:</span><span class='ee-v'>28.5098690290594</span></li></ul></li><li><label class='ee-shut'>8: [76.88569335746607, 28.512114778560743]<input type='checkbox' class='ee-toggle'></label><ul><li><span class='ee-k'>0:</span><span class='ee-v'>76.88569335746607</span></li><li><span class='ee-k'>1:</span><span class='ee-v'>28.512114778560743</span></li></ul></li><li><label class='ee-shut'>9: [76.89467636704018, 28.516606292563182]<input type='checkbox' class='ee-toggle'></label><ul><li><span class='ee-k'>0:</span><span class='ee-v'>76.89467636704018</span></li><li><span class='ee-k'>1:</span><span class='ee-v'>28.516606292563182</span></li></ul></li><li><label class='ee-shut'>10: [76.89692210499737, 28.51885205825166]<input type='checkbox' class='ee-toggle'></label><ul><li><span class='ee-k'>0:</span><span class='ee-v'>76.89692210499737</span></li><li><span class='ee-k'>1:</span><span class='ee-v'>28.51885205825166</span></li></ul></li><li><label class='ee-shut'>11: [76.90815088344674, 28.514360529769505]<input type='checkbox' class='ee-toggle'></label><ul><li><span class='ee-k'>0:</span><span class='ee-v'>76.90815088344674</span></li><li><span class='ee-k'>1:</span><span class='ee-v'>28.514360529769505</span></li></ul></li><li><label class='ee-shut'>12: [76.92162541749238, 28.518852058137742]<input type='checkbox' class='ee-toggle'></label><ul><li><span class='ee-k'>0:</span><span class='ee-v'>76.92162541749238</span></li><li><span class='ee-k'>1:</span><span class='ee-v'>28.518852058137742</span></li></ul></li><li><label class='ee-shut'>13: [76.93285422325938, 28.516606314851693]<input type='checkbox' class='ee-toggle'></label><ul><li><span class='ee-k'>0:</span><span class='ee-v'>76.93285422325938</span></li><li><span class='ee-k'>1:</span><span class='ee-v'>28.516606314851693</span></li></ul></li><li><label class='ee-shut'>14: [76.94408296699908, 28.51436052549925]<input type='checkbox' class='ee-toggle'></label><ul><li><span class='ee-k'>0:</span><span class='ee-v'>76.94408296699908</span></li><li><span class='ee-k'>1:</span><span class='ee-v'>28.51436052549925</span></li></ul></li><li><label class='ee-shut'>15: [76.96878626557522, 28.527835091601705]<input type='checkbox' class='ee-toggle'></label><ul><li><span class='ee-k'>0:</span><span class='ee-v'>76.96878626557522</span></li><li><span class='ee-k'>1:</span><span class='ee-v'>28.527835091601705</span></li></ul></li><li><label class='ee-shut'>16: [76.97552358797563, 28.523343561119706]<input type='checkbox' class='ee-toggle'></label><ul><li><span class='ee-k'>0:</span><span class='ee-v'>76.97552358797563</span></li><li><span class='ee-k'>1:</span><span class='ee-v'>28.523343561119706</span></li></ul></li><li><label class='ee-shut'>17: [76.99124384671826, 28.518852033739826]<input type='checkbox' class='ee-toggle'></label><ul><li><span class='ee-k'>0:</span><span class='ee-v'>76.99124384671826</span></li><li><span class='ee-k'>1:</span><span class='ee-v'>28.518852033739826</span></li></ul></li><li><label class='ee-shut'>18: [77.00471835643887, 28.514360546805992]<input type='checkbox' class='ee-toggle'></label><ul><li><span class='ee-k'>0:</span><span class='ee-v'>77.00471835643887</span></li><li><span class='ee-k'>1:</span><span class='ee-v'>28.514360546805992</span></li></ul></li><li><label class='ee-shut'>19: [77.01145562178745, 28.518852084513806]<input type='checkbox' class='ee-toggle'></label><ul><li><span class='ee-k'>0:</span><span class='ee-v'>77.01145562178745</span></li><li><span class='ee-k'>1:</span><span class='ee-v'>28.518852084513806</span></li></ul></li><li><label class='ee-shut'>20: [77.01145562178745, 28.52334358054466]<input type='checkbox' class='ee-toggle'></label><ul><li><span class='ee-k'>0:</span><span class='ee-v'>77.01145562178745</span></li><li><span class='ee-k'>1:</span><span class='ee-v'>28.52334358054466</span></li></ul></li><li><label class='ee-shut'>21: [77.00471835643887, 28.52783513367748]<input type='checkbox' class='ee-toggle'></label><ul><li><span class='ee-k'>0:</span><span class='ee-v'>77.00471835643887</span></li><li><span class='ee-k'>1:</span><span class='ee-v'>28.52783513367748</span></li></ul></li><li><label class='ee-shut'>22: [76.99798115655626, 28.532326655746218]<input type='checkbox' class='ee-toggle'></label><ul><li><span class='ee-k'>0:</span><span class='ee-v'>76.99798115655626</span></li><li><span class='ee-k'>1:</span><span class='ee-v'>28.532326655746218</span></li></ul></li><li><label class='ee-shut'>23: [76.99573534022338, 28.536818090676473]<input type='checkbox' class='ee-toggle'></label><ul><li><span class='ee-k'>0:</span><span class='ee-v'>76.99573534022338</span></li><li><span class='ee-k'>1:</span><span class='ee-v'>28.536818090676473</span></li></ul></li><li><label class='ee-shut'>24: [77.00022684349743, 28.541309642425084]<input type='checkbox' class='ee-toggle'></label><ul><li><span class='ee-k'>0:</span><span class='ee-v'>77.00022684349743</span></li><li><span class='ee-k'>1:</span><span class='ee-v'>28.541309642425084</span></li></ul></li><li><label class='ee-shut'>25: [77.00696418240891, 28.543555399707056]<input type='checkbox' class='ee-toggle'></label><ul><li><span class='ee-k'>0:</span><span class='ee-v'>77.00696418240891</span></li><li><span class='ee-k'>1:</span><span class='ee-v'>28.543555399707056</span></li></ul></li><li><label class='ee-shut'>26: [77.01594715845383, 28.532326622130306]<input type='checkbox' class='ee-toggle'></label><ul><li><span class='ee-k'>0:</span><span class='ee-v'>77.01594715845383</span></li><li><span class='ee-k'>1:</span><span class='ee-v'>28.532326622130306</span></li></ul></li><li><label class='ee-shut'>27: [77.02043870443208, 28.532326609337858]<input type='checkbox' class='ee-toggle'></label><ul><li><span class='ee-k'>0:</span><span class='ee-v'>77.02043870443208</span></li><li><span class='ee-k'>1:</span><span class='ee-v'>28.532326609337858</span></li></ul></li><li><label class='ee-shut'>28: [77.03391322151245, 28.527835108834054]<input type='checkbox' class='ee-toggle'></label><ul><li><span class='ee-k'>0:</span><span class='ee-v'>77.03391322151245</span></li><li><span class='ee-k'>1:</span><span class='ee-v'>28.527835108834054</span></li></ul></li><li><label class='ee-shut'>29: [77.0406504444072, 28.51885203667467]<input type='checkbox' class='ee-toggle'></label><ul><li><span class='ee-k'>0:</span><span class='ee-v'>77.0406504444072</span></li><li><span class='ee-k'>1:</span><span class='ee-v'>28.51885203667467</span></li></ul></li><li><label class='ee-shut'>30: [77.04963346815089, 28.514360537046716]<input type='checkbox' class='ee-toggle'></label><ul><li><span class='ee-k'>0:</span><span class='ee-v'>77.04963346815089</span></li><li><span class='ee-k'>1:</span><span class='ee-v'>28.514360537046716</span></li></ul></li><li><label class='ee-shut'>31: [77.0563707804229, 28.51436058748209]<input type='checkbox' class='ee-toggle'></label><ul><li><span class='ee-k'>0:</span><span class='ee-v'>77.0563707804229</span></li><li><span class='ee-k'>1:</span><span class='ee-v'>28.51436058748209</span></li></ul></li><li><label class='ee-shut'>32: [77.06759952966962, 28.52109781347072]<input type='checkbox' class='ee-toggle'></label><ul><li><span class='ee-k'>0:</span><span class='ee-v'>77.06759952966962</span></li><li><span class='ee-k'>1:</span><span class='ee-v'>28.52109781347072</span></li></ul></li><li><label class='ee-shut'>33: [77.0720910876383, 28.521097824767953]<input type='checkbox' class='ee-toggle'></label><ul><li><span class='ee-k'>0:</span><span class='ee-v'>77.0720910876383</span></li><li><span class='ee-k'>1:</span><span class='ee-v'>28.521097824767953</span></li></ul></li><li><label class='ee-shut'>34: [77.08556563379054, 28.5098690595153]<input type='checkbox' class='ee-toggle'></label><ul><li><span class='ee-k'>0:</span><span class='ee-v'>77.08556563379054</span></li><li><span class='ee-k'>1:</span><span class='ee-v'>28.5098690595153</span></li></ul></li><li><label class='ee-shut'>35: [77.09005713553326, 28.505377554588534]<input type='checkbox' class='ee-toggle'></label><ul><li><span class='ee-k'>0:</span><span class='ee-v'>77.09005713553326</span></li><li><span class='ee-k'>1:</span><span class='ee-v'>28.505377554588534</span></li></ul></li><li><label class='ee-shut'>36: [77.10353168624036, 28.496394488631978]<input type='checkbox' class='ee-toggle'></label><ul><li><span class='ee-k'>0:</span><span class='ee-v'>77.10353168624036</span></li><li><span class='ee-k'>1:</span><span class='ee-v'>28.496394488631978</span></li></ul></li><li><label class='ee-shut'>37: [77.10802313016252, 28.49414874594986]<input type='checkbox' class='ee-toggle'></label><ul><li><span class='ee-k'>0:</span><span class='ee-v'>77.10802313016252</span></li><li><span class='ee-k'>1:</span><span class='ee-v'>28.49414874594986</span></li></ul></li><li><label class='ee-shut'>38: [77.10353168624036, 28.482920017603877]<input type='checkbox' class='ee-toggle'></label><ul><li><span class='ee-k'>0:</span><span class='ee-v'>77.10353168624036</span></li><li><span class='ee-k'>1:</span><span class='ee-v'>28.482920017603877</span></li></ul></li><li><label class='ee-shut'>39: [77.10128590117453, 28.476182751444327]<input type='checkbox' class='ee-toggle'></label><ul><li><span class='ee-k'>0:</span><span class='ee-v'>77.10128590117453</span></li><li><span class='ee-k'>1:</span><span class='ee-v'>28.476182751444327</span></li></ul></li><li><label class='ee-shut'>40: [77.10353168624036, 28.469445435058212]<input type='checkbox' class='ee-toggle'></label><ul><li><span class='ee-k'>0:</span><span class='ee-v'>77.10353168624036</span></li><li><span class='ee-k'>1:</span><span class='ee-v'>28.469445435058212</span></li></ul></li><li><label class='ee-shut'>41: [77.10577742923977, 28.464953942002367]<input type='checkbox' class='ee-toggle'></label><ul><li><span class='ee-k'>0:</span><span class='ee-v'>77.10577742923977</span></li><li><span class='ee-k'>1:</span><span class='ee-v'>28.464953942002367</span></li></ul></li><li><label class='ee-shut'>42: [77.10802313016252, 28.458216638644746]<input type='checkbox' class='ee-toggle'></label><ul><li><span class='ee-k'>0:</span><span class='ee-v'>77.10802313016252</span></li><li><span class='ee-k'>1:</span><span class='ee-v'>28.458216638644746</span></li></ul></li><li><label class='ee-shut'>43: [77.11251466912942, 28.44923366412537]<input type='checkbox' class='ee-toggle'></label><ul><li><span class='ee-k'>0:</span><span class='ee-v'>77.11251466912942</span></li><li><span class='ee-k'>1:</span><span class='ee-v'>28.44923366412537</span></li></ul></li><li><label class='ee-shut'>44: [77.11925196898538, 28.44249642970542]<input type='checkbox' class='ee-toggle'></label><ul><li><span class='ee-k'>0:</span><span class='ee-v'>77.11925196898538</span></li><li><span class='ee-k'>1:</span><span class='ee-v'>28.44249642970542</span></li></ul></li><li><label class='ee-shut'>45: [77.12374343782042, 28.440250665115872]<input type='checkbox' class='ee-toggle'></label><ul><li><span class='ee-k'>0:</span><span class='ee-v'>77.12374343782042</span></li><li><span class='ee-k'>1:</span><span class='ee-v'>28.440250665115872</span></li></ul></li><li><label class='ee-shut'>46: [77.13048071980025, 28.438004881867457]<input type='checkbox' class='ee-toggle'></label><ul><li><span class='ee-k'>0:</span><span class='ee-v'>77.13048071980025</span></li><li><span class='ee-k'>1:</span><span class='ee-v'>28.438004881867457</span></li></ul></li><li><label class='ee-shut'>47: [77.14170946883, 28.43575911271139]<input type='checkbox' class='ee-toggle'></label><ul><li><span class='ee-k'>0:</span><span class='ee-v'>77.14170946883</span></li><li><span class='ee-k'>1:</span><span class='ee-v'>28.43575911271139</span></li></ul></li><li><label class='ee-shut'>48: [77.15293830226419, 28.42902189246484]<input type='checkbox' class='ee-toggle'></label><ul><li><span class='ee-k'>0:</span><span class='ee-v'>77.15293830226419</span></li><li><span class='ee-k'>1:</span><span class='ee-v'>28.42902189246484</span></li></ul></li><li><label class='ee-shut'>49: [77.155183994683, 28.422284557074878]<input type='checkbox' class='ee-toggle'></label><ul><li><span class='ee-k'>0:</span><span class='ee-v'>77.155183994683</span></li><li><span class='ee-k'>1:</span><span class='ee-v'>28.422284557074878</span></li></ul></li><li><label class='ee-shut'>50: [77.1664127868815, 28.408810032138906]<input type='checkbox' class='ee-toggle'></label><ul><li><span class='ee-k'>0:</span><span class='ee-v'>77.1664127868815</span></li><li><span class='ee-k'>1:</span><span class='ee-v'>28.408810032138906</span></li></ul></li><li><label class='ee-shut'>51: [77.17988732483362, 28.413301563565]<input type='checkbox' class='ee-toggle'></label><ul><li><span class='ee-k'>0:</span><span class='ee-v'>77.17988732483362</span></li><li><span class='ee-k'>1:</span><span class='ee-v'>28.413301563565</span></li></ul></li><li><label class='ee-shut'>52: [77.1956076316717, 28.413301589494914]<input type='checkbox' class='ee-toggle'></label><ul><li><span class='ee-k'>0:</span><span class='ee-v'>77.1956076316717</span></li><li><span class='ee-k'>1:</span><span class='ee-v'>28.413301589494914</span></li></ul></li><li><label class='ee-shut'>53: [77.20683637428466, 28.413301565819665]<input type='checkbox' class='ee-toggle'></label><ul><li><span class='ee-k'>0:</span><span class='ee-v'>77.20683637428466</span></li><li><span class='ee-k'>1:</span><span class='ee-v'>28.413301565819665</span></li></ul></li><li><label class='ee-shut'>54: [77.21581946118651, 28.41554731381345]<input type='checkbox' class='ee-toggle'></label><ul><li><span class='ee-k'>0:</span><span class='ee-v'>77.21581946118651</span></li><li><span class='ee-k'>1:</span><span class='ee-v'>28.41554731381345</span></li></ul></li><li><label class='ee-shut'>55: [77.22255670130794, 28.420038805159983]<input type='checkbox' class='ee-toggle'></label><ul><li><span class='ee-k'>0:</span><span class='ee-v'>77.22255670130794</span></li><li><span class='ee-k'>1:</span><span class='ee-v'>28.420038805159983</span></li></ul></li><li><label class='ee-shut'>56: [77.24052278373607, 28.429021854592516]<input type='checkbox' class='ee-toggle'></label><ul><li><span class='ee-k'>0:</span><span class='ee-v'>77.24052278373607</span></li><li><span class='ee-k'>1:</span><span class='ee-v'>28.429021854592516</span></li></ul></li><li><label class='ee-shut'>57: [77.24276848317754, 28.43351332779451]<input type='checkbox' class='ee-toggle'></label><ul><li><span class='ee-k'>0:</span><span class='ee-v'>77.24276848317754</span></li><li><span class='ee-k'>1:</span><span class='ee-v'>28.43351332779451</span></li></ul></li><li><label class='ee-shut'>58: [77.24501422752081, 28.44249640617595]<input type='checkbox' class='ee-toggle'></label><ul><li><span class='ee-k'>0:</span><span class='ee-v'>77.24501422752081</span></li><li><span class='ee-k'>1:</span><span class='ee-v'>28.44249640617595</span></li></ul></li><li><label class='ee-shut'>59: [77.24276848317754, 28.44698792164073]<input type='checkbox' class='ee-toggle'></label><ul><li><span class='ee-k'>0:</span><span class='ee-v'>77.24276848317754</span></li><li><span class='ee-k'>1:</span><span class='ee-v'>28.44698792164073</span></li></ul></li><li><label class='ee-shut'>60: [77.24052278373607, 28.45372519589341]<input type='checkbox' class='ee-toggle'></label><ul><li><span class='ee-k'>0:</span><span class='ee-v'>77.24052278373607</span></li><li><span class='ee-k'>1:</span><span class='ee-v'>28.45372519589341</span></li></ul></li><li><label class='ee-shut'>61: [77.2337855164352, 28.460462450389137]<input type='checkbox' class='ee-toggle'></label><ul><li><span class='ee-k'>0:</span><span class='ee-v'>77.2337855164352</span></li><li><span class='ee-k'>1:</span><span class='ee-v'>28.460462450389137</span></li></ul></li><li><label class='ee-shut'>62: [77.22704821518467, 28.460462403201596]<input type='checkbox' class='ee-toggle'></label><ul><li><span class='ee-k'>0:</span><span class='ee-v'>77.22704821518467</span></li><li><span class='ee-k'>1:</span><span class='ee-v'>28.460462403201596</span></li></ul></li><li><label class='ee-shut'>63: [77.22480247959922, 28.464953932951712]<input type='checkbox' class='ee-toggle'></label><ul><li><span class='ee-k'>0:</span><span class='ee-v'>77.22480247959922</span></li><li><span class='ee-k'>1:</span><span class='ee-v'>28.464953932951712</span></li></ul></li><li><label class='ee-shut'>64: [77.22704821518467, 28.469445467443805]<input type='checkbox' class='ee-toggle'></label><ul><li><span class='ee-k'>0:</span><span class='ee-v'>77.22704821518467</span></li><li><span class='ee-k'>1:</span><span class='ee-v'>28.469445467443805</span></li></ul></li><li><label class='ee-shut'>65: [77.23153973361624, 28.47618272938928]<input type='checkbox' class='ee-toggle'></label><ul><li><span class='ee-k'>0:</span><span class='ee-v'>77.23153973361624</span></li><li><span class='ee-k'>1:</span><span class='ee-v'>28.47618272938928</span></li></ul></li><li><label class='ee-shut'>66: [77.23603125650071, 28.480674261556928]<input type='checkbox' class='ee-toggle'></label><ul><li><span class='ee-k'>0:</span><span class='ee-v'>77.23603125650071</span></li><li><span class='ee-k'>1:</span><span class='ee-v'>28.480674261556928</span></li></ul></li><li><label class='ee-shut'>67: [77.24276848317754, 28.485165700461092]<input type='checkbox' class='ee-toggle'></label><ul><li><span class='ee-k'>0:</span><span class='ee-v'>77.24276848317754</span></li><li><span class='ee-k'>1:</span><span class='ee-v'>28.485165700461092</span></li></ul></li><li><label class='ee-shut'>68: [77.25399730283502, 28.48516577467901]<input type='checkbox' class='ee-toggle'></label><ul><li><span class='ee-k'>0:</span><span class='ee-v'>77.25399730283502</span></li><li><span class='ee-k'>1:</span><span class='ee-v'>28.48516577467901</span></li></ul></li><li><label class='ee-shut'>69: [77.2607345539497, 28.48741152169537]<input type='checkbox' class='ee-toggle'></label><ul><li><span class='ee-k'>0:</span><span class='ee-v'>77.2607345539497</span></li><li><span class='ee-k'>1:</span><span class='ee-v'>28.48741152169537</span></li></ul></li><li><label class='ee-shut'>70: [77.27196332460404, 28.49639453507063]<input type='checkbox' class='ee-toggle'></label><ul><li><span class='ee-k'>0:</span><span class='ee-v'>77.27196332460404</span></li><li><span class='ee-k'>1:</span><span class='ee-v'>28.49639453507063</span></li></ul></li><li><label class='ee-shut'>71: [77.27870059771345, 28.498640275301618]<input type='checkbox' class='ee-toggle'></label><ul><li><span class='ee-k'>0:</span><span class='ee-v'>77.27870059771345</span></li><li><span class='ee-k'>1:</span><span class='ee-v'>28.498640275301618</span></li></ul></li><li><label class='ee-shut'>72: [77.28543783460483, 28.496394530579643]<input type='checkbox' class='ee-toggle'></label><ul><li><span class='ee-k'>0:</span><span class='ee-v'>77.28543783460483</span></li><li><span class='ee-k'>1:</span><span class='ee-v'>28.496394530579643</span></li></ul></li><li><label class='ee-shut'>73: [77.29666660797925, 28.491903033586816]<input type='checkbox' class='ee-toggle'></label><ul><li><span class='ee-k'>0:</span><span class='ee-v'>77.29666660797925</span></li><li><span class='ee-k'>1:</span><span class='ee-v'>28.491903033586816</span></li></ul></li><li><label class='ee-shut'>74: [77.30115818399071, 28.489657250103296]<input type='checkbox' class='ee-toggle'></label><ul><li><span class='ee-k'>0:</span><span class='ee-v'>77.30115818399071</span></li><li><span class='ee-k'>1:</span><span class='ee-v'>28.489657250103296</span></li></ul></li><li><label class='ee-shut'>75: [77.3078954437944, 28.48965727578551]<input type='checkbox' class='ee-toggle'></label><ul><li><span class='ee-k'>0:</span><span class='ee-v'>77.3078954437944</span></li><li><span class='ee-k'>1:</span><span class='ee-v'>28.48965727578551</span></li></ul></li><li><label class='ee-shut'>76: [77.3146326659033, 28.494148731735464]<input type='checkbox' class='ee-toggle'></label><ul><li><span class='ee-k'>0:</span><span class='ee-v'>77.3146326659033</span></li><li><span class='ee-k'>1:</span><span class='ee-v'>28.494148731735464</span></li></ul></li><li><label class='ee-shut'>77: [77.32136993762293, 28.498640313516308]<input type='checkbox' class='ee-toggle'></label><ul><li><span class='ee-k'>0:</span><span class='ee-v'>77.32136993762293</span></li><li><span class='ee-k'>1:</span><span class='ee-v'>28.498640313516308</span></li></ul></li><li><label class='ee-shut'>78: [77.32586144053957, 28.503131770419227]<input type='checkbox' class='ee-toggle'></label><ul><li><span class='ee-k'>0:</span><span class='ee-v'>77.32586144053957</span></li><li><span class='ee-k'>1:</span><span class='ee-v'>28.503131770419227</span></li></ul></li><li><label class='ee-shut'>79: [77.3281072586011, 28.507623268959808]<input type='checkbox' class='ee-toggle'></label><ul><li><span class='ee-k'>0:</span><span class='ee-v'>77.3281072586011</span></li><li><span class='ee-k'>1:</span><span class='ee-v'>28.507623268959808</span></li></ul></li><li><label class='ee-shut'>80: [77.33484445322081, 28.512114784101964]<input type='checkbox' class='ee-toggle'></label><ul><li><span class='ee-k'>0:</span><span class='ee-v'>77.33484445322081</span></li><li><span class='ee-k'>1:</span><span class='ee-v'>28.512114784101964</span></li></ul></li><li><label class='ee-shut'>81: [77.33709027346632, 28.50986906268259]<input type='checkbox' class='ee-toggle'></label><ul><li><span class='ee-k'>0:</span><span class='ee-v'>77.33709027346632</span></li><li><span class='ee-k'>1:</span><span class='ee-v'>28.50986906268259</span></li></ul></li><li><label class='ee-shut'>82: [77.33709027346632, 28.516606308595147]<input type='checkbox' class='ee-toggle'></label><ul><li><span class='ee-k'>0:</span><span class='ee-v'>77.33709027346632</span></li><li><span class='ee-k'>1:</span><span class='ee-v'>28.516606308595147</span></li></ul></li><li><label class='ee-shut'>83: [77.33484445322081, 28.52109780694895]<input type='checkbox' class='ee-toggle'></label><ul><li><span class='ee-k'>0:</span><span class='ee-v'>77.33484445322081</span></li><li><span class='ee-k'>1:</span><span class='ee-v'>28.52109780694895</span></li></ul></li><li><label class='ee-shut'>84: [77.3303529457729, 28.523343589337347]<input type='checkbox' class='ee-toggle'></label><ul><li><span class='ee-k'>0:</span><span class='ee-v'>77.3303529457729</span></li><li><span class='ee-k'>1:</span><span class='ee-v'>28.523343589337347</span></li></ul></li><li><label class='ee-shut'>85: [77.32136993762295, 28.536818114489137]<input type='checkbox' class='ee-toggle'></label><ul><li><span class='ee-k'>0:</span><span class='ee-v'>77.32136993762295</span></li><li><span class='ee-k'>1:</span><span class='ee-v'>28.536818114489137</span></li></ul></li><li><label class='ee-shut'>86: [77.3146326659033, 28.54130962338957]<input type='checkbox' class='ee-toggle'></label><ul><li><span class='ee-k'>0:</span><span class='ee-v'>77.3146326659033</span></li><li><span class='ee-k'>1:</span><span class='ee-v'>28.54130962338957</span></li></ul></li><li><label class='ee-shut'>87: [77.31014116922432, 28.54355536058809]<input type='checkbox' class='ee-toggle'></label><ul><li><span class='ee-k'>0:</span><span class='ee-v'>77.31014116922432</span></li><li><span class='ee-k'>1:</span><span class='ee-v'>28.54355536058809</span></li></ul></li><li><label class='ee-shut'>88: [77.30340395116566, 28.550292648025188]<input type='checkbox' class='ee-toggle'></label><ul><li><span class='ee-k'>0:</span><span class='ee-v'>77.30340395116566</span></li><li><span class='ee-k'>1:</span><span class='ee-v'>28.550292648025188</span></li></ul></li><li><label class='ee-shut'>89: [77.29442088682926, 28.561521427437555]<input type='checkbox' class='ee-toggle'></label><ul><li><span class='ee-k'>0:</span><span class='ee-v'>77.29442088682926</span></li><li><span class='ee-k'>1:</span><span class='ee-v'>28.561521427437555</span></li></ul></li><li><label class='ee-shut'>90: [77.29442088682926, 28.566012978730424]<input type='checkbox' class='ee-toggle'></label><ul><li><span class='ee-k'>0:</span><span class='ee-v'>77.29442088682926</span></li><li><span class='ee-k'>1:</span><span class='ee-v'>28.566012978730424</span></li></ul></li><li><label class='ee-shut'>91: [77.29442088682926, 28.579487519451988]<input type='checkbox' class='ee-toggle'></label><ul><li><span class='ee-k'>0:</span><span class='ee-v'>77.29442088682926</span></li><li><span class='ee-k'>1:</span><span class='ee-v'>28.579487519451988</span></li></ul></li><li><label class='ee-shut'>92: [77.29442088682926, 28.581733243215705]<input type='checkbox' class='ee-toggle'></label><ul><li><span class='ee-k'>0:</span><span class='ee-v'>77.29442088682926</span></li><li><span class='ee-k'>1:</span><span class='ee-v'>28.581733243215705</span></li></ul></li><li><label class='ee-shut'>93: [77.3078954437944, 28.597453560592825]<input type='checkbox' class='ee-toggle'></label><ul><li><span class='ee-k'>0:</span><span class='ee-v'>77.3078954437944</span></li><li><span class='ee-k'>1:</span><span class='ee-v'>28.597453560592825</span></li></ul></li><li><label class='ee-shut'>94: [77.31014116922432, 28.599699307859854]<input type='checkbox' class='ee-toggle'></label><ul><li><span class='ee-k'>0:</span><span class='ee-v'>77.31014116922432</span></li><li><span class='ee-k'>1:</span><span class='ee-v'>28.599699307859854</span></li></ul></li><li><label class='ee-shut'>95: [77.31687843712513, 28.599699278896107]<input type='checkbox' class='ee-toggle'></label><ul><li><span class='ee-k'>0:</span><span class='ee-v'>77.31687843712513</span></li><li><span class='ee-k'>1:</span><span class='ee-v'>28.599699278896107</span></li></ul></li><li><label class='ee-shut'>96: [77.3281072586011, 28.60419081953537]<input type='checkbox' class='ee-toggle'></label><ul><li><span class='ee-k'>0:</span><span class='ee-v'>77.3281072586011</span></li><li><span class='ee-k'>1:</span><span class='ee-v'>28.60419081953537</span></li></ul></li><li><label class='ee-shut'>97: [77.33259876495195, 28.606436544095537]<input type='checkbox' class='ee-toggle'></label><ul><li><span class='ee-k'>0:</span><span class='ee-v'>77.33259876495195</span></li><li><span class='ee-k'>1:</span><span class='ee-v'>28.606436544095537</span></li></ul></li><li><label class='ee-shut'>98: [77.33709027346632, 28.60868230725332]<input type='checkbox' class='ee-toggle'></label><ul><li><span class='ee-k'>0:</span><span class='ee-v'>77.33709027346632</span></li><li><span class='ee-k'>1:</span><span class='ee-v'>28.60868230725332</span></li></ul></li><li><label class='ee-shut'>99: [77.33709027346632, 28.617665350032066]<input type='checkbox' class='ee-toggle'></label><ul><li><span class='ee-k'>0:</span><span class='ee-v'>77.33709027346632</span></li><li><span class='ee-k'>1:</span><span class='ee-v'>28.617665350032066</span></li></ul></li><li><label class='ee-shut'>100: [77.33709027346632, 28.62215686370856]<input type='checkbox' class='ee-toggle'></label><ul><li><span class='ee-k'>0:</span><span class='ee-v'>77.33709027346632</span></li><li><span class='ee-k'>1:</span><span class='ee-v'>28.62215686370856</span></li></ul></li><li><label class='ee-shut'>101: [77.33484445322081, 28.62664838077984]<input type='checkbox' class='ee-toggle'></label><ul><li><span class='ee-k'>0:</span><span class='ee-v'>77.33484445322081</span></li><li><span class='ee-k'>1:</span><span class='ee-v'>28.62664838077984</span></li></ul></li><li><label class='ee-shut'>102: [77.3303529457729, 28.63113988676894]<input type='checkbox' class='ee-toggle'></label><ul><li><span class='ee-k'>0:</span><span class='ee-v'>77.3303529457729</span></li><li><span class='ee-k'>1:</span><span class='ee-v'>28.63113988676894</span></li></ul></li><li><label class='ee-shut'>103: [77.32136993762293, 28.635631414672226]<input type='checkbox' class='ee-toggle'></label><ul><li><span class='ee-k'>0:</span><span class='ee-v'>77.32136993762293</span></li><li><span class='ee-k'>1:</span><span class='ee-v'>28.635631414672226</span></li></ul></li><li><label class='ee-shut'>104: [77.3146326659033, 28.6423686473775]<input type='checkbox' class='ee-toggle'></label><ul><li><span class='ee-k'>0:</span><span class='ee-v'>77.3146326659033</span></li><li><span class='ee-k'>1:</span><span class='ee-v'>28.6423686473775</span></li></ul></li><li><label class='ee-shut'>105: [77.31014116922432, 28.644614419674316]<input type='checkbox' class='ee-toggle'></label><ul><li><span class='ee-k'>0:</span><span class='ee-v'>77.31014116922432</span></li><li><span class='ee-k'>1:</span><span class='ee-v'>28.644614419674316</span></li></ul></li><li><label class='ee-shut'>106: [77.31238693914824, 28.64686014028208]<input type='checkbox' class='ee-toggle'></label><ul><li><span class='ee-k'>0:</span><span class='ee-v'>77.31238693914824</span></li><li><span class='ee-k'>1:</span><span class='ee-v'>28.64686014028208</span></li></ul></li><li><label class='ee-shut'>107: [77.3146326659033, 28.651351678154093]<input type='checkbox' class='ee-toggle'></label><ul><li><span class='ee-k'>0:</span><span class='ee-v'>77.3146326659033</span></li><li><span class='ee-k'>1:</span><span class='ee-v'>28.651351678154093</span></li></ul></li><li><label class='ee-shut'>108: [77.3146326659033, 28.66258045585334]<input type='checkbox' class='ee-toggle'></label><ul><li><span class='ee-k'>0:</span><span class='ee-v'>77.3146326659033</span></li><li><span class='ee-k'>1:</span><span class='ee-v'>28.66258045585334</span></li></ul></li><li><label class='ee-shut'>109: [77.31687843712513, 28.67156349962394]<input type='checkbox' class='ee-toggle'></label><ul><li><span class='ee-k'>0:</span><span class='ee-v'>77.31687843712513</span></li><li><span class='ee-k'>1:</span><span class='ee-v'>28.67156349962394</span></li></ul></li><li><label class='ee-shut'>110: [77.31687843712513, 28.678300735704987]<input type='checkbox' class='ee-toggle'></label><ul><li><span class='ee-k'>0:</span><span class='ee-v'>77.31687843712513</span></li><li><span class='ee-k'>1:</span><span class='ee-v'>28.678300735704987</span></li></ul></li><li><label class='ee-shut'>111: [77.32586144053958, 28.68279222803714]<input type='checkbox' class='ee-toggle'></label><ul><li><span class='ee-k'>0:</span><span class='ee-v'>77.32586144053958</span></li><li><span class='ee-k'>1:</span><span class='ee-v'>28.68279222803714</span></li></ul></li><li><label class='ee-shut'>112: [77.3281072586011, 28.68503800154116]<input type='checkbox' class='ee-toggle'></label><ul><li><span class='ee-k'>0:</span><span class='ee-v'>77.3281072586011</span></li><li><span class='ee-k'>1:</span><span class='ee-v'>28.68503800154116</span></li></ul></li><li><label class='ee-shut'>113: [77.3281072586011, 28.69177523792697]<input type='checkbox' class='ee-toggle'></label><ul><li><span class='ee-k'>0:</span><span class='ee-v'>77.3281072586011</span></li><li><span class='ee-k'>1:</span><span class='ee-v'>28.69177523792697</span></li></ul></li><li><label class='ee-shut'>114: [77.32136993762293, 28.700758271477405]<input type='checkbox' class='ee-toggle'></label><ul><li><span class='ee-k'>0:</span><span class='ee-v'>77.32136993762293</span></li><li><span class='ee-k'>1:</span><span class='ee-v'>28.700758271477405</span></li></ul></li><li><label class='ee-shut'>115: [77.31912416515425, 28.703004081882025]<input type='checkbox' class='ee-toggle'></label><ul><li><span class='ee-k'>0:</span><span class='ee-v'>77.31912416515425</span></li><li><span class='ee-k'>1:</span><span class='ee-v'>28.703004081882025</span></li></ul></li><li><label class='ee-shut'>116: [77.32136993762293, 28.71198710762604]<input type='checkbox' class='ee-toggle'></label><ul><li><span class='ee-k'>0:</span><span class='ee-v'>77.32136993762293</span></li><li><span class='ee-k'>1:</span><span class='ee-v'>28.71198710762604</span></li></ul></li><li><label class='ee-shut'>117: [77.32361566687509, 28.716478604147692]<input type='checkbox' class='ee-toggle'></label><ul><li><span class='ee-k'>0:</span><span class='ee-v'>77.32361566687509</span></li><li><span class='ee-k'>1:</span><span class='ee-v'>28.716478604147692</span></li></ul></li><li><label class='ee-shut'>118: [77.31687843712513, 28.716478539639272]<input type='checkbox' class='ee-toggle'></label><ul><li><span class='ee-k'>0:</span><span class='ee-v'>77.31687843712513</span></li><li><span class='ee-k'>1:</span><span class='ee-v'>28.716478539639272</span></li></ul></li><li><label class='ee-shut'>119: [77.30564967521944, 28.71872431821604]<input type='checkbox' class='ee-toggle'></label><ul><li><span class='ee-k'>0:</span><span class='ee-v'>77.30564967521944</span></li><li><span class='ee-k'>1:</span><span class='ee-v'>28.71872431821604</span></li></ul></li><li><label class='ee-shut'>120: [77.30115818399071, 28.716478578919926]<input type='checkbox' class='ee-toggle'></label><ul><li><span class='ee-k'>0:</span><span class='ee-v'>77.30115818399071</span></li><li><span class='ee-k'>1:</span><span class='ee-v'>28.716478578919926</span></li></ul></li><li><label class='ee-shut'>121: [77.29666660797925, 28.711987099081004]<input type='checkbox' class='ee-toggle'></label><ul><li><span class='ee-k'>0:</span><span class='ee-v'>77.29666660797925</span></li><li><span class='ee-k'>1:</span><span class='ee-v'>28.711987099081004</span></li></ul></li><li><label class='ee-shut'>122: [77.29217512260576, 28.70974134408083]<input type='checkbox' class='ee-toggle'></label><ul><li><span class='ee-k'>0:</span><span class='ee-v'>77.29217512260576</span></li><li><span class='ee-k'>1:</span><span class='ee-v'>28.70974134408083</span></li></ul></li><li><label class='ee-shut'>123: [77.28543783460483, 28.711987100164357]<input type='checkbox' class='ee-toggle'></label><ul><li><span class='ee-k'>0:</span><span class='ee-v'>77.28543783460483</span></li><li><span class='ee-k'>1:</span><span class='ee-v'>28.711987100164357</span></li></ul></li><li><label class='ee-shut'>124: [77.28319207353692, 28.718724335619317]<input type='checkbox' class='ee-toggle'></label><ul><li><span class='ee-k'>0:</span><span class='ee-v'>77.28319207353692</span></li><li><span class='ee-k'>1:</span><span class='ee-v'>28.718724335619317</span></li></ul></li><li><label class='ee-shut'>125: [77.28543783460483, 28.723215824891223]<input type='checkbox' class='ee-toggle'></label><ul><li><span class='ee-k'>0:</span><span class='ee-v'>77.28543783460483</span></li><li><span class='ee-k'>1:</span><span class='ee-v'>28.723215824891223</span></li></ul></li><li><label class='ee-shut'>126: [77.28094635712618, 28.729953084241558]<input type='checkbox' class='ee-toggle'></label><ul><li><span class='ee-k'>0:</span><span class='ee-v'>77.28094635712618</span></li><li><span class='ee-k'>1:</span><span class='ee-v'>28.729953084241558</span></li></ul></li><li><label class='ee-shut'>127: [77.27645479530895, 28.734444656630153]<input type='checkbox' class='ee-toggle'></label><ul><li><span class='ee-k'>0:</span><span class='ee-v'>77.27645479530895</span></li><li><span class='ee-k'>1:</span><span class='ee-v'>28.734444656630153</span></li></ul></li><li><label class='ee-shut'>128: [77.27196332460404, 28.738936105845028]<input type='checkbox' class='ee-toggle'></label><ul><li><span class='ee-k'>0:</span><span class='ee-v'>77.27196332460404</span></li><li><span class='ee-k'>1:</span><span class='ee-v'>28.738936105845028</span></li></ul></li><li><label class='ee-shut'>129: [77.26747185744077, 28.738936137165584]<input type='checkbox' class='ee-toggle'></label><ul><li><span class='ee-k'>0:</span><span class='ee-v'>77.26747185744077</span></li><li><span class='ee-k'>1:</span><span class='ee-v'>28.738936137165584</span></li></ul></li><li><label class='ee-shut'>130: [77.2607345539497, 28.738936134422776]<input type='checkbox' class='ee-toggle'></label><ul><li><span class='ee-k'>0:</span><span class='ee-v'>77.2607345539497</span></li><li><span class='ee-k'>1:</span><span class='ee-v'>28.738936134422776</span></li></ul></li><li><label class='ee-shut'>131: [77.25624300839141, 28.73893610500887]<input type='checkbox' class='ee-toggle'></label><ul><li><span class='ee-k'>0:</span><span class='ee-v'>77.25624300839141</span></li><li><span class='ee-k'>1:</span><span class='ee-v'>28.73893610500887</span></li></ul></li><li><label class='ee-shut'>132: [77.25175155441961, 28.74567339367088]<input type='checkbox' class='ee-toggle'></label><ul><li><span class='ee-k'>0:</span><span class='ee-v'>77.25175155441961</span></li><li><span class='ee-k'>1:</span><span class='ee-v'>28.74567339367088</span></li></ul></li><li><label class='ee-shut'>133: [77.25399730283502, 28.752410692649736]<input type='checkbox' class='ee-toggle'></label><ul><li><span class='ee-k'>0:</span><span class='ee-v'>77.25399730283502</span></li><li><span class='ee-k'>1:</span><span class='ee-v'>28.752410692649736</span></li></ul></li><li><label class='ee-shut'>134: [77.24950576315543, 28.7569021774867]<input type='checkbox' class='ee-toggle'></label><ul><li><span class='ee-k'>0:</span><span class='ee-v'>77.24950576315543</span></li><li><span class='ee-k'>1:</span><span class='ee-v'>28.7569021774867</span></li></ul></li><li><label class='ee-shut'>135: [77.24501422752081, 28.756902139332187]<input type='checkbox' class='ee-toggle'></label><ul><li><span class='ee-k'>0:</span><span class='ee-v'>77.24501422752081</span></li><li><span class='ee-k'>1:</span><span class='ee-v'>28.756902139332187</span></li></ul></li><li><label class='ee-shut'>136: [77.23827695380245, 28.75914793323358]<input type='checkbox' class='ee-toggle'></label><ul><li><span class='ee-k'>0:</span><span class='ee-v'>77.23827695380245</span></li><li><span class='ee-k'>1:</span><span class='ee-v'>28.75914793323358</span></li></ul></li><li><label class='ee-shut'>137: [77.22929399576529, 28.772622505780664]<input type='checkbox' class='ee-toggle'></label><ul><li><span class='ee-k'>0:</span><span class='ee-v'>77.22929399576529</span></li><li><span class='ee-k'>1:</span><span class='ee-v'>28.772622505780664</span></li></ul></li><li><label class='ee-shut'>138: [77.22031096803899, 28.777113976058867]<input type='checkbox' class='ee-toggle'></label><ul><li><span class='ee-k'>0:</span><span class='ee-v'>77.22031096803899</span></li><li><span class='ee-k'>1:</span><span class='ee-v'>28.777113976058867</span></li></ul></li><li><label class='ee-shut'>139: [77.21806519208799, 28.781605535504273]<input type='checkbox' class='ee-toggle'></label><ul><li><span class='ee-k'>0:</span><span class='ee-v'>77.21806519208799</span></li><li><span class='ee-k'>1:</span><span class='ee-v'>28.781605535504273</span></li></ul></li><li><label class='ee-shut'>140: [77.22255670130794, 28.783851285226046]<input type='checkbox' class='ee-toggle'></label><ul><li><span class='ee-k'>0:</span><span class='ee-v'>77.22255670130794</span></li><li><span class='ee-k'>1:</span><span class='ee-v'>28.783851285226046</span></li></ul></li><li><label class='ee-shut'>141: [77.22480247959922, 28.788342770908166]<input type='checkbox' class='ee-toggle'></label><ul><li><span class='ee-k'>0:</span><span class='ee-v'>77.22480247959922</span></li><li><span class='ee-k'>1:</span><span class='ee-v'>28.788342770908166</span></li></ul></li><li><label class='ee-shut'>142: [77.21806519208799, 28.788342803008636]<input type='checkbox' class='ee-toggle'></label><ul><li><span class='ee-k'>0:</span><span class='ee-v'>77.21806519208799</span></li><li><span class='ee-k'>1:</span><span class='ee-v'>28.788342803008636</span></li></ul></li><li><label class='ee-shut'>143: [77.2135736876268, 28.786097014684202]<input type='checkbox' class='ee-toggle'></label><ul><li><span class='ee-k'>0:</span><span class='ee-v'>77.2135736876268</span></li><li><span class='ee-k'>1:</span><span class='ee-v'>28.786097014684202</span></li></ul></li><li><label class='ee-shut'>144: [77.20908218802627, 28.786096993923742]<input type='checkbox' class='ee-toggle'></label><ul><li><span class='ee-k'>0:</span><span class='ee-v'>77.20908218802627</span></li><li><span class='ee-k'>1:</span><span class='ee-v'>28.786096993923742</span></li></ul></li><li><label class='ee-shut'>145: [77.20234488216374, 28.788342749438616]<input type='checkbox' class='ee-toggle'></label><ul><li><span class='ee-k'>0:</span><span class='ee-v'>77.20234488216374</span></li><li><span class='ee-k'>1:</span><span class='ee-v'>28.788342749438616</span></li></ul></li><li><label class='ee-shut'>146: [77.19785339515832, 28.79508005147834]<input type='checkbox' class='ee-toggle'></label><ul><li><span class='ee-k'>0:</span><span class='ee-v'>77.19785339515832</span></li><li><span class='ee-k'>1:</span><span class='ee-v'>28.79508005147834</span></li></ul></li><li><label class='ee-shut'>147: [77.19336191337027, 28.801817271070842]<input type='checkbox' class='ee-toggle'></label><ul><li><span class='ee-k'>0:</span><span class='ee-v'>77.19336191337027</span></li><li><span class='ee-k'>1:</span><span class='ee-v'>28.801817271070842</span></li></ul></li><li><label class='ee-shut'>148: [77.1956076316717, 28.81529186819846]<input type='checkbox' class='ee-toggle'></label><ul><li><span class='ee-k'>0:</span><span class='ee-v'>77.1956076316717</span></li><li><span class='ee-k'>1:</span><span class='ee-v'>28.81529186819846</span></li></ul></li><li><label class='ee-shut'>149: [77.2135736876268, 28.81304611610663]<input type='checkbox' class='ee-toggle'></label><ul><li><span class='ee-k'>0:</span><span class='ee-v'>77.2135736876268</span></li><li><span class='ee-k'>1:</span><span class='ee-v'>28.81304611610663</span></li></ul></li><li><label class='ee-shut'>150: [77.21806519208799, 28.835503660275197]<input type='checkbox' class='ee-toggle'></label><ul><li><span class='ee-k'>0:</span><span class='ee-v'>77.21806519208799</span></li><li><span class='ee-k'>1:</span><span class='ee-v'>28.835503660275197</span></li></ul></li><li><label class='ee-shut'>151: [77.21132795914373, 28.844486659657083]<input type='checkbox' class='ee-toggle'></label><ul><li><span class='ee-k'>0:</span><span class='ee-v'>77.21132795914373</span></li><li><span class='ee-k'>1:</span><span class='ee-v'>28.844486659657083</span></li></ul></li><li><label class='ee-shut'>152: [77.21132795914373, 28.855715465768565]<input type='checkbox' class='ee-toggle'></label><ul><li><span class='ee-k'>0:</span><span class='ee-v'>77.21132795914373</span></li><li><span class='ee-k'>1:</span><span class='ee-v'>28.855715465768565</span></li></ul></li><li><label class='ee-shut'>153: [77.20683637428466, 28.860206959611514]<input type='checkbox' class='ee-toggle'></label><ul><li><span class='ee-k'>0:</span><span class='ee-v'>77.20683637428466</span></li><li><span class='ee-k'>1:</span><span class='ee-v'>28.860206959611514</span></li></ul></li><li><label class='ee-shut'>154: [77.20459069338834, 28.86245269923328]<input type='checkbox' class='ee-toggle'></label><ul><li><span class='ee-k'>0:</span><span class='ee-v'>77.20459069338834</span></li><li><span class='ee-k'>1:</span><span class='ee-v'>28.86245269923328</span></li></ul></li><li><label class='ee-shut'>155: [77.200099116082, 28.86469843994181]<input type='checkbox' class='ee-toggle'></label><ul><li><span class='ee-k'>0:</span><span class='ee-v'>77.200099116082</span></li><li><span class='ee-k'>1:</span><span class='ee-v'>28.86469843994181</span></li></ul></li><li><label class='ee-shut'>156: [77.19336191337027, 28.864698458024748]<input type='checkbox' class='ee-toggle'></label><ul><li><span class='ee-k'>0:</span><span class='ee-v'>77.19336191337027</span></li><li><span class='ee-k'>1:</span><span class='ee-v'>28.864698458024748</span></li></ul></li><li><label class='ee-shut'>157: [77.18662459101508, 28.86694422415634]<input type='checkbox' class='ee-toggle'></label><ul><li><span class='ee-k'>0:</span><span class='ee-v'>77.18662459101508</span></li><li><span class='ee-k'>1:</span><span class='ee-v'>28.86694422415634</span></li></ul></li><li><label class='ee-shut'>158: [77.18437887810936, 28.862452667627636]<input type='checkbox' class='ee-toggle'></label><ul><li><span class='ee-k'>0:</span><span class='ee-v'>77.18437887810936</span></li><li><span class='ee-k'>1:</span><span class='ee-v'>28.862452667627636</span></li></ul></li><li><label class='ee-shut'>159: [77.1641670429805, 28.860206976999432]<input type='checkbox' class='ee-toggle'></label><ul><li><span class='ee-k'>0:</span><span class='ee-v'>77.1641670429805</span></li><li><span class='ee-k'>1:</span><span class='ee-v'>28.860206976999432</span></li></ul></li><li><label class='ee-shut'>160: [77.15967551579342, 28.85796118673411]<input type='checkbox' class='ee-toggle'></label><ul><li><span class='ee-k'>0:</span><span class='ee-v'>77.15967551579342</span></li><li><span class='ee-k'>1:</span><span class='ee-v'>28.85796118673411</span></li></ul></li><li><label class='ee-shut'>161: [77.15069247975109, 28.848978198673912]<input type='checkbox' class='ee-toggle'></label><ul><li><span class='ee-k'>0:</span><span class='ee-v'>77.15069247975109</span></li><li><span class='ee-k'>1:</span><span class='ee-v'>28.848978198673912</span></li></ul></li><li><label class='ee-shut'>162: [77.14170946883, 28.842240872291647]<input type='checkbox' class='ee-toggle'></label><ul><li><span class='ee-k'>0:</span><span class='ee-v'>77.14170946883</span></li><li><span class='ee-k'>1:</span><span class='ee-v'>28.842240872291647</span></li></ul></li><li><label class='ee-shut'>163: [77.13946369817597, 28.842240903591744]<input type='checkbox' class='ee-toggle'></label><ul><li><span class='ee-k'>0:</span><span class='ee-v'>77.13946369817597</span></li><li><span class='ee-k'>1:</span><span class='ee-v'>28.842240903591744</span></li></ul></li><li><label class='ee-shut'>164: [77.13272648384473, 28.844486698003166]<input type='checkbox' class='ee-toggle'></label><ul><li><span class='ee-k'>0:</span><span class='ee-v'>77.13272648384473</span></li><li><span class='ee-k'>1:</span><span class='ee-v'>28.844486698003166</span></li></ul></li><li><label class='ee-shut'>165: [77.1349722056698, 28.853469661556627]<input type='checkbox' class='ee-toggle'></label><ul><li><span class='ee-k'>0:</span><span class='ee-v'>77.1349722056698</span></li><li><span class='ee-k'>1:</span><span class='ee-v'>28.853469661556627</span></li></ul></li><li><label class='ee-shut'>166: [77.1349722056698, 28.857961210558887]<input type='checkbox' class='ee-toggle'></label><ul><li><span class='ee-k'>0:</span><span class='ee-v'>77.1349722056698</span></li><li><span class='ee-k'>1:</span><span class='ee-v'>28.857961210558887</span></li></ul></li><li><label class='ee-shut'>167: [77.12823500133253, 28.864698463773205]<input type='checkbox' class='ee-toggle'></label><ul><li><span class='ee-k'>0:</span><span class='ee-v'>77.12823500133253</span></li><li><span class='ee-k'>1:</span><span class='ee-v'>28.864698463773205</span></li></ul></li><li><label class='ee-shut'>168: [77.11026887679746, 28.866944212765173]<input type='checkbox' class='ee-toggle'></label><ul><li><span class='ee-k'>0:</span><span class='ee-v'>77.11026887679746</span></li><li><span class='ee-k'>1:</span><span class='ee-v'>28.866944212765173</span></li></ul></li><li><label class='ee-shut'>169: [77.10802313016252, 28.869190011681372]<input type='checkbox' class='ee-toggle'></label><ul><li><span class='ee-k'>0:</span><span class='ee-v'>77.10802313016252</span></li><li><span class='ee-k'>1:</span><span class='ee-v'>28.869190011681372</span></li></ul></li><li><label class='ee-shut'>170: [77.0990401618599, 28.87143574397096]<input type='checkbox' class='ee-toggle'></label><ul><li><span class='ee-k'>0:</span><span class='ee-v'>77.0990401618599</span></li><li><span class='ee-k'>1:</span><span class='ee-v'>28.87143574397096</span></li></ul></li><li><label class='ee-shut'>171: [77.08331986386412, 28.873681475757515]<input type='checkbox' class='ee-toggle'></label><ul><li><span class='ee-k'>0:</span><span class='ee-v'>77.08331986386412</span></li><li><span class='ee-k'>1:</span><span class='ee-v'>28.873681475757515</span></li></ul></li><li><label class='ee-shut'>172: [77.07658256583112, 28.884910293698187]<input type='checkbox' class='ee-toggle'></label><ul><li><span class='ee-k'>0:</span><span class='ee-v'>77.07658256583112</span></li><li><span class='ee-k'>1:</span><span class='ee-v'>28.884910293698187</span></li></ul></li><li><label class='ee-shut'>173: [77.06984532959878, 28.880418767756147]<input type='checkbox' class='ee-toggle'></label><ul><li><span class='ee-k'>0:</span><span class='ee-v'>77.06984532959878</span></li><li><span class='ee-k'>1:</span><span class='ee-v'>28.880418767756147</span></li></ul></li><li><label class='ee-shut'>174: [77.06535377569301, 28.873681461401837]<input type='checkbox' class='ee-toggle'></label><ul><li><span class='ee-k'>0:</span><span class='ee-v'>77.06535377569301</span></li><li><span class='ee-k'>1:</span><span class='ee-v'>28.873681461401837</span></li></ul></li><li><label class='ee-shut'>175: [77.04963346815089, 28.87368146253163]<input type='checkbox' class='ee-toggle'></label><ul><li><span class='ee-k'>0:</span><span class='ee-v'>77.04963346815089</span></li><li><span class='ee-k'>1:</span><span class='ee-v'>28.87368146253163</span></li></ul></li><li><label class='ee-shut'>176: [77.03840471587712, 28.853469648490584]<input type='checkbox' class='ee-toggle'></label><ul><li><span class='ee-k'>0:</span><span class='ee-v'>77.03840471587712</span></li><li><span class='ee-k'>1:</span><span class='ee-v'>28.853469648490584</span></li></ul></li><li><label class='ee-shut'>177: [77.03166745570162, 28.837749406099512]<input type='checkbox' class='ee-toggle'></label><ul><li><span class='ee-k'>0:</span><span class='ee-v'>77.03166745570162</span></li><li><span class='ee-k'>1:</span><span class='ee-v'>28.837749406099512</span></li></ul></li><li><label class='ee-shut'>178: [77.02493017175928, 28.835503651801197]<input type='checkbox' class='ee-toggle'></label><ul><li><span class='ee-k'>0:</span><span class='ee-v'>77.02493017175928</span></li><li><span class='ee-k'>1:</span><span class='ee-v'>28.835503651801197</span></li></ul></li><li><label class='ee-shut'>179: [77.01819295225188, 28.837749401904023]<input type='checkbox' class='ee-toggle'></label><ul><li><span class='ee-k'>0:</span><span class='ee-v'>77.01819295225188</span></li><li><span class='ee-k'>1:</span><span class='ee-v'>28.837749401904023</span></li></ul></li><li><label class='ee-shut'>180: [77.00696418240891, 28.835503655920665]<input type='checkbox' class='ee-toggle'></label><ul><li><span class='ee-k'>0:</span><span class='ee-v'>77.00696418240891</span></li><li><span class='ee-k'>1:</span><span class='ee-v'>28.835503655920665</span></li></ul></li><li><label class='ee-shut'>181: [76.98899808168898, 28.839995148721616]<input type='checkbox' class='ee-toggle'></label><ul><li><span class='ee-k'>0:</span><span class='ee-v'>76.98899808168898</span></li><li><span class='ee-k'>1:</span><span class='ee-v'>28.839995148721616</span></li></ul></li><li><label class='ee-shut'>182: [76.9845066030269, 28.839995111883255]<input type='checkbox' class='ee-toggle'></label><ul><li><span class='ee-k'>0:</span><span class='ee-v'>76.9845066030269</span></li><li><span class='ee-k'>1:</span><span class='ee-v'>28.839995111883255</span></li></ul></li><li><label class='ee-shut'>183: [76.98001504649379, 28.83774941484033]<input type='checkbox' class='ee-toggle'></label><ul><li><span class='ee-k'>0:</span><span class='ee-v'>76.98001504649379</span></li><li><span class='ee-k'>1:</span><span class='ee-v'>28.83774941484033</span></li></ul></li><li><label class='ee-shut'>184: [76.97327779662089, 28.826520613231292]<input type='checkbox' class='ee-toggle'></label><ul><li><span class='ee-k'>0:</span><span class='ee-v'>76.97327779662089</span></li><li><span class='ee-k'>1:</span><span class='ee-v'>28.826520613231292</span></li></ul></li><li><label class='ee-shut'>185: [76.97103205178303, 28.824274878906724]<input type='checkbox' class='ee-toggle'></label><ul><li><span class='ee-k'>0:</span><span class='ee-v'>76.97103205178303</span></li><li><span class='ee-k'>1:</span><span class='ee-v'>28.824274878906724</span></li></ul></li><li><label class='ee-shut'>186: [76.95980332260879, 28.831012094868395]<input type='checkbox' class='ee-toggle'></label><ul><li><span class='ee-k'>0:</span><span class='ee-v'>76.95980332260879</span></li><li><span class='ee-k'>1:</span><span class='ee-v'>28.831012094868395</span></li></ul></li><li><label class='ee-shut'>187: [76.95755750553661, 28.831012141846124]<input type='checkbox' class='ee-toggle'></label><ul><li><span class='ee-k'>0:</span><span class='ee-v'>76.95755750553661</span></li><li><span class='ee-k'>1:</span><span class='ee-v'>28.831012141846124</span></li></ul></li><li><label class='ee-shut'>188: [76.95531173507419, 28.81978330470546]<input type='checkbox' class='ee-toggle'></label><ul><li><span class='ee-k'>0:</span><span class='ee-v'>76.95531173507419</span></li><li><span class='ee-k'>1:</span><span class='ee-v'>28.81978330470546</span></li></ul></li><li><label class='ee-shut'>189: [76.94857452766354, 28.817537562468004]<input type='checkbox' class='ee-toggle'></label><ul><li><span class='ee-k'>0:</span><span class='ee-v'>76.94857452766354</span></li><li><span class='ee-k'>1:</span><span class='ee-v'>28.817537562468004</span></li></ul></li><li><label class='ee-shut'>190: [76.9418372127371, 28.819783385140372]<input type='checkbox' class='ee-toggle'></label><ul><li><span class='ee-k'>0:</span><span class='ee-v'>76.9418372127371</span></li><li><span class='ee-k'>1:</span><span class='ee-v'>28.819783385140372</span></li></ul></li><li><label class='ee-shut'>191: [76.93734575642112, 28.80855457396516]<input type='checkbox' class='ee-toggle'></label><ul><li><span class='ee-k'>0:</span><span class='ee-v'>76.93734575642112</span></li><li><span class='ee-k'>1:</span><span class='ee-v'>28.80855457396516</span></li></ul></li><li><label class='ee-shut'>192: [76.93734575642112, 28.804063040645918]<input type='checkbox' class='ee-toggle'></label><ul><li><span class='ee-k'>0:</span><span class='ee-v'>76.93734575642112</span></li><li><span class='ee-k'>1:</span><span class='ee-v'>28.804063040645918</span></li></ul></li><li><label class='ee-shut'>193: [76.94408296699908, 28.79507999794342]<input type='checkbox' class='ee-toggle'></label><ul><li><span class='ee-k'>0:</span><span class='ee-v'>76.94408296699908</span></li><li><span class='ee-k'>1:</span><span class='ee-v'>28.79507999794342</span></li></ul></li><li><label class='ee-shut'>194: [76.9418372127371, 28.78834278407004]<input type='checkbox' class='ee-toggle'></label><ul><li><span class='ee-k'>0:</span><span class='ee-v'>76.9418372127371</span></li><li><span class='ee-k'>1:</span><span class='ee-v'>28.78834278407004</span></li></ul></li><li><label class='ee-shut'>195: [76.94408296699908, 28.779359750319898]<input type='checkbox' class='ee-toggle'></label><ul><li><span class='ee-k'>0:</span><span class='ee-v'>76.94408296699908</span></li><li><span class='ee-k'>1:</span><span class='ee-v'>28.779359750319898</span></li></ul></li><li><label class='ee-shut'>196: [76.94632876795175, 28.774868214716726]<input type='checkbox' class='ee-toggle'></label><ul><li><span class='ee-k'>0:</span><span class='ee-v'>76.94632876795175</span></li><li><span class='ee-k'>1:</span><span class='ee-v'>28.774868214716726</span></li></ul></li><li><label class='ee-shut'>197: [76.93734575642112, 28.759147918413365]<input type='checkbox' class='ee-toggle'></label><ul><li><span class='ee-k'>0:</span><span class='ee-v'>76.93734575642112</span></li><li><span class='ee-k'>1:</span><span class='ee-v'>28.759147918413365</span></li></ul></li><li><label class='ee-shut'>198: [76.94632876795175, 28.750164904130024]<input type='checkbox' class='ee-toggle'></label><ul><li><span class='ee-k'>0:</span><span class='ee-v'>76.94632876795175</span></li><li><span class='ee-k'>1:</span><span class='ee-v'>28.750164904130024</span></li></ul></li><li><label class='ee-shut'>199: [76.95082024612415, 28.745673365100938]<input type='checkbox' class='ee-toggle'></label><ul><li><span class='ee-k'>0:</span><span class='ee-v'>76.95082024612415</span></li><li><span class='ee-k'>1:</span><span class='ee-v'>28.745673365100938</span></li></ul></li><li><label class='ee-shut'>200: [76.94857452766354, 28.741181859583406]<input type='checkbox' class='ee-toggle'></label><ul><li><span class='ee-k'>0:</span><span class='ee-v'>76.94857452766354</span></li><li><span class='ee-k'>1:</span><span class='ee-v'>28.741181859583406</span></li></ul></li><li><label class='ee-shut'>201: [76.95082024612415, 28.736690370304363]<input type='checkbox' class='ee-toggle'></label><ul><li><span class='ee-k'>0:</span><span class='ee-v'>76.95082024612415</span></li><li><span class='ee-k'>1:</span><span class='ee-v'>28.736690370304363</span></li></ul></li><li><label class='ee-shut'>202: [76.9418372127371, 28.71647860286372]<input type='checkbox' class='ee-toggle'></label><ul><li><span class='ee-k'>0:</span><span class='ee-v'>76.9418372127371</span></li><li><span class='ee-k'>1:</span><span class='ee-v'>28.71647860286372</span></li></ul></li><li><label class='ee-shut'>203: [76.95082024612415, 28.70974129973353]<input type='checkbox' class='ee-toggle'></label><ul><li><span class='ee-k'>0:</span><span class='ee-v'>76.95082024612415</span></li><li><span class='ee-k'>1:</span><span class='ee-v'>28.70974129973353</span></li></ul></li><li><label class='ee-shut'>204: [76.95531173507419, 28.70524976192422]<input type='checkbox' class='ee-toggle'></label><ul><li><span class='ee-k'>0:</span><span class='ee-v'>76.95531173507419</span></li><li><span class='ee-k'>1:</span><span class='ee-v'>28.70524976192422</span></li></ul></li><li><label class='ee-shut'>205: [76.95531173507419, 28.700758294069733]<input type='checkbox' class='ee-toggle'></label><ul><li><span class='ee-k'>0:</span><span class='ee-v'>76.95531173507419</span></li><li><span class='ee-k'>1:</span><span class='ee-v'>28.700758294069733</span></li></ul></li><li><label class='ee-shut'>206: [76.95082024612415, 28.69402098829881]<input type='checkbox' class='ee-toggle'></label><ul><li><span class='ee-k'>0:</span><span class='ee-v'>76.95082024612415</span></li><li><span class='ee-k'>1:</span><span class='ee-v'>28.69402098829881</span></li></ul></li><li><label class='ee-shut'>207: [76.94857452766354, 28.687283803256257]<input type='checkbox' class='ee-toggle'></label><ul><li><span class='ee-k'>0:</span><span class='ee-v'>76.94857452766354</span></li><li><span class='ee-k'>1:</span><span class='ee-v'>28.687283803256257</span></li></ul></li><li><label class='ee-shut'>208: [76.94632876795175, 28.682792263894616]<input type='checkbox' class='ee-toggle'></label><ul><li><span class='ee-k'>0:</span><span class='ee-v'>76.94632876795175</span></li><li><span class='ee-k'>1:</span><span class='ee-v'>28.682792263894616</span></li></ul></li><li><label class='ee-shut'>209: [76.94632876795175, 28.676054960410315]<input type='checkbox' class='ee-toggle'></label><ul><li><span class='ee-k'>0:</span><span class='ee-v'>76.94632876795175</span></li><li><span class='ee-k'>1:</span><span class='ee-v'>28.676054960410315</span></li></ul></li><li><label class='ee-shut'>210: [76.9418372127371, 28.676054981598618]<input type='checkbox' class='ee-toggle'></label><ul><li><span class='ee-k'>0:</span><span class='ee-v'>76.9418372127371</span></li><li><span class='ee-k'>1:</span><span class='ee-v'>28.676054981598618</span></li></ul></li><li><label class='ee-shut'>211: [76.9306084388812, 28.673809204502987]<input type='checkbox' class='ee-toggle'></label><ul><li><span class='ee-k'>0:</span><span class='ee-v'>76.9306084388812</span></li><li><span class='ee-k'>1:</span><span class='ee-v'>28.673809204502987</span></li></ul></li><li><label class='ee-shut'>212: [76.92387119056836, 28.669317708206783]<input type='checkbox' class='ee-toggle'></label><ul><li><span class='ee-k'>0:</span><span class='ee-v'>76.92387119056836</span></li><li><span class='ee-k'>1:</span><span class='ee-v'>28.669317708206783</span></li></ul></li><li><label class='ee-shut'>213: [76.91713392389318, 28.658088923920456]<input type='checkbox' class='ee-toggle'></label><ul><li><span class='ee-k'>0:</span><span class='ee-v'>76.91713392389318</span></li><li><span class='ee-k'>1:</span><span class='ee-v'>28.658088923920456</span></li></ul></li><li><label class='ee-shut'>214: [76.91713392389318, 28.653597429651377]<input type='checkbox' class='ee-toggle'></label><ul><li><span class='ee-k'>0:</span><span class='ee-v'>76.91713392389318</span></li><li><span class='ee-k'>1:</span><span class='ee-v'>28.653597429651377</span></li></ul></li><li><label class='ee-shut'>215: [76.93285422325938, 28.637877146472462]<input type='checkbox' class='ee-toggle'></label><ul><li><span class='ee-k'>0:</span><span class='ee-v'>76.93285422325938</span></li><li><span class='ee-k'>1:</span><span class='ee-v'>28.637877146472462</span></li></ul></li><li><label class='ee-shut'>216: [76.9261169225222, 28.628894115767455]<input type='checkbox' class='ee-toggle'></label><ul><li><span class='ee-k'>0:</span><span class='ee-v'>76.9261169225222</span></li><li><span class='ee-k'>1:</span><span class='ee-v'>28.628894115767455</span></li></ul></li><li><label class='ee-shut'>217: [76.92387119056836, 28.628894125553355]<input type='checkbox' class='ee-toggle'></label><ul><li><span class='ee-k'>0:</span><span class='ee-v'>76.92387119056836</span></li><li><span class='ee-k'>1:</span><span class='ee-v'>28.628894125553355</span></li></ul></li><li><label class='ee-shut'>218: [76.91039663919067, 28.637877100247007]<input type='checkbox' class='ee-toggle'></label><ul><li><span class='ee-k'>0:</span><span class='ee-v'>76.91039663919067</span></li><li><span class='ee-k'>1:</span><span class='ee-v'>28.637877100247007</span></li></ul></li><li><label class='ee-shut'>219: [76.90365942474459, 28.63787712628967]<input type='checkbox' class='ee-toggle'></label><ul><li><span class='ee-k'>0:</span><span class='ee-v'>76.90365942474459</span></li><li><span class='ee-k'>1:</span><span class='ee-v'>28.63787712628967</span></li></ul></li><li><label class='ee-shut'>220: [76.89692210499737, 28.63338559901195]<input type='checkbox' class='ee-toggle'></label><ul><li><span class='ee-k'>0:</span><span class='ee-v'>76.89692210499737</span></li><li><span class='ee-k'>1:</span><span class='ee-v'>28.63338559901195</span></li></ul></li><li><label class='ee-shut'>221: [76.89467636704018, 28.633385579503777]<input type='checkbox' class='ee-toggle'></label><ul><li><span class='ee-k'>0:</span><span class='ee-v'>76.89467636704018</span></li><li><span class='ee-k'>1:</span><span class='ee-v'>28.633385579503777</span></li></ul></li><li><label class='ee-shut'>222: [76.8789561103673, 28.637877092526452]<input type='checkbox' class='ee-toggle'></label><ul><li><span class='ee-k'>0:</span><span class='ee-v'>76.8789561103673</span></li><li><span class='ee-k'>1:</span><span class='ee-v'>28.637877092526452</span></li></ul></li><li><label class='ee-shut'>223: [76.86099004999728, 28.601945048668203]<input type='checkbox' class='ee-toggle'></label><ul><li><span class='ee-k'>0:</span><span class='ee-v'>76.86099004999728</span></li><li><span class='ee-k'>1:</span><span class='ee-v'>28.601945048668203</span></li></ul></li><li><label class='ee-shut'>224: [76.8542527747703, 28.592961994800625]<input type='checkbox' class='ee-toggle'></label><ul><li><span class='ee-k'>0:</span><span class='ee-v'>76.8542527747703</span></li><li><span class='ee-k'>1:</span><span class='ee-v'>28.592961994800625</span></li></ul></li><li><label class='ee-shut'>225: [76.84976128876723, 28.590716223784987]<input type='checkbox' class='ee-toggle'></label><ul><li><span class='ee-k'>0:</span><span class='ee-v'>76.84976128876723</span></li><li><span class='ee-k'>1:</span><span class='ee-v'>28.590716223784987</span></li></ul></li><li><label class='ee-shut'>226: [76.8340409491124, 28.590716228241277]<input type='checkbox' class='ee-toggle'></label><ul><li><span class='ee-k'>0:</span><span class='ee-v'>76.8340409491124</span></li><li><span class='ee-k'>1:</span><span class='ee-v'>28.590716228241277</span></li></ul></li><li><label class='ee-shut'>227: [76.83179521216374, 28.581733259417586]<input type='checkbox' class='ee-toggle'></label><ul><li><span class='ee-k'>0:</span><span class='ee-v'>76.83179521216374</span></li><li><span class='ee-k'>1:</span><span class='ee-v'>28.581733259417586</span></li></ul></li></ul></li></ul></li></ul></li></ul></li></ul></li></ul></div><script>function toggleHeader() {\n",
              "    const parent = this.parentElement;\n",
              "    parent.className = parent.className === \"ee-open\" ? \"ee-shut\" : \"ee-open\";\n",
              "}\n",
              "\n",
              "for (let c of document.getElementsByClassName(\"ee-toggle\")) {\n",
              "    c.onclick = toggleHeader;\n",
              "}</script></div>"
            ]
          },
          "metadata": {},
          "execution_count": 7
        }
      ]
    },
    {
      "cell_type": "markdown",
      "source": [
        "Masking the NDWI will set value 1 for pixels with ndwi more than 0 and rest will be set to 0\n"
      ],
      "metadata": {
        "id": "ySNrleFT6zdY"
      }
    },
    {
      "cell_type": "markdown",
      "source": [
        "## Calculating the area\n",
        "\n",
        "Using the [`ee.Image.pixelArea()`](https://developers.google.com/earth-engine/apidocs/ee-image-pixelarea): This will calculate the area of each pixel of the image"
      ],
      "metadata": {
        "id": "2f79QnBh8HbQ"
      }
    },
    {
      "cell_type": "code",
      "source": [
        "pixel_area = ndwi_masked.multiply(ee.Image.pixelArea().divide(1e6)) ## Area in km2\n",
        "pixel_area"
      ],
      "metadata": {
        "colab": {
          "base_uri": "https://localhost:8080/",
          "height": 68
        },
        "id": "qhRGm9d-8JlY",
        "outputId": "96d00a24-175f-4413-a3e2-d8c0492b8166"
      },
      "execution_count": 8,
      "outputs": [
        {
          "output_type": "display_data",
          "data": {
            "text/plain": [
              "<IPython.core.display.HTML object>"
            ],
            "text/html": [
              "\n",
              "            <style>\n",
              "                .geemap-dark {\n",
              "                    --jp-widgets-color: white;\n",
              "                    --jp-widgets-label-color: white;\n",
              "                    --jp-ui-font-color1: white;\n",
              "                    --jp-layout-color2: #454545;\n",
              "                    background-color: #383838;\n",
              "                }\n",
              "\n",
              "                .geemap-dark .jupyter-button {\n",
              "                    --jp-layout-color3: #383838;\n",
              "                }\n",
              "\n",
              "                .geemap-colab {\n",
              "                    background-color: var(--colab-primary-surface-color, white);\n",
              "                }\n",
              "\n",
              "                .geemap-colab .jupyter-button {\n",
              "                    --jp-layout-color3: var(--colab-primary-surface-color, white);\n",
              "                }\n",
              "            </style>\n",
              "            "
            ]
          },
          "metadata": {}
        },
        {
          "output_type": "execute_result",
          "data": {
            "text/plain": [
              "<ee.image.Image at 0x784a2e1ee890>"
            ],
            "text/html": [
              "<div><style>:root {\n",
              "  --font-color-primary: var(--jp-content-font-color0, rgba(0, 0, 0, 1));\n",
              "  --font-color-secondary: var(--jp-content-font-color2, rgba(0, 0, 0, 0.6));\n",
              "  --font-color-accent: rgba(123, 31, 162, 1);\n",
              "  --border-color: var(--jp-border-color2, #e0e0e0);\n",
              "  --background-color: var(--jp-layout-color0, white);\n",
              "  --background-color-row-even: var(--jp-layout-color1, white);\n",
              "  --background-color-row-odd: var(--jp-layout-color2, #eeeeee);\n",
              "}\n",
              "\n",
              "html[theme=\"dark\"],\n",
              "body[data-theme=\"dark\"],\n",
              "body.vscode-dark {\n",
              "  --font-color-primary: rgba(255, 255, 255, 1);\n",
              "  --font-color-secondary: rgba(255, 255, 255, 0.6);\n",
              "  --font-color-accent: rgb(173, 132, 190);\n",
              "  --border-color: #2e2e2e;\n",
              "  --background-color: #111111;\n",
              "  --background-color-row-even: #111111;\n",
              "  --background-color-row-odd: #313131;\n",
              "}\n",
              "\n",
              ".ee {\n",
              "  padding: 1em;\n",
              "  line-height: 1.5em;\n",
              "  min-width: 300px;\n",
              "  max-width: 1200px;\n",
              "  overflow-y: scroll;\n",
              "  max-height: 600px;\n",
              "  border: 1px solid var(--border-color);\n",
              "  font-family: monospace;\n",
              "}\n",
              "\n",
              ".ee li {\n",
              "  list-style-type: none;\n",
              "}\n",
              "\n",
              ".ee ul {\n",
              "  padding-left: 1.5em !important;\n",
              "  margin: 0;\n",
              "}\n",
              "\n",
              ".ee > ul {\n",
              "  padding-left: 0 !important;\n",
              "}\n",
              "\n",
              ".ee-open,\n",
              ".ee-shut {\n",
              "  color: var(--font-color-secondary);\n",
              "  cursor: pointer;\n",
              "  margin: 0;\n",
              "}\n",
              "\n",
              ".ee-open:hover,\n",
              ".ee-shut:hover {\n",
              "  color: var(--font-color-primary);\n",
              "}\n",
              "\n",
              ".ee-k {\n",
              "  color: var(--font-color-accent);\n",
              "  margin-right: 6px;\n",
              "}\n",
              "\n",
              ".ee-v {\n",
              "  color: var(--font-color-primary);\n",
              "}\n",
              "\n",
              ".ee-toggle {\n",
              "  display: none;\n",
              "}\n",
              "\n",
              ".ee-shut + ul {\n",
              "  display: none;\n",
              "}\n",
              "\n",
              ".ee-open + ul {\n",
              "  display: block;\n",
              "}\n",
              "\n",
              ".ee-shut::before {\n",
              "  display: inline-block;\n",
              "  content: \"▼\";\n",
              "  margin-right: 6px;\n",
              "  transform: rotate(-90deg);\n",
              "  transition: transform 0.2s;\n",
              "}\n",
              "\n",
              ".ee-open::before {\n",
              "  transform: rotate(0deg);\n",
              "  display: inline-block;\n",
              "  content: \"▼\";\n",
              "  margin-right: 6px;\n",
              "  transition: transform 0.2s;\n",
              "}\n",
              "</style><div class='ee'><ul><li><label class='ee-shut'>Image (1 band)<input type='checkbox' class='ee-toggle'></label><ul><li><span class='ee-k'>type:</span><span class='ee-v'>Image</span></li><li><label class='ee-shut'>bands: List (1 element)<input type='checkbox' class='ee-toggle'></label><ul><li><label class='ee-shut'>0: \"ndwi\", float, EPSG:4326, 2x3 px<input type='checkbox' class='ee-toggle'></label><ul><li><span class='ee-k'>id:</span><span class='ee-v'>ndwi</span></li><li><span class='ee-k'>crs:</span><span class='ee-v'>EPSG:4326</span></li><li><label class='ee-shut'>crs_transform: [1, 0, 0, 0, 1, 0]<input type='checkbox' class='ee-toggle'></label><ul><li><span class='ee-k'>0:</span><span class='ee-v'>1</span></li><li><span class='ee-k'>1:</span><span class='ee-v'>0</span></li><li><span class='ee-k'>2:</span><span class='ee-v'>0</span></li><li><span class='ee-k'>3:</span><span class='ee-v'>0</span></li><li><span class='ee-k'>4:</span><span class='ee-v'>1</span></li><li><span class='ee-k'>5:</span><span class='ee-v'>0</span></li></ul></li><li><label class='ee-shut'>data_type: float<input type='checkbox' class='ee-toggle'></label><ul><li><span class='ee-k'>type:</span><span class='ee-v'>PixelType</span></li><li><span class='ee-k'>precision:</span><span class='ee-v'>float</span></li></ul></li><li><label class='ee-shut'>dimensions: [2, 3]<input type='checkbox' class='ee-toggle'></label><ul><li><span class='ee-k'>0:</span><span class='ee-v'>2</span></li><li><span class='ee-k'>1:</span><span class='ee-v'>3</span></li></ul></li><li><label class='ee-shut'>origin: [76, 27]<input type='checkbox' class='ee-toggle'></label><ul><li><span class='ee-k'>0:</span><span class='ee-v'>76</span></li><li><span class='ee-k'>1:</span><span class='ee-v'>27</span></li></ul></li></ul></li></ul></li><li><label class='ee-shut'>properties: Object (1 property)<input type='checkbox' class='ee-toggle'></label><ul><li><label class='ee-shut'>system:footprint: Polygon (228 vertices)<input type='checkbox' class='ee-toggle'></label><ul><li><span class='ee-k'>type:</span><span class='ee-v'>Polygon</span></li><li><label class='ee-shut'>coordinates: List (1 element)<input type='checkbox' class='ee-toggle'></label><ul><li><label class='ee-shut'>0: List (228 elements)<input type='checkbox' class='ee-toggle'></label><ul><li><label class='ee-shut'>0: [76.83179521216374, 28.581733259417586]<input type='checkbox' class='ee-toggle'></label><ul><li><span class='ee-k'>0:</span><span class='ee-v'>76.83179521216374</span></li><li><span class='ee-k'>1:</span><span class='ee-v'>28.581733259417586</span></li></ul></li><li><label class='ee-shut'>1: [76.83853247703775, 28.557029892152244]<input type='checkbox' class='ee-toggle'></label><ul><li><span class='ee-k'>0:</span><span class='ee-v'>76.83853247703775</span></li><li><span class='ee-k'>1:</span><span class='ee-v'>28.557029892152244</span></li></ul></li><li><label class='ee-shut'>2: [76.85649854462561, 28.548046907845414]<input type='checkbox' class='ee-toggle'></label><ul><li><span class='ee-k'>0:</span><span class='ee-v'>76.85649854462561</span></li><li><span class='ee-k'>1:</span><span class='ee-v'>28.548046907845414</span></li></ul></li><li><label class='ee-shut'>3: [76.85874427371164, 28.54130961869212]<input type='checkbox' class='ee-toggle'></label><ul><li><span class='ee-k'>0:</span><span class='ee-v'>76.85874427371164</span></li><li><span class='ee-k'>1:</span><span class='ee-v'>28.54130961869212</span></li></ul></li><li><label class='ee-shut'>4: [76.8767103088653, 28.527835071946857]<input type='checkbox' class='ee-toggle'></label><ul><li><span class='ee-k'>0:</span><span class='ee-v'>76.8767103088653</span></li><li><span class='ee-k'>1:</span><span class='ee-v'>28.527835071946857</span></li></ul></li><li><label class='ee-shut'>5: [76.8789561103673, 28.523343549963876]<input type='checkbox' class='ee-toggle'></label><ul><li><span class='ee-k'>0:</span><span class='ee-v'>76.8789561103673</span></li><li><span class='ee-k'>1:</span><span class='ee-v'>28.523343549963876</span></li></ul></li><li><label class='ee-shut'>6: [76.87446455445522, 28.514360570339058]<input type='checkbox' class='ee-toggle'></label><ul><li><span class='ee-k'>0:</span><span class='ee-v'>76.87446455445522</span></li><li><span class='ee-k'>1:</span><span class='ee-v'>28.514360570339058</span></li></ul></li><li><label class='ee-shut'>7: [76.8789561103673, 28.5098690290594]<input type='checkbox' class='ee-toggle'></label><ul><li><span class='ee-k'>0:</span><span class='ee-v'>76.8789561103673</span></li><li><span class='ee-k'>1:</span><span class='ee-v'>28.5098690290594</span></li></ul></li><li><label class='ee-shut'>8: [76.88569335746607, 28.512114778560743]<input type='checkbox' class='ee-toggle'></label><ul><li><span class='ee-k'>0:</span><span class='ee-v'>76.88569335746607</span></li><li><span class='ee-k'>1:</span><span class='ee-v'>28.512114778560743</span></li></ul></li><li><label class='ee-shut'>9: [76.89467636704018, 28.516606292563182]<input type='checkbox' class='ee-toggle'></label><ul><li><span class='ee-k'>0:</span><span class='ee-v'>76.89467636704018</span></li><li><span class='ee-k'>1:</span><span class='ee-v'>28.516606292563182</span></li></ul></li><li><label class='ee-shut'>10: [76.89692210499737, 28.51885205825166]<input type='checkbox' class='ee-toggle'></label><ul><li><span class='ee-k'>0:</span><span class='ee-v'>76.89692210499737</span></li><li><span class='ee-k'>1:</span><span class='ee-v'>28.51885205825166</span></li></ul></li><li><label class='ee-shut'>11: [76.90815088344674, 28.514360529769505]<input type='checkbox' class='ee-toggle'></label><ul><li><span class='ee-k'>0:</span><span class='ee-v'>76.90815088344674</span></li><li><span class='ee-k'>1:</span><span class='ee-v'>28.514360529769505</span></li></ul></li><li><label class='ee-shut'>12: [76.92162541749238, 28.518852058137742]<input type='checkbox' class='ee-toggle'></label><ul><li><span class='ee-k'>0:</span><span class='ee-v'>76.92162541749238</span></li><li><span class='ee-k'>1:</span><span class='ee-v'>28.518852058137742</span></li></ul></li><li><label class='ee-shut'>13: [76.93285422325938, 28.516606314851693]<input type='checkbox' class='ee-toggle'></label><ul><li><span class='ee-k'>0:</span><span class='ee-v'>76.93285422325938</span></li><li><span class='ee-k'>1:</span><span class='ee-v'>28.516606314851693</span></li></ul></li><li><label class='ee-shut'>14: [76.94408296699908, 28.51436052549925]<input type='checkbox' class='ee-toggle'></label><ul><li><span class='ee-k'>0:</span><span class='ee-v'>76.94408296699908</span></li><li><span class='ee-k'>1:</span><span class='ee-v'>28.51436052549925</span></li></ul></li><li><label class='ee-shut'>15: [76.96878626557522, 28.527835091601705]<input type='checkbox' class='ee-toggle'></label><ul><li><span class='ee-k'>0:</span><span class='ee-v'>76.96878626557522</span></li><li><span class='ee-k'>1:</span><span class='ee-v'>28.527835091601705</span></li></ul></li><li><label class='ee-shut'>16: [76.97552358797563, 28.523343561119706]<input type='checkbox' class='ee-toggle'></label><ul><li><span class='ee-k'>0:</span><span class='ee-v'>76.97552358797563</span></li><li><span class='ee-k'>1:</span><span class='ee-v'>28.523343561119706</span></li></ul></li><li><label class='ee-shut'>17: [76.99124384671826, 28.518852033739826]<input type='checkbox' class='ee-toggle'></label><ul><li><span class='ee-k'>0:</span><span class='ee-v'>76.99124384671826</span></li><li><span class='ee-k'>1:</span><span class='ee-v'>28.518852033739826</span></li></ul></li><li><label class='ee-shut'>18: [77.00471835643887, 28.514360546805992]<input type='checkbox' class='ee-toggle'></label><ul><li><span class='ee-k'>0:</span><span class='ee-v'>77.00471835643887</span></li><li><span class='ee-k'>1:</span><span class='ee-v'>28.514360546805992</span></li></ul></li><li><label class='ee-shut'>19: [77.01145562178745, 28.518852084513806]<input type='checkbox' class='ee-toggle'></label><ul><li><span class='ee-k'>0:</span><span class='ee-v'>77.01145562178745</span></li><li><span class='ee-k'>1:</span><span class='ee-v'>28.518852084513806</span></li></ul></li><li><label class='ee-shut'>20: [77.01145562178745, 28.52334358054466]<input type='checkbox' class='ee-toggle'></label><ul><li><span class='ee-k'>0:</span><span class='ee-v'>77.01145562178745</span></li><li><span class='ee-k'>1:</span><span class='ee-v'>28.52334358054466</span></li></ul></li><li><label class='ee-shut'>21: [77.00471835643887, 28.52783513367748]<input type='checkbox' class='ee-toggle'></label><ul><li><span class='ee-k'>0:</span><span class='ee-v'>77.00471835643887</span></li><li><span class='ee-k'>1:</span><span class='ee-v'>28.52783513367748</span></li></ul></li><li><label class='ee-shut'>22: [76.99798115655626, 28.532326655746218]<input type='checkbox' class='ee-toggle'></label><ul><li><span class='ee-k'>0:</span><span class='ee-v'>76.99798115655626</span></li><li><span class='ee-k'>1:</span><span class='ee-v'>28.532326655746218</span></li></ul></li><li><label class='ee-shut'>23: [76.99573534022338, 28.536818090676473]<input type='checkbox' class='ee-toggle'></label><ul><li><span class='ee-k'>0:</span><span class='ee-v'>76.99573534022338</span></li><li><span class='ee-k'>1:</span><span class='ee-v'>28.536818090676473</span></li></ul></li><li><label class='ee-shut'>24: [77.00022684349743, 28.541309642425084]<input type='checkbox' class='ee-toggle'></label><ul><li><span class='ee-k'>0:</span><span class='ee-v'>77.00022684349743</span></li><li><span class='ee-k'>1:</span><span class='ee-v'>28.541309642425084</span></li></ul></li><li><label class='ee-shut'>25: [77.00696418240891, 28.543555399707056]<input type='checkbox' class='ee-toggle'></label><ul><li><span class='ee-k'>0:</span><span class='ee-v'>77.00696418240891</span></li><li><span class='ee-k'>1:</span><span class='ee-v'>28.543555399707056</span></li></ul></li><li><label class='ee-shut'>26: [77.01594715845383, 28.532326622130306]<input type='checkbox' class='ee-toggle'></label><ul><li><span class='ee-k'>0:</span><span class='ee-v'>77.01594715845383</span></li><li><span class='ee-k'>1:</span><span class='ee-v'>28.532326622130306</span></li></ul></li><li><label class='ee-shut'>27: [77.02043870443208, 28.532326609337858]<input type='checkbox' class='ee-toggle'></label><ul><li><span class='ee-k'>0:</span><span class='ee-v'>77.02043870443208</span></li><li><span class='ee-k'>1:</span><span class='ee-v'>28.532326609337858</span></li></ul></li><li><label class='ee-shut'>28: [77.03391322151245, 28.527835108834054]<input type='checkbox' class='ee-toggle'></label><ul><li><span class='ee-k'>0:</span><span class='ee-v'>77.03391322151245</span></li><li><span class='ee-k'>1:</span><span class='ee-v'>28.527835108834054</span></li></ul></li><li><label class='ee-shut'>29: [77.0406504444072, 28.51885203667467]<input type='checkbox' class='ee-toggle'></label><ul><li><span class='ee-k'>0:</span><span class='ee-v'>77.0406504444072</span></li><li><span class='ee-k'>1:</span><span class='ee-v'>28.51885203667467</span></li></ul></li><li><label class='ee-shut'>30: [77.04963346815089, 28.514360537046716]<input type='checkbox' class='ee-toggle'></label><ul><li><span class='ee-k'>0:</span><span class='ee-v'>77.04963346815089</span></li><li><span class='ee-k'>1:</span><span class='ee-v'>28.514360537046716</span></li></ul></li><li><label class='ee-shut'>31: [77.0563707804229, 28.51436058748209]<input type='checkbox' class='ee-toggle'></label><ul><li><span class='ee-k'>0:</span><span class='ee-v'>77.0563707804229</span></li><li><span class='ee-k'>1:</span><span class='ee-v'>28.51436058748209</span></li></ul></li><li><label class='ee-shut'>32: [77.06759952966962, 28.52109781347072]<input type='checkbox' class='ee-toggle'></label><ul><li><span class='ee-k'>0:</span><span class='ee-v'>77.06759952966962</span></li><li><span class='ee-k'>1:</span><span class='ee-v'>28.52109781347072</span></li></ul></li><li><label class='ee-shut'>33: [77.0720910876383, 28.521097824767953]<input type='checkbox' class='ee-toggle'></label><ul><li><span class='ee-k'>0:</span><span class='ee-v'>77.0720910876383</span></li><li><span class='ee-k'>1:</span><span class='ee-v'>28.521097824767953</span></li></ul></li><li><label class='ee-shut'>34: [77.08556563379054, 28.5098690595153]<input type='checkbox' class='ee-toggle'></label><ul><li><span class='ee-k'>0:</span><span class='ee-v'>77.08556563379054</span></li><li><span class='ee-k'>1:</span><span class='ee-v'>28.5098690595153</span></li></ul></li><li><label class='ee-shut'>35: [77.09005713553326, 28.505377554588534]<input type='checkbox' class='ee-toggle'></label><ul><li><span class='ee-k'>0:</span><span class='ee-v'>77.09005713553326</span></li><li><span class='ee-k'>1:</span><span class='ee-v'>28.505377554588534</span></li></ul></li><li><label class='ee-shut'>36: [77.10353168624036, 28.496394488631978]<input type='checkbox' class='ee-toggle'></label><ul><li><span class='ee-k'>0:</span><span class='ee-v'>77.10353168624036</span></li><li><span class='ee-k'>1:</span><span class='ee-v'>28.496394488631978</span></li></ul></li><li><label class='ee-shut'>37: [77.10802313016252, 28.49414874594986]<input type='checkbox' class='ee-toggle'></label><ul><li><span class='ee-k'>0:</span><span class='ee-v'>77.10802313016252</span></li><li><span class='ee-k'>1:</span><span class='ee-v'>28.49414874594986</span></li></ul></li><li><label class='ee-shut'>38: [77.10353168624036, 28.482920017603877]<input type='checkbox' class='ee-toggle'></label><ul><li><span class='ee-k'>0:</span><span class='ee-v'>77.10353168624036</span></li><li><span class='ee-k'>1:</span><span class='ee-v'>28.482920017603877</span></li></ul></li><li><label class='ee-shut'>39: [77.10128590117453, 28.476182751444327]<input type='checkbox' class='ee-toggle'></label><ul><li><span class='ee-k'>0:</span><span class='ee-v'>77.10128590117453</span></li><li><span class='ee-k'>1:</span><span class='ee-v'>28.476182751444327</span></li></ul></li><li><label class='ee-shut'>40: [77.10353168624036, 28.469445435058212]<input type='checkbox' class='ee-toggle'></label><ul><li><span class='ee-k'>0:</span><span class='ee-v'>77.10353168624036</span></li><li><span class='ee-k'>1:</span><span class='ee-v'>28.469445435058212</span></li></ul></li><li><label class='ee-shut'>41: [77.10577742923977, 28.464953942002367]<input type='checkbox' class='ee-toggle'></label><ul><li><span class='ee-k'>0:</span><span class='ee-v'>77.10577742923977</span></li><li><span class='ee-k'>1:</span><span class='ee-v'>28.464953942002367</span></li></ul></li><li><label class='ee-shut'>42: [77.10802313016252, 28.458216638644746]<input type='checkbox' class='ee-toggle'></label><ul><li><span class='ee-k'>0:</span><span class='ee-v'>77.10802313016252</span></li><li><span class='ee-k'>1:</span><span class='ee-v'>28.458216638644746</span></li></ul></li><li><label class='ee-shut'>43: [77.11251466912942, 28.44923366412537]<input type='checkbox' class='ee-toggle'></label><ul><li><span class='ee-k'>0:</span><span class='ee-v'>77.11251466912942</span></li><li><span class='ee-k'>1:</span><span class='ee-v'>28.44923366412537</span></li></ul></li><li><label class='ee-shut'>44: [77.11925196898538, 28.44249642970542]<input type='checkbox' class='ee-toggle'></label><ul><li><span class='ee-k'>0:</span><span class='ee-v'>77.11925196898538</span></li><li><span class='ee-k'>1:</span><span class='ee-v'>28.44249642970542</span></li></ul></li><li><label class='ee-shut'>45: [77.12374343782042, 28.440250665115872]<input type='checkbox' class='ee-toggle'></label><ul><li><span class='ee-k'>0:</span><span class='ee-v'>77.12374343782042</span></li><li><span class='ee-k'>1:</span><span class='ee-v'>28.440250665115872</span></li></ul></li><li><label class='ee-shut'>46: [77.13048071980025, 28.438004881867457]<input type='checkbox' class='ee-toggle'></label><ul><li><span class='ee-k'>0:</span><span class='ee-v'>77.13048071980025</span></li><li><span class='ee-k'>1:</span><span class='ee-v'>28.438004881867457</span></li></ul></li><li><label class='ee-shut'>47: [77.14170946883, 28.43575911271139]<input type='checkbox' class='ee-toggle'></label><ul><li><span class='ee-k'>0:</span><span class='ee-v'>77.14170946883</span></li><li><span class='ee-k'>1:</span><span class='ee-v'>28.43575911271139</span></li></ul></li><li><label class='ee-shut'>48: [77.15293830226419, 28.42902189246484]<input type='checkbox' class='ee-toggle'></label><ul><li><span class='ee-k'>0:</span><span class='ee-v'>77.15293830226419</span></li><li><span class='ee-k'>1:</span><span class='ee-v'>28.42902189246484</span></li></ul></li><li><label class='ee-shut'>49: [77.155183994683, 28.422284557074878]<input type='checkbox' class='ee-toggle'></label><ul><li><span class='ee-k'>0:</span><span class='ee-v'>77.155183994683</span></li><li><span class='ee-k'>1:</span><span class='ee-v'>28.422284557074878</span></li></ul></li><li><label class='ee-shut'>50: [77.1664127868815, 28.408810032138906]<input type='checkbox' class='ee-toggle'></label><ul><li><span class='ee-k'>0:</span><span class='ee-v'>77.1664127868815</span></li><li><span class='ee-k'>1:</span><span class='ee-v'>28.408810032138906</span></li></ul></li><li><label class='ee-shut'>51: [77.17988732483362, 28.413301563565]<input type='checkbox' class='ee-toggle'></label><ul><li><span class='ee-k'>0:</span><span class='ee-v'>77.17988732483362</span></li><li><span class='ee-k'>1:</span><span class='ee-v'>28.413301563565</span></li></ul></li><li><label class='ee-shut'>52: [77.1956076316717, 28.413301589494914]<input type='checkbox' class='ee-toggle'></label><ul><li><span class='ee-k'>0:</span><span class='ee-v'>77.1956076316717</span></li><li><span class='ee-k'>1:</span><span class='ee-v'>28.413301589494914</span></li></ul></li><li><label class='ee-shut'>53: [77.20683637428466, 28.413301565819665]<input type='checkbox' class='ee-toggle'></label><ul><li><span class='ee-k'>0:</span><span class='ee-v'>77.20683637428466</span></li><li><span class='ee-k'>1:</span><span class='ee-v'>28.413301565819665</span></li></ul></li><li><label class='ee-shut'>54: [77.21581946118651, 28.41554731381345]<input type='checkbox' class='ee-toggle'></label><ul><li><span class='ee-k'>0:</span><span class='ee-v'>77.21581946118651</span></li><li><span class='ee-k'>1:</span><span class='ee-v'>28.41554731381345</span></li></ul></li><li><label class='ee-shut'>55: [77.22255670130794, 28.420038805159983]<input type='checkbox' class='ee-toggle'></label><ul><li><span class='ee-k'>0:</span><span class='ee-v'>77.22255670130794</span></li><li><span class='ee-k'>1:</span><span class='ee-v'>28.420038805159983</span></li></ul></li><li><label class='ee-shut'>56: [77.24052278373607, 28.429021854592516]<input type='checkbox' class='ee-toggle'></label><ul><li><span class='ee-k'>0:</span><span class='ee-v'>77.24052278373607</span></li><li><span class='ee-k'>1:</span><span class='ee-v'>28.429021854592516</span></li></ul></li><li><label class='ee-shut'>57: [77.24276848317754, 28.43351332779451]<input type='checkbox' class='ee-toggle'></label><ul><li><span class='ee-k'>0:</span><span class='ee-v'>77.24276848317754</span></li><li><span class='ee-k'>1:</span><span class='ee-v'>28.43351332779451</span></li></ul></li><li><label class='ee-shut'>58: [77.24501422752081, 28.44249640617595]<input type='checkbox' class='ee-toggle'></label><ul><li><span class='ee-k'>0:</span><span class='ee-v'>77.24501422752081</span></li><li><span class='ee-k'>1:</span><span class='ee-v'>28.44249640617595</span></li></ul></li><li><label class='ee-shut'>59: [77.24276848317754, 28.44698792164073]<input type='checkbox' class='ee-toggle'></label><ul><li><span class='ee-k'>0:</span><span class='ee-v'>77.24276848317754</span></li><li><span class='ee-k'>1:</span><span class='ee-v'>28.44698792164073</span></li></ul></li><li><label class='ee-shut'>60: [77.24052278373607, 28.45372519589341]<input type='checkbox' class='ee-toggle'></label><ul><li><span class='ee-k'>0:</span><span class='ee-v'>77.24052278373607</span></li><li><span class='ee-k'>1:</span><span class='ee-v'>28.45372519589341</span></li></ul></li><li><label class='ee-shut'>61: [77.2337855164352, 28.460462450389137]<input type='checkbox' class='ee-toggle'></label><ul><li><span class='ee-k'>0:</span><span class='ee-v'>77.2337855164352</span></li><li><span class='ee-k'>1:</span><span class='ee-v'>28.460462450389137</span></li></ul></li><li><label class='ee-shut'>62: [77.22704821518467, 28.460462403201596]<input type='checkbox' class='ee-toggle'></label><ul><li><span class='ee-k'>0:</span><span class='ee-v'>77.22704821518467</span></li><li><span class='ee-k'>1:</span><span class='ee-v'>28.460462403201596</span></li></ul></li><li><label class='ee-shut'>63: [77.22480247959922, 28.464953932951712]<input type='checkbox' class='ee-toggle'></label><ul><li><span class='ee-k'>0:</span><span class='ee-v'>77.22480247959922</span></li><li><span class='ee-k'>1:</span><span class='ee-v'>28.464953932951712</span></li></ul></li><li><label class='ee-shut'>64: [77.22704821518467, 28.469445467443805]<input type='checkbox' class='ee-toggle'></label><ul><li><span class='ee-k'>0:</span><span class='ee-v'>77.22704821518467</span></li><li><span class='ee-k'>1:</span><span class='ee-v'>28.469445467443805</span></li></ul></li><li><label class='ee-shut'>65: [77.23153973361624, 28.47618272938928]<input type='checkbox' class='ee-toggle'></label><ul><li><span class='ee-k'>0:</span><span class='ee-v'>77.23153973361624</span></li><li><span class='ee-k'>1:</span><span class='ee-v'>28.47618272938928</span></li></ul></li><li><label class='ee-shut'>66: [77.23603125650071, 28.480674261556928]<input type='checkbox' class='ee-toggle'></label><ul><li><span class='ee-k'>0:</span><span class='ee-v'>77.23603125650071</span></li><li><span class='ee-k'>1:</span><span class='ee-v'>28.480674261556928</span></li></ul></li><li><label class='ee-shut'>67: [77.24276848317754, 28.485165700461092]<input type='checkbox' class='ee-toggle'></label><ul><li><span class='ee-k'>0:</span><span class='ee-v'>77.24276848317754</span></li><li><span class='ee-k'>1:</span><span class='ee-v'>28.485165700461092</span></li></ul></li><li><label class='ee-shut'>68: [77.25399730283502, 28.48516577467901]<input type='checkbox' class='ee-toggle'></label><ul><li><span class='ee-k'>0:</span><span class='ee-v'>77.25399730283502</span></li><li><span class='ee-k'>1:</span><span class='ee-v'>28.48516577467901</span></li></ul></li><li><label class='ee-shut'>69: [77.2607345539497, 28.48741152169537]<input type='checkbox' class='ee-toggle'></label><ul><li><span class='ee-k'>0:</span><span class='ee-v'>77.2607345539497</span></li><li><span class='ee-k'>1:</span><span class='ee-v'>28.48741152169537</span></li></ul></li><li><label class='ee-shut'>70: [77.27196332460404, 28.49639453507063]<input type='checkbox' class='ee-toggle'></label><ul><li><span class='ee-k'>0:</span><span class='ee-v'>77.27196332460404</span></li><li><span class='ee-k'>1:</span><span class='ee-v'>28.49639453507063</span></li></ul></li><li><label class='ee-shut'>71: [77.27870059771345, 28.498640275301618]<input type='checkbox' class='ee-toggle'></label><ul><li><span class='ee-k'>0:</span><span class='ee-v'>77.27870059771345</span></li><li><span class='ee-k'>1:</span><span class='ee-v'>28.498640275301618</span></li></ul></li><li><label class='ee-shut'>72: [77.28543783460483, 28.496394530579643]<input type='checkbox' class='ee-toggle'></label><ul><li><span class='ee-k'>0:</span><span class='ee-v'>77.28543783460483</span></li><li><span class='ee-k'>1:</span><span class='ee-v'>28.496394530579643</span></li></ul></li><li><label class='ee-shut'>73: [77.29666660797925, 28.491903033586816]<input type='checkbox' class='ee-toggle'></label><ul><li><span class='ee-k'>0:</span><span class='ee-v'>77.29666660797925</span></li><li><span class='ee-k'>1:</span><span class='ee-v'>28.491903033586816</span></li></ul></li><li><label class='ee-shut'>74: [77.30115818399071, 28.489657250103296]<input type='checkbox' class='ee-toggle'></label><ul><li><span class='ee-k'>0:</span><span class='ee-v'>77.30115818399071</span></li><li><span class='ee-k'>1:</span><span class='ee-v'>28.489657250103296</span></li></ul></li><li><label class='ee-shut'>75: [77.3078954437944, 28.48965727578551]<input type='checkbox' class='ee-toggle'></label><ul><li><span class='ee-k'>0:</span><span class='ee-v'>77.3078954437944</span></li><li><span class='ee-k'>1:</span><span class='ee-v'>28.48965727578551</span></li></ul></li><li><label class='ee-shut'>76: [77.3146326659033, 28.494148731735464]<input type='checkbox' class='ee-toggle'></label><ul><li><span class='ee-k'>0:</span><span class='ee-v'>77.3146326659033</span></li><li><span class='ee-k'>1:</span><span class='ee-v'>28.494148731735464</span></li></ul></li><li><label class='ee-shut'>77: [77.32136993762293, 28.498640313516308]<input type='checkbox' class='ee-toggle'></label><ul><li><span class='ee-k'>0:</span><span class='ee-v'>77.32136993762293</span></li><li><span class='ee-k'>1:</span><span class='ee-v'>28.498640313516308</span></li></ul></li><li><label class='ee-shut'>78: [77.32586144053957, 28.503131770419227]<input type='checkbox' class='ee-toggle'></label><ul><li><span class='ee-k'>0:</span><span class='ee-v'>77.32586144053957</span></li><li><span class='ee-k'>1:</span><span class='ee-v'>28.503131770419227</span></li></ul></li><li><label class='ee-shut'>79: [77.3281072586011, 28.507623268959808]<input type='checkbox' class='ee-toggle'></label><ul><li><span class='ee-k'>0:</span><span class='ee-v'>77.3281072586011</span></li><li><span class='ee-k'>1:</span><span class='ee-v'>28.507623268959808</span></li></ul></li><li><label class='ee-shut'>80: [77.33484445322081, 28.512114784101964]<input type='checkbox' class='ee-toggle'></label><ul><li><span class='ee-k'>0:</span><span class='ee-v'>77.33484445322081</span></li><li><span class='ee-k'>1:</span><span class='ee-v'>28.512114784101964</span></li></ul></li><li><label class='ee-shut'>81: [77.33709027346632, 28.50986906268259]<input type='checkbox' class='ee-toggle'></label><ul><li><span class='ee-k'>0:</span><span class='ee-v'>77.33709027346632</span></li><li><span class='ee-k'>1:</span><span class='ee-v'>28.50986906268259</span></li></ul></li><li><label class='ee-shut'>82: [77.33709027346632, 28.516606308595147]<input type='checkbox' class='ee-toggle'></label><ul><li><span class='ee-k'>0:</span><span class='ee-v'>77.33709027346632</span></li><li><span class='ee-k'>1:</span><span class='ee-v'>28.516606308595147</span></li></ul></li><li><label class='ee-shut'>83: [77.33484445322081, 28.52109780694895]<input type='checkbox' class='ee-toggle'></label><ul><li><span class='ee-k'>0:</span><span class='ee-v'>77.33484445322081</span></li><li><span class='ee-k'>1:</span><span class='ee-v'>28.52109780694895</span></li></ul></li><li><label class='ee-shut'>84: [77.3303529457729, 28.523343589337347]<input type='checkbox' class='ee-toggle'></label><ul><li><span class='ee-k'>0:</span><span class='ee-v'>77.3303529457729</span></li><li><span class='ee-k'>1:</span><span class='ee-v'>28.523343589337347</span></li></ul></li><li><label class='ee-shut'>85: [77.32136993762295, 28.536818114489137]<input type='checkbox' class='ee-toggle'></label><ul><li><span class='ee-k'>0:</span><span class='ee-v'>77.32136993762295</span></li><li><span class='ee-k'>1:</span><span class='ee-v'>28.536818114489137</span></li></ul></li><li><label class='ee-shut'>86: [77.3146326659033, 28.54130962338957]<input type='checkbox' class='ee-toggle'></label><ul><li><span class='ee-k'>0:</span><span class='ee-v'>77.3146326659033</span></li><li><span class='ee-k'>1:</span><span class='ee-v'>28.54130962338957</span></li></ul></li><li><label class='ee-shut'>87: [77.31014116922432, 28.54355536058809]<input type='checkbox' class='ee-toggle'></label><ul><li><span class='ee-k'>0:</span><span class='ee-v'>77.31014116922432</span></li><li><span class='ee-k'>1:</span><span class='ee-v'>28.54355536058809</span></li></ul></li><li><label class='ee-shut'>88: [77.30340395116566, 28.550292648025188]<input type='checkbox' class='ee-toggle'></label><ul><li><span class='ee-k'>0:</span><span class='ee-v'>77.30340395116566</span></li><li><span class='ee-k'>1:</span><span class='ee-v'>28.550292648025188</span></li></ul></li><li><label class='ee-shut'>89: [77.29442088682926, 28.561521427437555]<input type='checkbox' class='ee-toggle'></label><ul><li><span class='ee-k'>0:</span><span class='ee-v'>77.29442088682926</span></li><li><span class='ee-k'>1:</span><span class='ee-v'>28.561521427437555</span></li></ul></li><li><label class='ee-shut'>90: [77.29442088682926, 28.566012978730424]<input type='checkbox' class='ee-toggle'></label><ul><li><span class='ee-k'>0:</span><span class='ee-v'>77.29442088682926</span></li><li><span class='ee-k'>1:</span><span class='ee-v'>28.566012978730424</span></li></ul></li><li><label class='ee-shut'>91: [77.29442088682926, 28.579487519451988]<input type='checkbox' class='ee-toggle'></label><ul><li><span class='ee-k'>0:</span><span class='ee-v'>77.29442088682926</span></li><li><span class='ee-k'>1:</span><span class='ee-v'>28.579487519451988</span></li></ul></li><li><label class='ee-shut'>92: [77.29442088682926, 28.581733243215705]<input type='checkbox' class='ee-toggle'></label><ul><li><span class='ee-k'>0:</span><span class='ee-v'>77.29442088682926</span></li><li><span class='ee-k'>1:</span><span class='ee-v'>28.581733243215705</span></li></ul></li><li><label class='ee-shut'>93: [77.3078954437944, 28.597453560592825]<input type='checkbox' class='ee-toggle'></label><ul><li><span class='ee-k'>0:</span><span class='ee-v'>77.3078954437944</span></li><li><span class='ee-k'>1:</span><span class='ee-v'>28.597453560592825</span></li></ul></li><li><label class='ee-shut'>94: [77.31014116922432, 28.599699307859854]<input type='checkbox' class='ee-toggle'></label><ul><li><span class='ee-k'>0:</span><span class='ee-v'>77.31014116922432</span></li><li><span class='ee-k'>1:</span><span class='ee-v'>28.599699307859854</span></li></ul></li><li><label class='ee-shut'>95: [77.31687843712513, 28.599699278896107]<input type='checkbox' class='ee-toggle'></label><ul><li><span class='ee-k'>0:</span><span class='ee-v'>77.31687843712513</span></li><li><span class='ee-k'>1:</span><span class='ee-v'>28.599699278896107</span></li></ul></li><li><label class='ee-shut'>96: [77.3281072586011, 28.60419081953537]<input type='checkbox' class='ee-toggle'></label><ul><li><span class='ee-k'>0:</span><span class='ee-v'>77.3281072586011</span></li><li><span class='ee-k'>1:</span><span class='ee-v'>28.60419081953537</span></li></ul></li><li><label class='ee-shut'>97: [77.33259876495195, 28.606436544095537]<input type='checkbox' class='ee-toggle'></label><ul><li><span class='ee-k'>0:</span><span class='ee-v'>77.33259876495195</span></li><li><span class='ee-k'>1:</span><span class='ee-v'>28.606436544095537</span></li></ul></li><li><label class='ee-shut'>98: [77.33709027346632, 28.60868230725332]<input type='checkbox' class='ee-toggle'></label><ul><li><span class='ee-k'>0:</span><span class='ee-v'>77.33709027346632</span></li><li><span class='ee-k'>1:</span><span class='ee-v'>28.60868230725332</span></li></ul></li><li><label class='ee-shut'>99: [77.33709027346632, 28.617665350032066]<input type='checkbox' class='ee-toggle'></label><ul><li><span class='ee-k'>0:</span><span class='ee-v'>77.33709027346632</span></li><li><span class='ee-k'>1:</span><span class='ee-v'>28.617665350032066</span></li></ul></li><li><label class='ee-shut'>100: [77.33709027346632, 28.62215686370856]<input type='checkbox' class='ee-toggle'></label><ul><li><span class='ee-k'>0:</span><span class='ee-v'>77.33709027346632</span></li><li><span class='ee-k'>1:</span><span class='ee-v'>28.62215686370856</span></li></ul></li><li><label class='ee-shut'>101: [77.33484445322081, 28.62664838077984]<input type='checkbox' class='ee-toggle'></label><ul><li><span class='ee-k'>0:</span><span class='ee-v'>77.33484445322081</span></li><li><span class='ee-k'>1:</span><span class='ee-v'>28.62664838077984</span></li></ul></li><li><label class='ee-shut'>102: [77.3303529457729, 28.63113988676894]<input type='checkbox' class='ee-toggle'></label><ul><li><span class='ee-k'>0:</span><span class='ee-v'>77.3303529457729</span></li><li><span class='ee-k'>1:</span><span class='ee-v'>28.63113988676894</span></li></ul></li><li><label class='ee-shut'>103: [77.32136993762293, 28.635631414672226]<input type='checkbox' class='ee-toggle'></label><ul><li><span class='ee-k'>0:</span><span class='ee-v'>77.32136993762293</span></li><li><span class='ee-k'>1:</span><span class='ee-v'>28.635631414672226</span></li></ul></li><li><label class='ee-shut'>104: [77.3146326659033, 28.6423686473775]<input type='checkbox' class='ee-toggle'></label><ul><li><span class='ee-k'>0:</span><span class='ee-v'>77.3146326659033</span></li><li><span class='ee-k'>1:</span><span class='ee-v'>28.6423686473775</span></li></ul></li><li><label class='ee-shut'>105: [77.31014116922432, 28.644614419674316]<input type='checkbox' class='ee-toggle'></label><ul><li><span class='ee-k'>0:</span><span class='ee-v'>77.31014116922432</span></li><li><span class='ee-k'>1:</span><span class='ee-v'>28.644614419674316</span></li></ul></li><li><label class='ee-shut'>106: [77.31238693914824, 28.64686014028208]<input type='checkbox' class='ee-toggle'></label><ul><li><span class='ee-k'>0:</span><span class='ee-v'>77.31238693914824</span></li><li><span class='ee-k'>1:</span><span class='ee-v'>28.64686014028208</span></li></ul></li><li><label class='ee-shut'>107: [77.3146326659033, 28.651351678154093]<input type='checkbox' class='ee-toggle'></label><ul><li><span class='ee-k'>0:</span><span class='ee-v'>77.3146326659033</span></li><li><span class='ee-k'>1:</span><span class='ee-v'>28.651351678154093</span></li></ul></li><li><label class='ee-shut'>108: [77.3146326659033, 28.66258045585334]<input type='checkbox' class='ee-toggle'></label><ul><li><span class='ee-k'>0:</span><span class='ee-v'>77.3146326659033</span></li><li><span class='ee-k'>1:</span><span class='ee-v'>28.66258045585334</span></li></ul></li><li><label class='ee-shut'>109: [77.31687843712513, 28.67156349962394]<input type='checkbox' class='ee-toggle'></label><ul><li><span class='ee-k'>0:</span><span class='ee-v'>77.31687843712513</span></li><li><span class='ee-k'>1:</span><span class='ee-v'>28.67156349962394</span></li></ul></li><li><label class='ee-shut'>110: [77.31687843712513, 28.678300735704987]<input type='checkbox' class='ee-toggle'></label><ul><li><span class='ee-k'>0:</span><span class='ee-v'>77.31687843712513</span></li><li><span class='ee-k'>1:</span><span class='ee-v'>28.678300735704987</span></li></ul></li><li><label class='ee-shut'>111: [77.32586144053958, 28.68279222803714]<input type='checkbox' class='ee-toggle'></label><ul><li><span class='ee-k'>0:</span><span class='ee-v'>77.32586144053958</span></li><li><span class='ee-k'>1:</span><span class='ee-v'>28.68279222803714</span></li></ul></li><li><label class='ee-shut'>112: [77.3281072586011, 28.68503800154116]<input type='checkbox' class='ee-toggle'></label><ul><li><span class='ee-k'>0:</span><span class='ee-v'>77.3281072586011</span></li><li><span class='ee-k'>1:</span><span class='ee-v'>28.68503800154116</span></li></ul></li><li><label class='ee-shut'>113: [77.3281072586011, 28.69177523792697]<input type='checkbox' class='ee-toggle'></label><ul><li><span class='ee-k'>0:</span><span class='ee-v'>77.3281072586011</span></li><li><span class='ee-k'>1:</span><span class='ee-v'>28.69177523792697</span></li></ul></li><li><label class='ee-shut'>114: [77.32136993762293, 28.700758271477405]<input type='checkbox' class='ee-toggle'></label><ul><li><span class='ee-k'>0:</span><span class='ee-v'>77.32136993762293</span></li><li><span class='ee-k'>1:</span><span class='ee-v'>28.700758271477405</span></li></ul></li><li><label class='ee-shut'>115: [77.31912416515425, 28.703004081882025]<input type='checkbox' class='ee-toggle'></label><ul><li><span class='ee-k'>0:</span><span class='ee-v'>77.31912416515425</span></li><li><span class='ee-k'>1:</span><span class='ee-v'>28.703004081882025</span></li></ul></li><li><label class='ee-shut'>116: [77.32136993762293, 28.71198710762604]<input type='checkbox' class='ee-toggle'></label><ul><li><span class='ee-k'>0:</span><span class='ee-v'>77.32136993762293</span></li><li><span class='ee-k'>1:</span><span class='ee-v'>28.71198710762604</span></li></ul></li><li><label class='ee-shut'>117: [77.32361566687509, 28.716478604147692]<input type='checkbox' class='ee-toggle'></label><ul><li><span class='ee-k'>0:</span><span class='ee-v'>77.32361566687509</span></li><li><span class='ee-k'>1:</span><span class='ee-v'>28.716478604147692</span></li></ul></li><li><label class='ee-shut'>118: [77.31687843712513, 28.716478539639272]<input type='checkbox' class='ee-toggle'></label><ul><li><span class='ee-k'>0:</span><span class='ee-v'>77.31687843712513</span></li><li><span class='ee-k'>1:</span><span class='ee-v'>28.716478539639272</span></li></ul></li><li><label class='ee-shut'>119: [77.30564967521944, 28.71872431821604]<input type='checkbox' class='ee-toggle'></label><ul><li><span class='ee-k'>0:</span><span class='ee-v'>77.30564967521944</span></li><li><span class='ee-k'>1:</span><span class='ee-v'>28.71872431821604</span></li></ul></li><li><label class='ee-shut'>120: [77.30115818399071, 28.716478578919926]<input type='checkbox' class='ee-toggle'></label><ul><li><span class='ee-k'>0:</span><span class='ee-v'>77.30115818399071</span></li><li><span class='ee-k'>1:</span><span class='ee-v'>28.716478578919926</span></li></ul></li><li><label class='ee-shut'>121: [77.29666660797925, 28.711987099081004]<input type='checkbox' class='ee-toggle'></label><ul><li><span class='ee-k'>0:</span><span class='ee-v'>77.29666660797925</span></li><li><span class='ee-k'>1:</span><span class='ee-v'>28.711987099081004</span></li></ul></li><li><label class='ee-shut'>122: [77.29217512260576, 28.70974134408083]<input type='checkbox' class='ee-toggle'></label><ul><li><span class='ee-k'>0:</span><span class='ee-v'>77.29217512260576</span></li><li><span class='ee-k'>1:</span><span class='ee-v'>28.70974134408083</span></li></ul></li><li><label class='ee-shut'>123: [77.28543783460483, 28.711987100164357]<input type='checkbox' class='ee-toggle'></label><ul><li><span class='ee-k'>0:</span><span class='ee-v'>77.28543783460483</span></li><li><span class='ee-k'>1:</span><span class='ee-v'>28.711987100164357</span></li></ul></li><li><label class='ee-shut'>124: [77.28319207353692, 28.718724335619317]<input type='checkbox' class='ee-toggle'></label><ul><li><span class='ee-k'>0:</span><span class='ee-v'>77.28319207353692</span></li><li><span class='ee-k'>1:</span><span class='ee-v'>28.718724335619317</span></li></ul></li><li><label class='ee-shut'>125: [77.28543783460483, 28.723215824891223]<input type='checkbox' class='ee-toggle'></label><ul><li><span class='ee-k'>0:</span><span class='ee-v'>77.28543783460483</span></li><li><span class='ee-k'>1:</span><span class='ee-v'>28.723215824891223</span></li></ul></li><li><label class='ee-shut'>126: [77.28094635712618, 28.729953084241558]<input type='checkbox' class='ee-toggle'></label><ul><li><span class='ee-k'>0:</span><span class='ee-v'>77.28094635712618</span></li><li><span class='ee-k'>1:</span><span class='ee-v'>28.729953084241558</span></li></ul></li><li><label class='ee-shut'>127: [77.27645479530895, 28.734444656630153]<input type='checkbox' class='ee-toggle'></label><ul><li><span class='ee-k'>0:</span><span class='ee-v'>77.27645479530895</span></li><li><span class='ee-k'>1:</span><span class='ee-v'>28.734444656630153</span></li></ul></li><li><label class='ee-shut'>128: [77.27196332460404, 28.738936105845028]<input type='checkbox' class='ee-toggle'></label><ul><li><span class='ee-k'>0:</span><span class='ee-v'>77.27196332460404</span></li><li><span class='ee-k'>1:</span><span class='ee-v'>28.738936105845028</span></li></ul></li><li><label class='ee-shut'>129: [77.26747185744077, 28.738936137165584]<input type='checkbox' class='ee-toggle'></label><ul><li><span class='ee-k'>0:</span><span class='ee-v'>77.26747185744077</span></li><li><span class='ee-k'>1:</span><span class='ee-v'>28.738936137165584</span></li></ul></li><li><label class='ee-shut'>130: [77.2607345539497, 28.738936134422776]<input type='checkbox' class='ee-toggle'></label><ul><li><span class='ee-k'>0:</span><span class='ee-v'>77.2607345539497</span></li><li><span class='ee-k'>1:</span><span class='ee-v'>28.738936134422776</span></li></ul></li><li><label class='ee-shut'>131: [77.25624300839141, 28.73893610500887]<input type='checkbox' class='ee-toggle'></label><ul><li><span class='ee-k'>0:</span><span class='ee-v'>77.25624300839141</span></li><li><span class='ee-k'>1:</span><span class='ee-v'>28.73893610500887</span></li></ul></li><li><label class='ee-shut'>132: [77.25175155441961, 28.74567339367088]<input type='checkbox' class='ee-toggle'></label><ul><li><span class='ee-k'>0:</span><span class='ee-v'>77.25175155441961</span></li><li><span class='ee-k'>1:</span><span class='ee-v'>28.74567339367088</span></li></ul></li><li><label class='ee-shut'>133: [77.25399730283502, 28.752410692649736]<input type='checkbox' class='ee-toggle'></label><ul><li><span class='ee-k'>0:</span><span class='ee-v'>77.25399730283502</span></li><li><span class='ee-k'>1:</span><span class='ee-v'>28.752410692649736</span></li></ul></li><li><label class='ee-shut'>134: [77.24950576315543, 28.7569021774867]<input type='checkbox' class='ee-toggle'></label><ul><li><span class='ee-k'>0:</span><span class='ee-v'>77.24950576315543</span></li><li><span class='ee-k'>1:</span><span class='ee-v'>28.7569021774867</span></li></ul></li><li><label class='ee-shut'>135: [77.24501422752081, 28.756902139332187]<input type='checkbox' class='ee-toggle'></label><ul><li><span class='ee-k'>0:</span><span class='ee-v'>77.24501422752081</span></li><li><span class='ee-k'>1:</span><span class='ee-v'>28.756902139332187</span></li></ul></li><li><label class='ee-shut'>136: [77.23827695380245, 28.75914793323358]<input type='checkbox' class='ee-toggle'></label><ul><li><span class='ee-k'>0:</span><span class='ee-v'>77.23827695380245</span></li><li><span class='ee-k'>1:</span><span class='ee-v'>28.75914793323358</span></li></ul></li><li><label class='ee-shut'>137: [77.22929399576529, 28.772622505780664]<input type='checkbox' class='ee-toggle'></label><ul><li><span class='ee-k'>0:</span><span class='ee-v'>77.22929399576529</span></li><li><span class='ee-k'>1:</span><span class='ee-v'>28.772622505780664</span></li></ul></li><li><label class='ee-shut'>138: [77.22031096803899, 28.777113976058867]<input type='checkbox' class='ee-toggle'></label><ul><li><span class='ee-k'>0:</span><span class='ee-v'>77.22031096803899</span></li><li><span class='ee-k'>1:</span><span class='ee-v'>28.777113976058867</span></li></ul></li><li><label class='ee-shut'>139: [77.21806519208799, 28.781605535504273]<input type='checkbox' class='ee-toggle'></label><ul><li><span class='ee-k'>0:</span><span class='ee-v'>77.21806519208799</span></li><li><span class='ee-k'>1:</span><span class='ee-v'>28.781605535504273</span></li></ul></li><li><label class='ee-shut'>140: [77.22255670130794, 28.783851285226046]<input type='checkbox' class='ee-toggle'></label><ul><li><span class='ee-k'>0:</span><span class='ee-v'>77.22255670130794</span></li><li><span class='ee-k'>1:</span><span class='ee-v'>28.783851285226046</span></li></ul></li><li><label class='ee-shut'>141: [77.22480247959922, 28.788342770908166]<input type='checkbox' class='ee-toggle'></label><ul><li><span class='ee-k'>0:</span><span class='ee-v'>77.22480247959922</span></li><li><span class='ee-k'>1:</span><span class='ee-v'>28.788342770908166</span></li></ul></li><li><label class='ee-shut'>142: [77.21806519208799, 28.788342803008636]<input type='checkbox' class='ee-toggle'></label><ul><li><span class='ee-k'>0:</span><span class='ee-v'>77.21806519208799</span></li><li><span class='ee-k'>1:</span><span class='ee-v'>28.788342803008636</span></li></ul></li><li><label class='ee-shut'>143: [77.2135736876268, 28.786097014684202]<input type='checkbox' class='ee-toggle'></label><ul><li><span class='ee-k'>0:</span><span class='ee-v'>77.2135736876268</span></li><li><span class='ee-k'>1:</span><span class='ee-v'>28.786097014684202</span></li></ul></li><li><label class='ee-shut'>144: [77.20908218802627, 28.786096993923742]<input type='checkbox' class='ee-toggle'></label><ul><li><span class='ee-k'>0:</span><span class='ee-v'>77.20908218802627</span></li><li><span class='ee-k'>1:</span><span class='ee-v'>28.786096993923742</span></li></ul></li><li><label class='ee-shut'>145: [77.20234488216374, 28.788342749438616]<input type='checkbox' class='ee-toggle'></label><ul><li><span class='ee-k'>0:</span><span class='ee-v'>77.20234488216374</span></li><li><span class='ee-k'>1:</span><span class='ee-v'>28.788342749438616</span></li></ul></li><li><label class='ee-shut'>146: [77.19785339515832, 28.79508005147834]<input type='checkbox' class='ee-toggle'></label><ul><li><span class='ee-k'>0:</span><span class='ee-v'>77.19785339515832</span></li><li><span class='ee-k'>1:</span><span class='ee-v'>28.79508005147834</span></li></ul></li><li><label class='ee-shut'>147: [77.19336191337027, 28.801817271070842]<input type='checkbox' class='ee-toggle'></label><ul><li><span class='ee-k'>0:</span><span class='ee-v'>77.19336191337027</span></li><li><span class='ee-k'>1:</span><span class='ee-v'>28.801817271070842</span></li></ul></li><li><label class='ee-shut'>148: [77.1956076316717, 28.81529186819846]<input type='checkbox' class='ee-toggle'></label><ul><li><span class='ee-k'>0:</span><span class='ee-v'>77.1956076316717</span></li><li><span class='ee-k'>1:</span><span class='ee-v'>28.81529186819846</span></li></ul></li><li><label class='ee-shut'>149: [77.2135736876268, 28.81304611610663]<input type='checkbox' class='ee-toggle'></label><ul><li><span class='ee-k'>0:</span><span class='ee-v'>77.2135736876268</span></li><li><span class='ee-k'>1:</span><span class='ee-v'>28.81304611610663</span></li></ul></li><li><label class='ee-shut'>150: [77.21806519208799, 28.835503660275197]<input type='checkbox' class='ee-toggle'></label><ul><li><span class='ee-k'>0:</span><span class='ee-v'>77.21806519208799</span></li><li><span class='ee-k'>1:</span><span class='ee-v'>28.835503660275197</span></li></ul></li><li><label class='ee-shut'>151: [77.21132795914373, 28.844486659657083]<input type='checkbox' class='ee-toggle'></label><ul><li><span class='ee-k'>0:</span><span class='ee-v'>77.21132795914373</span></li><li><span class='ee-k'>1:</span><span class='ee-v'>28.844486659657083</span></li></ul></li><li><label class='ee-shut'>152: [77.21132795914373, 28.855715465768565]<input type='checkbox' class='ee-toggle'></label><ul><li><span class='ee-k'>0:</span><span class='ee-v'>77.21132795914373</span></li><li><span class='ee-k'>1:</span><span class='ee-v'>28.855715465768565</span></li></ul></li><li><label class='ee-shut'>153: [77.20683637428466, 28.860206959611514]<input type='checkbox' class='ee-toggle'></label><ul><li><span class='ee-k'>0:</span><span class='ee-v'>77.20683637428466</span></li><li><span class='ee-k'>1:</span><span class='ee-v'>28.860206959611514</span></li></ul></li><li><label class='ee-shut'>154: [77.20459069338834, 28.86245269923328]<input type='checkbox' class='ee-toggle'></label><ul><li><span class='ee-k'>0:</span><span class='ee-v'>77.20459069338834</span></li><li><span class='ee-k'>1:</span><span class='ee-v'>28.86245269923328</span></li></ul></li><li><label class='ee-shut'>155: [77.200099116082, 28.86469843994181]<input type='checkbox' class='ee-toggle'></label><ul><li><span class='ee-k'>0:</span><span class='ee-v'>77.200099116082</span></li><li><span class='ee-k'>1:</span><span class='ee-v'>28.86469843994181</span></li></ul></li><li><label class='ee-shut'>156: [77.19336191337027, 28.864698458024748]<input type='checkbox' class='ee-toggle'></label><ul><li><span class='ee-k'>0:</span><span class='ee-v'>77.19336191337027</span></li><li><span class='ee-k'>1:</span><span class='ee-v'>28.864698458024748</span></li></ul></li><li><label class='ee-shut'>157: [77.18662459101508, 28.86694422415634]<input type='checkbox' class='ee-toggle'></label><ul><li><span class='ee-k'>0:</span><span class='ee-v'>77.18662459101508</span></li><li><span class='ee-k'>1:</span><span class='ee-v'>28.86694422415634</span></li></ul></li><li><label class='ee-shut'>158: [77.18437887810936, 28.862452667627636]<input type='checkbox' class='ee-toggle'></label><ul><li><span class='ee-k'>0:</span><span class='ee-v'>77.18437887810936</span></li><li><span class='ee-k'>1:</span><span class='ee-v'>28.862452667627636</span></li></ul></li><li><label class='ee-shut'>159: [77.1641670429805, 28.860206976999432]<input type='checkbox' class='ee-toggle'></label><ul><li><span class='ee-k'>0:</span><span class='ee-v'>77.1641670429805</span></li><li><span class='ee-k'>1:</span><span class='ee-v'>28.860206976999432</span></li></ul></li><li><label class='ee-shut'>160: [77.15967551579342, 28.85796118673411]<input type='checkbox' class='ee-toggle'></label><ul><li><span class='ee-k'>0:</span><span class='ee-v'>77.15967551579342</span></li><li><span class='ee-k'>1:</span><span class='ee-v'>28.85796118673411</span></li></ul></li><li><label class='ee-shut'>161: [77.15069247975109, 28.848978198673912]<input type='checkbox' class='ee-toggle'></label><ul><li><span class='ee-k'>0:</span><span class='ee-v'>77.15069247975109</span></li><li><span class='ee-k'>1:</span><span class='ee-v'>28.848978198673912</span></li></ul></li><li><label class='ee-shut'>162: [77.14170946883, 28.842240872291647]<input type='checkbox' class='ee-toggle'></label><ul><li><span class='ee-k'>0:</span><span class='ee-v'>77.14170946883</span></li><li><span class='ee-k'>1:</span><span class='ee-v'>28.842240872291647</span></li></ul></li><li><label class='ee-shut'>163: [77.13946369817597, 28.842240903591744]<input type='checkbox' class='ee-toggle'></label><ul><li><span class='ee-k'>0:</span><span class='ee-v'>77.13946369817597</span></li><li><span class='ee-k'>1:</span><span class='ee-v'>28.842240903591744</span></li></ul></li><li><label class='ee-shut'>164: [77.13272648384473, 28.844486698003166]<input type='checkbox' class='ee-toggle'></label><ul><li><span class='ee-k'>0:</span><span class='ee-v'>77.13272648384473</span></li><li><span class='ee-k'>1:</span><span class='ee-v'>28.844486698003166</span></li></ul></li><li><label class='ee-shut'>165: [77.1349722056698, 28.853469661556627]<input type='checkbox' class='ee-toggle'></label><ul><li><span class='ee-k'>0:</span><span class='ee-v'>77.1349722056698</span></li><li><span class='ee-k'>1:</span><span class='ee-v'>28.853469661556627</span></li></ul></li><li><label class='ee-shut'>166: [77.1349722056698, 28.857961210558887]<input type='checkbox' class='ee-toggle'></label><ul><li><span class='ee-k'>0:</span><span class='ee-v'>77.1349722056698</span></li><li><span class='ee-k'>1:</span><span class='ee-v'>28.857961210558887</span></li></ul></li><li><label class='ee-shut'>167: [77.12823500133253, 28.864698463773205]<input type='checkbox' class='ee-toggle'></label><ul><li><span class='ee-k'>0:</span><span class='ee-v'>77.12823500133253</span></li><li><span class='ee-k'>1:</span><span class='ee-v'>28.864698463773205</span></li></ul></li><li><label class='ee-shut'>168: [77.11026887679746, 28.866944212765173]<input type='checkbox' class='ee-toggle'></label><ul><li><span class='ee-k'>0:</span><span class='ee-v'>77.11026887679746</span></li><li><span class='ee-k'>1:</span><span class='ee-v'>28.866944212765173</span></li></ul></li><li><label class='ee-shut'>169: [77.10802313016252, 28.869190011681372]<input type='checkbox' class='ee-toggle'></label><ul><li><span class='ee-k'>0:</span><span class='ee-v'>77.10802313016252</span></li><li><span class='ee-k'>1:</span><span class='ee-v'>28.869190011681372</span></li></ul></li><li><label class='ee-shut'>170: [77.0990401618599, 28.87143574397096]<input type='checkbox' class='ee-toggle'></label><ul><li><span class='ee-k'>0:</span><span class='ee-v'>77.0990401618599</span></li><li><span class='ee-k'>1:</span><span class='ee-v'>28.87143574397096</span></li></ul></li><li><label class='ee-shut'>171: [77.08331986386412, 28.873681475757515]<input type='checkbox' class='ee-toggle'></label><ul><li><span class='ee-k'>0:</span><span class='ee-v'>77.08331986386412</span></li><li><span class='ee-k'>1:</span><span class='ee-v'>28.873681475757515</span></li></ul></li><li><label class='ee-shut'>172: [77.07658256583112, 28.884910293698187]<input type='checkbox' class='ee-toggle'></label><ul><li><span class='ee-k'>0:</span><span class='ee-v'>77.07658256583112</span></li><li><span class='ee-k'>1:</span><span class='ee-v'>28.884910293698187</span></li></ul></li><li><label class='ee-shut'>173: [77.06984532959878, 28.880418767756147]<input type='checkbox' class='ee-toggle'></label><ul><li><span class='ee-k'>0:</span><span class='ee-v'>77.06984532959878</span></li><li><span class='ee-k'>1:</span><span class='ee-v'>28.880418767756147</span></li></ul></li><li><label class='ee-shut'>174: [77.06535377569301, 28.873681461401837]<input type='checkbox' class='ee-toggle'></label><ul><li><span class='ee-k'>0:</span><span class='ee-v'>77.06535377569301</span></li><li><span class='ee-k'>1:</span><span class='ee-v'>28.873681461401837</span></li></ul></li><li><label class='ee-shut'>175: [77.04963346815089, 28.87368146253163]<input type='checkbox' class='ee-toggle'></label><ul><li><span class='ee-k'>0:</span><span class='ee-v'>77.04963346815089</span></li><li><span class='ee-k'>1:</span><span class='ee-v'>28.87368146253163</span></li></ul></li><li><label class='ee-shut'>176: [77.03840471587712, 28.853469648490584]<input type='checkbox' class='ee-toggle'></label><ul><li><span class='ee-k'>0:</span><span class='ee-v'>77.03840471587712</span></li><li><span class='ee-k'>1:</span><span class='ee-v'>28.853469648490584</span></li></ul></li><li><label class='ee-shut'>177: [77.03166745570162, 28.837749406099512]<input type='checkbox' class='ee-toggle'></label><ul><li><span class='ee-k'>0:</span><span class='ee-v'>77.03166745570162</span></li><li><span class='ee-k'>1:</span><span class='ee-v'>28.837749406099512</span></li></ul></li><li><label class='ee-shut'>178: [77.02493017175928, 28.835503651801197]<input type='checkbox' class='ee-toggle'></label><ul><li><span class='ee-k'>0:</span><span class='ee-v'>77.02493017175928</span></li><li><span class='ee-k'>1:</span><span class='ee-v'>28.835503651801197</span></li></ul></li><li><label class='ee-shut'>179: [77.01819295225188, 28.837749401904023]<input type='checkbox' class='ee-toggle'></label><ul><li><span class='ee-k'>0:</span><span class='ee-v'>77.01819295225188</span></li><li><span class='ee-k'>1:</span><span class='ee-v'>28.837749401904023</span></li></ul></li><li><label class='ee-shut'>180: [77.00696418240891, 28.835503655920665]<input type='checkbox' class='ee-toggle'></label><ul><li><span class='ee-k'>0:</span><span class='ee-v'>77.00696418240891</span></li><li><span class='ee-k'>1:</span><span class='ee-v'>28.835503655920665</span></li></ul></li><li><label class='ee-shut'>181: [76.98899808168898, 28.839995148721616]<input type='checkbox' class='ee-toggle'></label><ul><li><span class='ee-k'>0:</span><span class='ee-v'>76.98899808168898</span></li><li><span class='ee-k'>1:</span><span class='ee-v'>28.839995148721616</span></li></ul></li><li><label class='ee-shut'>182: [76.9845066030269, 28.839995111883255]<input type='checkbox' class='ee-toggle'></label><ul><li><span class='ee-k'>0:</span><span class='ee-v'>76.9845066030269</span></li><li><span class='ee-k'>1:</span><span class='ee-v'>28.839995111883255</span></li></ul></li><li><label class='ee-shut'>183: [76.98001504649379, 28.83774941484033]<input type='checkbox' class='ee-toggle'></label><ul><li><span class='ee-k'>0:</span><span class='ee-v'>76.98001504649379</span></li><li><span class='ee-k'>1:</span><span class='ee-v'>28.83774941484033</span></li></ul></li><li><label class='ee-shut'>184: [76.97327779662089, 28.826520613231292]<input type='checkbox' class='ee-toggle'></label><ul><li><span class='ee-k'>0:</span><span class='ee-v'>76.97327779662089</span></li><li><span class='ee-k'>1:</span><span class='ee-v'>28.826520613231292</span></li></ul></li><li><label class='ee-shut'>185: [76.97103205178303, 28.824274878906724]<input type='checkbox' class='ee-toggle'></label><ul><li><span class='ee-k'>0:</span><span class='ee-v'>76.97103205178303</span></li><li><span class='ee-k'>1:</span><span class='ee-v'>28.824274878906724</span></li></ul></li><li><label class='ee-shut'>186: [76.95980332260879, 28.831012094868395]<input type='checkbox' class='ee-toggle'></label><ul><li><span class='ee-k'>0:</span><span class='ee-v'>76.95980332260879</span></li><li><span class='ee-k'>1:</span><span class='ee-v'>28.831012094868395</span></li></ul></li><li><label class='ee-shut'>187: [76.95755750553661, 28.831012141846124]<input type='checkbox' class='ee-toggle'></label><ul><li><span class='ee-k'>0:</span><span class='ee-v'>76.95755750553661</span></li><li><span class='ee-k'>1:</span><span class='ee-v'>28.831012141846124</span></li></ul></li><li><label class='ee-shut'>188: [76.95531173507419, 28.81978330470546]<input type='checkbox' class='ee-toggle'></label><ul><li><span class='ee-k'>0:</span><span class='ee-v'>76.95531173507419</span></li><li><span class='ee-k'>1:</span><span class='ee-v'>28.81978330470546</span></li></ul></li><li><label class='ee-shut'>189: [76.94857452766354, 28.817537562468004]<input type='checkbox' class='ee-toggle'></label><ul><li><span class='ee-k'>0:</span><span class='ee-v'>76.94857452766354</span></li><li><span class='ee-k'>1:</span><span class='ee-v'>28.817537562468004</span></li></ul></li><li><label class='ee-shut'>190: [76.9418372127371, 28.819783385140372]<input type='checkbox' class='ee-toggle'></label><ul><li><span class='ee-k'>0:</span><span class='ee-v'>76.9418372127371</span></li><li><span class='ee-k'>1:</span><span class='ee-v'>28.819783385140372</span></li></ul></li><li><label class='ee-shut'>191: [76.93734575642112, 28.80855457396516]<input type='checkbox' class='ee-toggle'></label><ul><li><span class='ee-k'>0:</span><span class='ee-v'>76.93734575642112</span></li><li><span class='ee-k'>1:</span><span class='ee-v'>28.80855457396516</span></li></ul></li><li><label class='ee-shut'>192: [76.93734575642112, 28.804063040645918]<input type='checkbox' class='ee-toggle'></label><ul><li><span class='ee-k'>0:</span><span class='ee-v'>76.93734575642112</span></li><li><span class='ee-k'>1:</span><span class='ee-v'>28.804063040645918</span></li></ul></li><li><label class='ee-shut'>193: [76.94408296699908, 28.79507999794342]<input type='checkbox' class='ee-toggle'></label><ul><li><span class='ee-k'>0:</span><span class='ee-v'>76.94408296699908</span></li><li><span class='ee-k'>1:</span><span class='ee-v'>28.79507999794342</span></li></ul></li><li><label class='ee-shut'>194: [76.9418372127371, 28.78834278407004]<input type='checkbox' class='ee-toggle'></label><ul><li><span class='ee-k'>0:</span><span class='ee-v'>76.9418372127371</span></li><li><span class='ee-k'>1:</span><span class='ee-v'>28.78834278407004</span></li></ul></li><li><label class='ee-shut'>195: [76.94408296699908, 28.779359750319898]<input type='checkbox' class='ee-toggle'></label><ul><li><span class='ee-k'>0:</span><span class='ee-v'>76.94408296699908</span></li><li><span class='ee-k'>1:</span><span class='ee-v'>28.779359750319898</span></li></ul></li><li><label class='ee-shut'>196: [76.94632876795175, 28.774868214716726]<input type='checkbox' class='ee-toggle'></label><ul><li><span class='ee-k'>0:</span><span class='ee-v'>76.94632876795175</span></li><li><span class='ee-k'>1:</span><span class='ee-v'>28.774868214716726</span></li></ul></li><li><label class='ee-shut'>197: [76.93734575642112, 28.759147918413365]<input type='checkbox' class='ee-toggle'></label><ul><li><span class='ee-k'>0:</span><span class='ee-v'>76.93734575642112</span></li><li><span class='ee-k'>1:</span><span class='ee-v'>28.759147918413365</span></li></ul></li><li><label class='ee-shut'>198: [76.94632876795175, 28.750164904130024]<input type='checkbox' class='ee-toggle'></label><ul><li><span class='ee-k'>0:</span><span class='ee-v'>76.94632876795175</span></li><li><span class='ee-k'>1:</span><span class='ee-v'>28.750164904130024</span></li></ul></li><li><label class='ee-shut'>199: [76.95082024612415, 28.745673365100938]<input type='checkbox' class='ee-toggle'></label><ul><li><span class='ee-k'>0:</span><span class='ee-v'>76.95082024612415</span></li><li><span class='ee-k'>1:</span><span class='ee-v'>28.745673365100938</span></li></ul></li><li><label class='ee-shut'>200: [76.94857452766354, 28.741181859583406]<input type='checkbox' class='ee-toggle'></label><ul><li><span class='ee-k'>0:</span><span class='ee-v'>76.94857452766354</span></li><li><span class='ee-k'>1:</span><span class='ee-v'>28.741181859583406</span></li></ul></li><li><label class='ee-shut'>201: [76.95082024612415, 28.736690370304363]<input type='checkbox' class='ee-toggle'></label><ul><li><span class='ee-k'>0:</span><span class='ee-v'>76.95082024612415</span></li><li><span class='ee-k'>1:</span><span class='ee-v'>28.736690370304363</span></li></ul></li><li><label class='ee-shut'>202: [76.9418372127371, 28.71647860286372]<input type='checkbox' class='ee-toggle'></label><ul><li><span class='ee-k'>0:</span><span class='ee-v'>76.9418372127371</span></li><li><span class='ee-k'>1:</span><span class='ee-v'>28.71647860286372</span></li></ul></li><li><label class='ee-shut'>203: [76.95082024612415, 28.70974129973353]<input type='checkbox' class='ee-toggle'></label><ul><li><span class='ee-k'>0:</span><span class='ee-v'>76.95082024612415</span></li><li><span class='ee-k'>1:</span><span class='ee-v'>28.70974129973353</span></li></ul></li><li><label class='ee-shut'>204: [76.95531173507419, 28.70524976192422]<input type='checkbox' class='ee-toggle'></label><ul><li><span class='ee-k'>0:</span><span class='ee-v'>76.95531173507419</span></li><li><span class='ee-k'>1:</span><span class='ee-v'>28.70524976192422</span></li></ul></li><li><label class='ee-shut'>205: [76.95531173507419, 28.700758294069733]<input type='checkbox' class='ee-toggle'></label><ul><li><span class='ee-k'>0:</span><span class='ee-v'>76.95531173507419</span></li><li><span class='ee-k'>1:</span><span class='ee-v'>28.700758294069733</span></li></ul></li><li><label class='ee-shut'>206: [76.95082024612415, 28.69402098829881]<input type='checkbox' class='ee-toggle'></label><ul><li><span class='ee-k'>0:</span><span class='ee-v'>76.95082024612415</span></li><li><span class='ee-k'>1:</span><span class='ee-v'>28.69402098829881</span></li></ul></li><li><label class='ee-shut'>207: [76.94857452766354, 28.687283803256257]<input type='checkbox' class='ee-toggle'></label><ul><li><span class='ee-k'>0:</span><span class='ee-v'>76.94857452766354</span></li><li><span class='ee-k'>1:</span><span class='ee-v'>28.687283803256257</span></li></ul></li><li><label class='ee-shut'>208: [76.94632876795175, 28.682792263894616]<input type='checkbox' class='ee-toggle'></label><ul><li><span class='ee-k'>0:</span><span class='ee-v'>76.94632876795175</span></li><li><span class='ee-k'>1:</span><span class='ee-v'>28.682792263894616</span></li></ul></li><li><label class='ee-shut'>209: [76.94632876795175, 28.676054960410315]<input type='checkbox' class='ee-toggle'></label><ul><li><span class='ee-k'>0:</span><span class='ee-v'>76.94632876795175</span></li><li><span class='ee-k'>1:</span><span class='ee-v'>28.676054960410315</span></li></ul></li><li><label class='ee-shut'>210: [76.9418372127371, 28.676054981598618]<input type='checkbox' class='ee-toggle'></label><ul><li><span class='ee-k'>0:</span><span class='ee-v'>76.9418372127371</span></li><li><span class='ee-k'>1:</span><span class='ee-v'>28.676054981598618</span></li></ul></li><li><label class='ee-shut'>211: [76.9306084388812, 28.673809204502987]<input type='checkbox' class='ee-toggle'></label><ul><li><span class='ee-k'>0:</span><span class='ee-v'>76.9306084388812</span></li><li><span class='ee-k'>1:</span><span class='ee-v'>28.673809204502987</span></li></ul></li><li><label class='ee-shut'>212: [76.92387119056836, 28.669317708206783]<input type='checkbox' class='ee-toggle'></label><ul><li><span class='ee-k'>0:</span><span class='ee-v'>76.92387119056836</span></li><li><span class='ee-k'>1:</span><span class='ee-v'>28.669317708206783</span></li></ul></li><li><label class='ee-shut'>213: [76.91713392389318, 28.658088923920456]<input type='checkbox' class='ee-toggle'></label><ul><li><span class='ee-k'>0:</span><span class='ee-v'>76.91713392389318</span></li><li><span class='ee-k'>1:</span><span class='ee-v'>28.658088923920456</span></li></ul></li><li><label class='ee-shut'>214: [76.91713392389318, 28.653597429651377]<input type='checkbox' class='ee-toggle'></label><ul><li><span class='ee-k'>0:</span><span class='ee-v'>76.91713392389318</span></li><li><span class='ee-k'>1:</span><span class='ee-v'>28.653597429651377</span></li></ul></li><li><label class='ee-shut'>215: [76.93285422325938, 28.637877146472462]<input type='checkbox' class='ee-toggle'></label><ul><li><span class='ee-k'>0:</span><span class='ee-v'>76.93285422325938</span></li><li><span class='ee-k'>1:</span><span class='ee-v'>28.637877146472462</span></li></ul></li><li><label class='ee-shut'>216: [76.9261169225222, 28.628894115767455]<input type='checkbox' class='ee-toggle'></label><ul><li><span class='ee-k'>0:</span><span class='ee-v'>76.9261169225222</span></li><li><span class='ee-k'>1:</span><span class='ee-v'>28.628894115767455</span></li></ul></li><li><label class='ee-shut'>217: [76.92387119056836, 28.628894125553355]<input type='checkbox' class='ee-toggle'></label><ul><li><span class='ee-k'>0:</span><span class='ee-v'>76.92387119056836</span></li><li><span class='ee-k'>1:</span><span class='ee-v'>28.628894125553355</span></li></ul></li><li><label class='ee-shut'>218: [76.91039663919067, 28.637877100247007]<input type='checkbox' class='ee-toggle'></label><ul><li><span class='ee-k'>0:</span><span class='ee-v'>76.91039663919067</span></li><li><span class='ee-k'>1:</span><span class='ee-v'>28.637877100247007</span></li></ul></li><li><label class='ee-shut'>219: [76.90365942474459, 28.63787712628967]<input type='checkbox' class='ee-toggle'></label><ul><li><span class='ee-k'>0:</span><span class='ee-v'>76.90365942474459</span></li><li><span class='ee-k'>1:</span><span class='ee-v'>28.63787712628967</span></li></ul></li><li><label class='ee-shut'>220: [76.89692210499737, 28.63338559901195]<input type='checkbox' class='ee-toggle'></label><ul><li><span class='ee-k'>0:</span><span class='ee-v'>76.89692210499737</span></li><li><span class='ee-k'>1:</span><span class='ee-v'>28.63338559901195</span></li></ul></li><li><label class='ee-shut'>221: [76.89467636704018, 28.633385579503777]<input type='checkbox' class='ee-toggle'></label><ul><li><span class='ee-k'>0:</span><span class='ee-v'>76.89467636704018</span></li><li><span class='ee-k'>1:</span><span class='ee-v'>28.633385579503777</span></li></ul></li><li><label class='ee-shut'>222: [76.8789561103673, 28.637877092526452]<input type='checkbox' class='ee-toggle'></label><ul><li><span class='ee-k'>0:</span><span class='ee-v'>76.8789561103673</span></li><li><span class='ee-k'>1:</span><span class='ee-v'>28.637877092526452</span></li></ul></li><li><label class='ee-shut'>223: [76.86099004999728, 28.601945048668203]<input type='checkbox' class='ee-toggle'></label><ul><li><span class='ee-k'>0:</span><span class='ee-v'>76.86099004999728</span></li><li><span class='ee-k'>1:</span><span class='ee-v'>28.601945048668203</span></li></ul></li><li><label class='ee-shut'>224: [76.8542527747703, 28.592961994800625]<input type='checkbox' class='ee-toggle'></label><ul><li><span class='ee-k'>0:</span><span class='ee-v'>76.8542527747703</span></li><li><span class='ee-k'>1:</span><span class='ee-v'>28.592961994800625</span></li></ul></li><li><label class='ee-shut'>225: [76.84976128876723, 28.590716223784987]<input type='checkbox' class='ee-toggle'></label><ul><li><span class='ee-k'>0:</span><span class='ee-v'>76.84976128876723</span></li><li><span class='ee-k'>1:</span><span class='ee-v'>28.590716223784987</span></li></ul></li><li><label class='ee-shut'>226: [76.8340409491124, 28.590716228241277]<input type='checkbox' class='ee-toggle'></label><ul><li><span class='ee-k'>0:</span><span class='ee-v'>76.8340409491124</span></li><li><span class='ee-k'>1:</span><span class='ee-v'>28.590716228241277</span></li></ul></li><li><label class='ee-shut'>227: [76.83179521216374, 28.581733259417586]<input type='checkbox' class='ee-toggle'></label><ul><li><span class='ee-k'>0:</span><span class='ee-v'>76.83179521216374</span></li><li><span class='ee-k'>1:</span><span class='ee-v'>28.581733259417586</span></li></ul></li></ul></li></ul></li></ul></li></ul></li></ul></li></ul></div><script>function toggleHeader() {\n",
              "    const parent = this.parentElement;\n",
              "    parent.className = parent.className === \"ee-open\" ? \"ee-shut\" : \"ee-open\";\n",
              "}\n",
              "\n",
              "for (let c of document.getElementsByClassName(\"ee-toggle\")) {\n",
              "    c.onclick = toggleHeader;\n",
              "}</script></div>"
            ]
          },
          "metadata": {},
          "execution_count": 8
        }
      ]
    },
    {
      "cell_type": "markdown",
      "source": [
        "Now calculate the total area of the masked image using `reducers`"
      ],
      "metadata": {
        "id": "LwGqLtdGL_7N"
      }
    },
    {
      "cell_type": "code",
      "source": [
        "\n"
      ],
      "metadata": {
        "id": "h8Vv3SBbO6oR",
        "outputId": "ad827c70-8a46-47e2-dbad-3dc4d0544dc6",
        "colab": {
          "base_uri": "https://localhost:8080/",
          "height": 34
        }
      },
      "execution_count": 16,
      "outputs": [
        {
          "output_type": "display_data",
          "data": {
            "text/plain": [
              "<IPython.core.display.HTML object>"
            ],
            "text/html": [
              "\n",
              "            <style>\n",
              "                .geemap-dark {\n",
              "                    --jp-widgets-color: white;\n",
              "                    --jp-widgets-label-color: white;\n",
              "                    --jp-ui-font-color1: white;\n",
              "                    --jp-layout-color2: #454545;\n",
              "                    background-color: #383838;\n",
              "                }\n",
              "\n",
              "                .geemap-dark .jupyter-button {\n",
              "                    --jp-layout-color3: #383838;\n",
              "                }\n",
              "\n",
              "                .geemap-colab {\n",
              "                    background-color: var(--colab-primary-surface-color, white);\n",
              "                }\n",
              "\n",
              "                .geemap-colab .jupyter-button {\n",
              "                    --jp-layout-color3: var(--colab-primary-surface-color, white);\n",
              "                }\n",
              "            </style>\n",
              "            "
            ]
          },
          "metadata": {}
        },
        {
          "output_type": "execute_result",
          "data": {
            "text/plain": [
              "7.817107440852668"
            ]
          },
          "metadata": {},
          "execution_count": 16
        }
      ]
    },
    {
      "cell_type": "code",
      "source": [
        "water_area = pixel_area.reduceRegion(\n",
        "    reducer = ee.Reducer.sum(),\n",
        "    geometry = geometry,\n",
        "    scale = 30\n",
        ")\n",
        "\n",
        "water_area = water_area.getInfo()['ndwi']\n",
        "print(f\"The total area of water bodies in Delhi is {water_area} Km2\")"
      ],
      "metadata": {
        "id": "4DBWB8blL_m4",
        "outputId": "9f5f0e1d-1fdd-4241-f903-bb0a5bce66cf",
        "colab": {
          "base_uri": "https://localhost:8080/",
          "height": 34
        }
      },
      "execution_count": 17,
      "outputs": [
        {
          "output_type": "display_data",
          "data": {
            "text/plain": [
              "<IPython.core.display.HTML object>"
            ],
            "text/html": [
              "\n",
              "            <style>\n",
              "                .geemap-dark {\n",
              "                    --jp-widgets-color: white;\n",
              "                    --jp-widgets-label-color: white;\n",
              "                    --jp-ui-font-color1: white;\n",
              "                    --jp-layout-color2: #454545;\n",
              "                    background-color: #383838;\n",
              "                }\n",
              "\n",
              "                .geemap-dark .jupyter-button {\n",
              "                    --jp-layout-color3: #383838;\n",
              "                }\n",
              "\n",
              "                .geemap-colab {\n",
              "                    background-color: var(--colab-primary-surface-color, white);\n",
              "                }\n",
              "\n",
              "                .geemap-colab .jupyter-button {\n",
              "                    --jp-layout-color3: var(--colab-primary-surface-color, white);\n",
              "                }\n",
              "            </style>\n",
              "            "
            ]
          },
          "metadata": {}
        },
        {
          "output_type": "stream",
          "name": "stdout",
          "text": [
            "The total area of water bodies in Delhi is 7.817107440852668 Km2\n"
          ]
        }
      ]
    }
  ]
}