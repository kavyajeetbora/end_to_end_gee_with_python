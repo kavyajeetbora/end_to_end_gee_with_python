{
  "nbformat": 4,
  "nbformat_minor": 0,
  "metadata": {
    "colab": {
      "provenance": [],
      "authorship_tag": "ABX9TyOExxSfjlxaSrrk0lnAIE2G",
      "include_colab_link": true
    },
    "kernelspec": {
      "name": "python3",
      "display_name": "Python 3"
    },
    "language_info": {
      "name": "python"
    }
  },
  "cells": [
    {
      "cell_type": "markdown",
      "metadata": {
        "id": "view-in-github",
        "colab_type": "text"
      },
      "source": [
        "<a href=\"https://colab.research.google.com/github/kavyajeetbora/end_to_end_gee_with_python/blob/master/Development/District-Builtup-Index-GHSL.ipynb\" target=\"_parent\"><img src=\"https://colab.research.google.com/assets/colab-badge.svg\" alt=\"Open In Colab\"/></a>"
      ]
    },
    {
      "cell_type": "code",
      "source": [
        "import ee\n",
        "import geemap\n",
        "import geopandas as gpd\n",
        "import pandas as pd\n",
        "\n",
        "ee.Authenticate()\n",
        "ee.Initialize(project='kavyajeetbora-ee')"
      ],
      "metadata": {
        "id": "2P7il3MsTjQf",
        "colab": {
          "base_uri": "https://localhost:8080/",
          "height": 17
        },
        "outputId": "e716e384-fe6d-4be4-ad78-87b592ddd7fb"
      },
      "execution_count": 71,
      "outputs": [
        {
          "output_type": "display_data",
          "data": {
            "text/plain": [
              "<IPython.core.display.HTML object>"
            ],
            "text/html": [
              "\n",
              "            <style>\n",
              "                .geemap-dark {\n",
              "                    --jp-widgets-color: white;\n",
              "                    --jp-widgets-label-color: white;\n",
              "                    --jp-ui-font-color1: white;\n",
              "                    --jp-layout-color2: #454545;\n",
              "                    background-color: #383838;\n",
              "                }\n",
              "\n",
              "                .geemap-dark .jupyter-button {\n",
              "                    --jp-layout-color3: #383838;\n",
              "                }\n",
              "\n",
              "                .geemap-colab {\n",
              "                    background-color: var(--colab-primary-surface-color, white);\n",
              "                }\n",
              "\n",
              "                .geemap-colab .jupyter-button {\n",
              "                    --jp-layout-color3: var(--colab-primary-surface-color, white);\n",
              "                }\n",
              "            </style>\n",
              "            "
            ]
          },
          "metadata": {}
        }
      ]
    },
    {
      "cell_type": "code",
      "source": [
        "image_collection = ee.ImageCollection(\"JRC/GHSL/P2023A/GHS_BUILT_S\")"
      ],
      "metadata": {
        "id": "T6EQTzAJvYhg",
        "outputId": "d9e32408-b3c5-4289-9769-59a8c77aba90",
        "colab": {
          "base_uri": "https://localhost:8080/",
          "height": 17
        }
      },
      "execution_count": 4,
      "outputs": [
        {
          "output_type": "display_data",
          "data": {
            "text/plain": [
              "<IPython.core.display.HTML object>"
            ],
            "text/html": [
              "\n",
              "            <style>\n",
              "                .geemap-dark {\n",
              "                    --jp-widgets-color: white;\n",
              "                    --jp-widgets-label-color: white;\n",
              "                    --jp-ui-font-color1: white;\n",
              "                    --jp-layout-color2: #454545;\n",
              "                    background-color: #383838;\n",
              "                }\n",
              "\n",
              "                .geemap-dark .jupyter-button {\n",
              "                    --jp-layout-color3: #383838;\n",
              "                }\n",
              "\n",
              "                .geemap-colab {\n",
              "                    background-color: var(--colab-primary-surface-color, white);\n",
              "                }\n",
              "\n",
              "                .geemap-colab .jupyter-button {\n",
              "                    --jp-layout-color3: var(--colab-primary-surface-color, white);\n",
              "                }\n",
              "            </style>\n",
              "            "
            ]
          },
          "metadata": {}
        }
      ]
    },
    {
      "cell_type": "markdown",
      "source": [
        "[ee.ImageCollection.aggregate_array](https://developers.google.com/earth-engine/apidocs/ee-imagecollection-aggregate_array):  Aggregates over a given property of the objects in a collection, calculating a list of all the values of the selected property."
      ],
      "metadata": {
        "id": "EMOnPqcczBho"
      }
    },
    {
      "cell_type": "code",
      "source": [
        "years = image_collection.aggregate_array('system:index').getInfo()\n",
        "print(years)"
      ],
      "metadata": {
        "id": "l8YMzp_PveDV",
        "outputId": "035fa3a7-949d-4c04-8c5c-19beaf76cbc2",
        "colab": {
          "base_uri": "https://localhost:8080/",
          "height": 34
        }
      },
      "execution_count": 19,
      "outputs": [
        {
          "output_type": "display_data",
          "data": {
            "text/plain": [
              "<IPython.core.display.HTML object>"
            ],
            "text/html": [
              "\n",
              "            <style>\n",
              "                .geemap-dark {\n",
              "                    --jp-widgets-color: white;\n",
              "                    --jp-widgets-label-color: white;\n",
              "                    --jp-ui-font-color1: white;\n",
              "                    --jp-layout-color2: #454545;\n",
              "                    background-color: #383838;\n",
              "                }\n",
              "\n",
              "                .geemap-dark .jupyter-button {\n",
              "                    --jp-layout-color3: #383838;\n",
              "                }\n",
              "\n",
              "                .geemap-colab {\n",
              "                    background-color: var(--colab-primary-surface-color, white);\n",
              "                }\n",
              "\n",
              "                .geemap-colab .jupyter-button {\n",
              "                    --jp-layout-color3: var(--colab-primary-surface-color, white);\n",
              "                }\n",
              "            </style>\n",
              "            "
            ]
          },
          "metadata": {}
        },
        {
          "output_type": "stream",
          "name": "stdout",
          "text": [
            "['1975', '1980', '1985', '1990', '1995', '2000', '2005', '2010', '2015', '2020', '2025', '2030']\n"
          ]
        }
      ]
    },
    {
      "cell_type": "code",
      "source": [
        "# Load the district boundaries dataset\n",
        "districts = ee.FeatureCollection(\"FAO/GAUL/2015/level2\").filter(ee.Filter.eq('ADM0_NAME', 'India'))\n",
        "districts = districts.select(['ADM2_CODE', 'ADM2_NAME', 'ADM1_NAME', 'Shape_Area'])\n",
        "feature = districts.first()"
      ],
      "metadata": {
        "id": "1e8n0a1_8Fuz",
        "outputId": "0878e4d8-a4c6-4f93-ebd9-db92de4dfd79",
        "colab": {
          "base_uri": "https://localhost:8080/",
          "height": 17
        }
      },
      "execution_count": 66,
      "outputs": [
        {
          "output_type": "display_data",
          "data": {
            "text/plain": [
              "<IPython.core.display.HTML object>"
            ],
            "text/html": [
              "\n",
              "            <style>\n",
              "                .geemap-dark {\n",
              "                    --jp-widgets-color: white;\n",
              "                    --jp-widgets-label-color: white;\n",
              "                    --jp-ui-font-color1: white;\n",
              "                    --jp-layout-color2: #454545;\n",
              "                    background-color: #383838;\n",
              "                }\n",
              "\n",
              "                .geemap-dark .jupyter-button {\n",
              "                    --jp-layout-color3: #383838;\n",
              "                }\n",
              "\n",
              "                .geemap-colab {\n",
              "                    background-color: var(--colab-primary-surface-color, white);\n",
              "                }\n",
              "\n",
              "                .geemap-colab .jupyter-button {\n",
              "                    --jp-layout-color3: var(--colab-primary-surface-color, white);\n",
              "                }\n",
              "            </style>\n",
              "            "
            ]
          },
          "metadata": {}
        }
      ]
    },
    {
      "cell_type": "code",
      "source": [
        "%%time\n",
        "\n",
        "# Load the GHSL built-up surface dataset\n",
        "ghsl_built_up = ee.ImageCollection(\"JRC/GHSL/P2023A/GHS_BUILT_S\")\n",
        "\n",
        "# Function to calculate the built-up surface area for each district for a given year\n",
        "def calculate_built_up_area(feature, year):\n",
        "    built_up_image = ghsl_built_up.filterDate(f'{year}-01-01', f'{year}-12-31').first()\n",
        "\n",
        "    built_up_image = built_up_image\n",
        "\n",
        "    built_up_area = built_up_image.reduceRegion(\n",
        "        reducer=ee.Reducer.sum(),\n",
        "        geometry=feature.geometry(),\n",
        "        scale=100,  # Scale to match GHSL data resolution\n",
        "        maxPixels=1e9\n",
        "    ).get('built_surface')\n",
        "\n",
        "    return feature.set({'year': year, 'area_m2': built_up_area})\n",
        "\n",
        "# Initialize an empty list to store results\n",
        "results_list = []\n",
        "\n",
        "# Loop through each year and calculate the built-up area for each district\n",
        "for year in years:\n",
        "    districts_with_built_up_area = districts.map(lambda feature: calculate_built_up_area(feature, year))\n",
        "    gdf = geemap.ee_to_gdf(districts_with_built_up_area)\n",
        "    results_list.append(gdf)"
      ],
      "metadata": {
        "colab": {
          "base_uri": "https://localhost:8080/",
          "height": 52
        },
        "id": "nr2sJKnsXDnp",
        "outputId": "56b9b448-820b-41f9-84a8-48982b4d0a31"
      },
      "execution_count": 72,
      "outputs": [
        {
          "output_type": "display_data",
          "data": {
            "text/plain": [
              "<IPython.core.display.HTML object>"
            ],
            "text/html": [
              "\n",
              "            <style>\n",
              "                .geemap-dark {\n",
              "                    --jp-widgets-color: white;\n",
              "                    --jp-widgets-label-color: white;\n",
              "                    --jp-ui-font-color1: white;\n",
              "                    --jp-layout-color2: #454545;\n",
              "                    background-color: #383838;\n",
              "                }\n",
              "\n",
              "                .geemap-dark .jupyter-button {\n",
              "                    --jp-layout-color3: #383838;\n",
              "                }\n",
              "\n",
              "                .geemap-colab {\n",
              "                    background-color: var(--colab-primary-surface-color, white);\n",
              "                }\n",
              "\n",
              "                .geemap-colab .jupyter-button {\n",
              "                    --jp-layout-color3: var(--colab-primary-surface-color, white);\n",
              "                }\n",
              "            </style>\n",
              "            "
            ]
          },
          "metadata": {}
        },
        {
          "output_type": "stream",
          "name": "stdout",
          "text": [
            "CPU times: user 34.7 s, sys: 2.15 s, total: 36.9 s\n",
            "Wall time: 3min 31s\n"
          ]
        }
      ]
    },
    {
      "cell_type": "code",
      "source": [
        "# Convert the results list to a pandas dataframe\n",
        "df = pd.concat(results_list)\n",
        "gdf = gpd.GeoDataFrame(df)"
      ],
      "metadata": {
        "id": "1V_iG7QT82wv",
        "outputId": "ae36b0a3-5ef4-4d51-f8a4-f590d2a2fbe7",
        "colab": {
          "base_uri": "https://localhost:8080/",
          "height": 17
        }
      },
      "execution_count": 73,
      "outputs": [
        {
          "output_type": "display_data",
          "data": {
            "text/plain": [
              "<IPython.core.display.HTML object>"
            ],
            "text/html": [
              "\n",
              "            <style>\n",
              "                .geemap-dark {\n",
              "                    --jp-widgets-color: white;\n",
              "                    --jp-widgets-label-color: white;\n",
              "                    --jp-ui-font-color1: white;\n",
              "                    --jp-layout-color2: #454545;\n",
              "                    background-color: #383838;\n",
              "                }\n",
              "\n",
              "                .geemap-dark .jupyter-button {\n",
              "                    --jp-layout-color3: #383838;\n",
              "                }\n",
              "\n",
              "                .geemap-colab {\n",
              "                    background-color: var(--colab-primary-surface-color, white);\n",
              "                }\n",
              "\n",
              "                .geemap-colab .jupyter-button {\n",
              "                    --jp-layout-color3: var(--colab-primary-surface-color, white);\n",
              "                }\n",
              "            </style>\n",
              "            "
            ]
          },
          "metadata": {}
        }
      ]
    },
    {
      "cell_type": "code",
      "source": [
        "gdf.head()"
      ],
      "metadata": {
        "id": "4mkEe9lF7gjT",
        "outputId": "0712da6d-6153-4d60-cbbd-9d0f6c09dd37",
        "colab": {
          "base_uri": "https://localhost:8080/",
          "height": 206
        }
      },
      "execution_count": 74,
      "outputs": [
        {
          "output_type": "display_data",
          "data": {
            "text/plain": [
              "<IPython.core.display.HTML object>"
            ],
            "text/html": [
              "\n",
              "            <style>\n",
              "                .geemap-dark {\n",
              "                    --jp-widgets-color: white;\n",
              "                    --jp-widgets-label-color: white;\n",
              "                    --jp-ui-font-color1: white;\n",
              "                    --jp-layout-color2: #454545;\n",
              "                    background-color: #383838;\n",
              "                }\n",
              "\n",
              "                .geemap-dark .jupyter-button {\n",
              "                    --jp-layout-color3: #383838;\n",
              "                }\n",
              "\n",
              "                .geemap-colab {\n",
              "                    background-color: var(--colab-primary-surface-color, white);\n",
              "                }\n",
              "\n",
              "                .geemap-colab .jupyter-button {\n",
              "                    --jp-layout-color3: var(--colab-primary-surface-color, white);\n",
              "                }\n",
              "            </style>\n",
              "            "
            ]
          },
          "metadata": {}
        },
        {
          "output_type": "execute_result",
          "data": {
            "text/plain": [
              "                                            geometry ADM1_NAME  ADM2_CODE  \\\n",
              "0  POLYGON ((76.48194 29.51891, 76.48206 29.51872...   Haryana      17660   \n",
              "1  POLYGON ((76.4125 30.04788, 76.41295 30.046, 7...   Haryana      17661   \n",
              "2  POLYGON ((75.889 28.39892, 75.88923 28.39366, ...   Haryana      17662   \n",
              "3  POLYGON ((76.46556 29.24227, 76.47164 29.23409...   Haryana      17665   \n",
              "4  POLYGON ((76.16629 29.92866, 76.17149 29.92323...   Haryana      70134   \n",
              "\n",
              "      ADM2_NAME  Shape_Area       area_m2  year  \n",
              "0        Karnal    0.240933  1.724510e+07  1975  \n",
              "1   Kurukshetra    0.171739  1.194741e+07  1975  \n",
              "2  Mahendragarh    0.177959  5.877115e+06  1975  \n",
              "3       Sonepat    0.205076  1.850835e+07  1975  \n",
              "4       Kaithal    0.214695  1.140200e+07  1975  "
            ],
            "text/html": [
              "\n",
              "  <div id=\"df-182cf461-6591-4819-a148-31979e064dca\" class=\"colab-df-container\">\n",
              "    <div>\n",
              "<style scoped>\n",
              "    .dataframe tbody tr th:only-of-type {\n",
              "        vertical-align: middle;\n",
              "    }\n",
              "\n",
              "    .dataframe tbody tr th {\n",
              "        vertical-align: top;\n",
              "    }\n",
              "\n",
              "    .dataframe thead th {\n",
              "        text-align: right;\n",
              "    }\n",
              "</style>\n",
              "<table border=\"1\" class=\"dataframe\">\n",
              "  <thead>\n",
              "    <tr style=\"text-align: right;\">\n",
              "      <th></th>\n",
              "      <th>geometry</th>\n",
              "      <th>ADM1_NAME</th>\n",
              "      <th>ADM2_CODE</th>\n",
              "      <th>ADM2_NAME</th>\n",
              "      <th>Shape_Area</th>\n",
              "      <th>area_m2</th>\n",
              "      <th>year</th>\n",
              "    </tr>\n",
              "  </thead>\n",
              "  <tbody>\n",
              "    <tr>\n",
              "      <th>0</th>\n",
              "      <td>POLYGON ((76.48194 29.51891, 76.48206 29.51872...</td>\n",
              "      <td>Haryana</td>\n",
              "      <td>17660</td>\n",
              "      <td>Karnal</td>\n",
              "      <td>0.240933</td>\n",
              "      <td>1.724510e+07</td>\n",
              "      <td>1975</td>\n",
              "    </tr>\n",
              "    <tr>\n",
              "      <th>1</th>\n",
              "      <td>POLYGON ((76.4125 30.04788, 76.41295 30.046, 7...</td>\n",
              "      <td>Haryana</td>\n",
              "      <td>17661</td>\n",
              "      <td>Kurukshetra</td>\n",
              "      <td>0.171739</td>\n",
              "      <td>1.194741e+07</td>\n",
              "      <td>1975</td>\n",
              "    </tr>\n",
              "    <tr>\n",
              "      <th>2</th>\n",
              "      <td>POLYGON ((75.889 28.39892, 75.88923 28.39366, ...</td>\n",
              "      <td>Haryana</td>\n",
              "      <td>17662</td>\n",
              "      <td>Mahendragarh</td>\n",
              "      <td>0.177959</td>\n",
              "      <td>5.877115e+06</td>\n",
              "      <td>1975</td>\n",
              "    </tr>\n",
              "    <tr>\n",
              "      <th>3</th>\n",
              "      <td>POLYGON ((76.46556 29.24227, 76.47164 29.23409...</td>\n",
              "      <td>Haryana</td>\n",
              "      <td>17665</td>\n",
              "      <td>Sonepat</td>\n",
              "      <td>0.205076</td>\n",
              "      <td>1.850835e+07</td>\n",
              "      <td>1975</td>\n",
              "    </tr>\n",
              "    <tr>\n",
              "      <th>4</th>\n",
              "      <td>POLYGON ((76.16629 29.92866, 76.17149 29.92323...</td>\n",
              "      <td>Haryana</td>\n",
              "      <td>70134</td>\n",
              "      <td>Kaithal</td>\n",
              "      <td>0.214695</td>\n",
              "      <td>1.140200e+07</td>\n",
              "      <td>1975</td>\n",
              "    </tr>\n",
              "  </tbody>\n",
              "</table>\n",
              "</div>\n",
              "    <div class=\"colab-df-buttons\">\n",
              "\n",
              "  <div class=\"colab-df-container\">\n",
              "    <button class=\"colab-df-convert\" onclick=\"convertToInteractive('df-182cf461-6591-4819-a148-31979e064dca')\"\n",
              "            title=\"Convert this dataframe to an interactive table.\"\n",
              "            style=\"display:none;\">\n",
              "\n",
              "  <svg xmlns=\"http://www.w3.org/2000/svg\" height=\"24px\" viewBox=\"0 -960 960 960\">\n",
              "    <path d=\"M120-120v-720h720v720H120Zm60-500h600v-160H180v160Zm220 220h160v-160H400v160Zm0 220h160v-160H400v160ZM180-400h160v-160H180v160Zm440 0h160v-160H620v160ZM180-180h160v-160H180v160Zm440 0h160v-160H620v160Z\"/>\n",
              "  </svg>\n",
              "    </button>\n",
              "\n",
              "  <style>\n",
              "    .colab-df-container {\n",
              "      display:flex;\n",
              "      gap: 12px;\n",
              "    }\n",
              "\n",
              "    .colab-df-convert {\n",
              "      background-color: #E8F0FE;\n",
              "      border: none;\n",
              "      border-radius: 50%;\n",
              "      cursor: pointer;\n",
              "      display: none;\n",
              "      fill: #1967D2;\n",
              "      height: 32px;\n",
              "      padding: 0 0 0 0;\n",
              "      width: 32px;\n",
              "    }\n",
              "\n",
              "    .colab-df-convert:hover {\n",
              "      background-color: #E2EBFA;\n",
              "      box-shadow: 0px 1px 2px rgba(60, 64, 67, 0.3), 0px 1px 3px 1px rgba(60, 64, 67, 0.15);\n",
              "      fill: #174EA6;\n",
              "    }\n",
              "\n",
              "    .colab-df-buttons div {\n",
              "      margin-bottom: 4px;\n",
              "    }\n",
              "\n",
              "    [theme=dark] .colab-df-convert {\n",
              "      background-color: #3B4455;\n",
              "      fill: #D2E3FC;\n",
              "    }\n",
              "\n",
              "    [theme=dark] .colab-df-convert:hover {\n",
              "      background-color: #434B5C;\n",
              "      box-shadow: 0px 1px 3px 1px rgba(0, 0, 0, 0.15);\n",
              "      filter: drop-shadow(0px 1px 2px rgba(0, 0, 0, 0.3));\n",
              "      fill: #FFFFFF;\n",
              "    }\n",
              "  </style>\n",
              "\n",
              "    <script>\n",
              "      const buttonEl =\n",
              "        document.querySelector('#df-182cf461-6591-4819-a148-31979e064dca button.colab-df-convert');\n",
              "      buttonEl.style.display =\n",
              "        google.colab.kernel.accessAllowed ? 'block' : 'none';\n",
              "\n",
              "      async function convertToInteractive(key) {\n",
              "        const element = document.querySelector('#df-182cf461-6591-4819-a148-31979e064dca');\n",
              "        const dataTable =\n",
              "          await google.colab.kernel.invokeFunction('convertToInteractive',\n",
              "                                                    [key], {});\n",
              "        if (!dataTable) return;\n",
              "\n",
              "        const docLinkHtml = 'Like what you see? Visit the ' +\n",
              "          '<a target=\"_blank\" href=https://colab.research.google.com/notebooks/data_table.ipynb>data table notebook</a>'\n",
              "          + ' to learn more about interactive tables.';\n",
              "        element.innerHTML = '';\n",
              "        dataTable['output_type'] = 'display_data';\n",
              "        await google.colab.output.renderOutput(dataTable, element);\n",
              "        const docLink = document.createElement('div');\n",
              "        docLink.innerHTML = docLinkHtml;\n",
              "        element.appendChild(docLink);\n",
              "      }\n",
              "    </script>\n",
              "  </div>\n",
              "\n",
              "\n",
              "<div id=\"df-ddc7d412-07e3-4bf4-b013-27e0d7f2e248\">\n",
              "  <button class=\"colab-df-quickchart\" onclick=\"quickchart('df-ddc7d412-07e3-4bf4-b013-27e0d7f2e248')\"\n",
              "            title=\"Suggest charts\"\n",
              "            style=\"display:none;\">\n",
              "\n",
              "<svg xmlns=\"http://www.w3.org/2000/svg\" height=\"24px\"viewBox=\"0 0 24 24\"\n",
              "     width=\"24px\">\n",
              "    <g>\n",
              "        <path d=\"M19 3H5c-1.1 0-2 .9-2 2v14c0 1.1.9 2 2 2h14c1.1 0 2-.9 2-2V5c0-1.1-.9-2-2-2zM9 17H7v-7h2v7zm4 0h-2V7h2v10zm4 0h-2v-4h2v4z\"/>\n",
              "    </g>\n",
              "</svg>\n",
              "  </button>\n",
              "\n",
              "<style>\n",
              "  .colab-df-quickchart {\n",
              "      --bg-color: #E8F0FE;\n",
              "      --fill-color: #1967D2;\n",
              "      --hover-bg-color: #E2EBFA;\n",
              "      --hover-fill-color: #174EA6;\n",
              "      --disabled-fill-color: #AAA;\n",
              "      --disabled-bg-color: #DDD;\n",
              "  }\n",
              "\n",
              "  [theme=dark] .colab-df-quickchart {\n",
              "      --bg-color: #3B4455;\n",
              "      --fill-color: #D2E3FC;\n",
              "      --hover-bg-color: #434B5C;\n",
              "      --hover-fill-color: #FFFFFF;\n",
              "      --disabled-bg-color: #3B4455;\n",
              "      --disabled-fill-color: #666;\n",
              "  }\n",
              "\n",
              "  .colab-df-quickchart {\n",
              "    background-color: var(--bg-color);\n",
              "    border: none;\n",
              "    border-radius: 50%;\n",
              "    cursor: pointer;\n",
              "    display: none;\n",
              "    fill: var(--fill-color);\n",
              "    height: 32px;\n",
              "    padding: 0;\n",
              "    width: 32px;\n",
              "  }\n",
              "\n",
              "  .colab-df-quickchart:hover {\n",
              "    background-color: var(--hover-bg-color);\n",
              "    box-shadow: 0 1px 2px rgba(60, 64, 67, 0.3), 0 1px 3px 1px rgba(60, 64, 67, 0.15);\n",
              "    fill: var(--button-hover-fill-color);\n",
              "  }\n",
              "\n",
              "  .colab-df-quickchart-complete:disabled,\n",
              "  .colab-df-quickchart-complete:disabled:hover {\n",
              "    background-color: var(--disabled-bg-color);\n",
              "    fill: var(--disabled-fill-color);\n",
              "    box-shadow: none;\n",
              "  }\n",
              "\n",
              "  .colab-df-spinner {\n",
              "    border: 2px solid var(--fill-color);\n",
              "    border-color: transparent;\n",
              "    border-bottom-color: var(--fill-color);\n",
              "    animation:\n",
              "      spin 1s steps(1) infinite;\n",
              "  }\n",
              "\n",
              "  @keyframes spin {\n",
              "    0% {\n",
              "      border-color: transparent;\n",
              "      border-bottom-color: var(--fill-color);\n",
              "      border-left-color: var(--fill-color);\n",
              "    }\n",
              "    20% {\n",
              "      border-color: transparent;\n",
              "      border-left-color: var(--fill-color);\n",
              "      border-top-color: var(--fill-color);\n",
              "    }\n",
              "    30% {\n",
              "      border-color: transparent;\n",
              "      border-left-color: var(--fill-color);\n",
              "      border-top-color: var(--fill-color);\n",
              "      border-right-color: var(--fill-color);\n",
              "    }\n",
              "    40% {\n",
              "      border-color: transparent;\n",
              "      border-right-color: var(--fill-color);\n",
              "      border-top-color: var(--fill-color);\n",
              "    }\n",
              "    60% {\n",
              "      border-color: transparent;\n",
              "      border-right-color: var(--fill-color);\n",
              "    }\n",
              "    80% {\n",
              "      border-color: transparent;\n",
              "      border-right-color: var(--fill-color);\n",
              "      border-bottom-color: var(--fill-color);\n",
              "    }\n",
              "    90% {\n",
              "      border-color: transparent;\n",
              "      border-bottom-color: var(--fill-color);\n",
              "    }\n",
              "  }\n",
              "</style>\n",
              "\n",
              "  <script>\n",
              "    async function quickchart(key) {\n",
              "      const quickchartButtonEl =\n",
              "        document.querySelector('#' + key + ' button');\n",
              "      quickchartButtonEl.disabled = true;  // To prevent multiple clicks.\n",
              "      quickchartButtonEl.classList.add('colab-df-spinner');\n",
              "      try {\n",
              "        const charts = await google.colab.kernel.invokeFunction(\n",
              "            'suggestCharts', [key], {});\n",
              "      } catch (error) {\n",
              "        console.error('Error during call to suggestCharts:', error);\n",
              "      }\n",
              "      quickchartButtonEl.classList.remove('colab-df-spinner');\n",
              "      quickchartButtonEl.classList.add('colab-df-quickchart-complete');\n",
              "    }\n",
              "    (() => {\n",
              "      let quickchartButtonEl =\n",
              "        document.querySelector('#df-ddc7d412-07e3-4bf4-b013-27e0d7f2e248 button');\n",
              "      quickchartButtonEl.style.display =\n",
              "        google.colab.kernel.accessAllowed ? 'block' : 'none';\n",
              "    })();\n",
              "  </script>\n",
              "</div>\n",
              "\n",
              "    </div>\n",
              "  </div>\n"
            ],
            "application/vnd.google.colaboratory.intrinsic+json": {
              "type": "dataframe",
              "variable_name": "gdf",
              "summary": "{\n  \"name\": \"gdf\",\n  \"rows\": 6876,\n  \"fields\": [\n    {\n      \"column\": \"geometry\",\n      \"properties\": {\n        \"dtype\": \"geometry\",\n        \"num_unique_values\": 573,\n        \"samples\": [\n          \"POLYGON ((83.78830581872009 19.007810088544304, 83.78894794521106 18.99833000842105, 83.79116857115211 18.99235929274257, 83.80253477901009 18.981809054211734, 83.80809084333981 18.96840050108808, 83.81063695276755 18.964828827563824, 83.81476612227529 18.95318162601124, 83.81606374175746 18.948660075199133, 83.8134060614906 18.933579380829826, 83.81488649523877 18.930038890434197, 83.81889971029946 18.926097045929943, 83.82116491076168 18.921959023938307, 83.81693320440331 18.909402125330175, 83.81844933142472 18.90711905998206, 83.82305115178295 18.90546027265125, 83.83487664223946 18.909299636952635, 83.83772153678348 18.908608477440033, 83.84027216806086 18.904060150274752, 83.8416366529495 18.897630091469246, 83.84232337478461 18.888239283583307, 83.83669149556442 18.872721594069187, 83.83600479184835 18.86910969253124, 83.83709731557562 18.864708620540082, 83.84366556331723 18.851398135418016, 83.84797747363572 18.847616883168293, 83.85907177150035 18.843010602809425, 83.86434239261817 18.839041988716318, 83.86686628084294 18.823453008568872, 83.87017935360649 18.81843206226363, 83.87391610212228 18.81777205504947, 83.88324007874671 18.81968951072124, 83.8846357917606 18.817821181073683, 83.88535364858362 18.81004001295274, 83.88687868238308 18.80541142452381, 83.89064214604983 18.806869561278152, 83.89547584515468 18.814878118141348, 83.89855261449273 18.816438793021927, 83.90197722738202 18.81692043984422, 83.90775176595041 18.816389804098595, 83.92059397649065 18.811573931683263, 83.92265405583854 18.808532856498786, 83.92639075747125 18.806561906367445, 83.9335878078107 18.806856210264872, 83.93572371607173 18.803132819903972, 83.93657540855904 18.799199910384893, 83.93979035585578 18.796600271014125, 83.94368765164745 18.7962881880828, 83.9490207047343 18.79704176067285, 83.9512101894621 18.800042687551148, 83.95561129504127 18.803061475102236, 83.96402558390771 18.804109384432117, 83.96938544319873 18.803828527119734, 83.98232125879345 18.80001148119209, 83.99153822712208 18.804662368447417, 83.99997935062439 18.80478721178708, 84.00739479444394 18.804211938108196, 84.0124960179759 18.80063135004442, 84.01586711874474 18.80140715514723, 84.01966184403489 18.797621420942047, 84.02231493678528 18.798629185208668, 84.0237285275669 18.801153024340504, 84.0270594761129 18.802200904726668, 84.03071588700824 18.800279069678055, 84.03077832165424 18.79544093047025, 84.03428762619036 18.79012122305172, 84.0387199844008 18.787427864773996, 84.04794145699006 18.783481581864603, 84.04760703358644 18.779869701257397, 84.04972063583456 18.777310253437708, 84.04804846886117 18.774402876089017, 84.04920333024333 18.770652782228318, 84.05355992928581 18.768369725153686, 84.05860760207875 18.768102187763894, 84.06046257766774 18.762671002814233, 84.06577337727512 18.75170159242349, 84.06989355523976 18.749761870956377, 84.07787981707642 18.748879007862953, 84.07932902547516 18.74610986280306, 84.08178155815433 18.744638347807506, 84.08558069553797 18.74517792276039, 84.088782362429 18.747113193623242, 84.0916361416166 18.745240354639574, 84.10072377065435 18.752678176175586, 84.10759081799307 18.754800631931683, 84.11406543155682 18.755139556954884, 84.11892584823808 18.753030365012602, 84.12293906116976 18.748268094414506, 84.12948498690844 18.7528609311887, 84.12793768450189 18.761270850793334, 84.1313622647464 18.76480242686504, 84.134978623617 18.766791174176245, 84.14042763415125 18.767691915666216, 84.14811512349297 18.771763045984642, 84.15136579298868 18.77575847019859, 84.15492862336254 18.77601257915829, 84.15934761406663 18.775040547124828, 84.16027062097466 18.772316040824638, 84.15818826120686 18.769190188940836, 84.16262954862631 18.768570328290124, 84.16703066819224 18.770139962221748, 84.17981938148814 18.768971735623932, 84.18150937617514 18.777519829001104, 84.18651688113252 18.779602226731708, 84.1903383660492 18.77673945592914, 84.20382718348179 18.782638810339765, 84.21671394189919 18.78728079661115, 84.22145845481634 18.786478110429574, 84.22429443230556 18.784270897799967, 84.22698772224844 18.78716035903185, 84.23068875730586 18.785639786544554, 84.2311614100518 18.780119421605576, 84.24603250059671 18.773412974004355, 84.2521905427519 18.772480963084607, 84.25888812399924 18.774830988503656, 84.26422123535978 18.780520720171367, 84.26818984175434 18.780311217039134, 84.27321522208992 18.782491688385797, 84.27533775906271 18.787182640089572, 84.27854833373793 18.789679741513762, 84.28392153087293 18.790821314171833, 84.30037114161001 18.781738138388377, 84.30432191544006 18.78072140383279, 84.30716679132607 18.781662275006866, 84.30885237408127 18.77842048582486, 84.31249099137204 18.77919193326311, 84.31292798938249 18.78217952086911, 84.31571938561315 18.786170417008087, 84.32695629634716 18.789670839622524, 84.33222253529438 18.792020751368756, 84.33358701603282 18.795052984130464, 84.3295291966179 18.804533006375266, 84.32932412319511 18.809001004723584, 84.34410155467883 18.81193962740923, 84.34075722562785 18.818249249596636, 84.34242941381048 18.821508780595337, 84.34427102902573 18.82269938302314, 84.34516726099993 18.826779460211448, 84.34435127239495 18.832718968973914, 84.33806395468434 18.83621937691886, 84.33598154302086 18.841423141065388, 84.33413541589132 18.851558738775726, 84.33413541589132 18.857993212809838, 84.33442530412896 18.863847995798473, 84.33602167035139 18.866710715774364, 84.33978958500866 18.86592143525957, 84.34438248702749 18.86276444736378, 84.34696875124725 18.859977464780684, 84.35146353117692 18.85089876821283, 84.35411671816956 18.851500737342608, 84.35521810596002 18.85264229392982, 84.35833947558294 18.85134018707533, 84.36241063846529 18.85105924840253, 84.36934009047323 18.858969700073885, 84.3714670435909 18.86338425222911, 84.3715651360087 18.86721905992503, 84.36624986416561 18.871709358815533, 84.36132262123544 18.872681418741685, 84.35962810454609 18.871901103979365, 84.35382684629924 18.8750626395873, 84.3518380606659 18.877791557118588, 84.35145013215768 18.883196033151606, 84.35473649201607 18.882928497531495, 84.37135114515381 18.87544165924234, 84.37407112923604 18.876502875541107, 84.37808434628201 18.874099435504743, 84.38323015132404 18.86927921243171, 84.38622222139755 18.871709365687643, 84.38762682930479 18.87767120209446, 84.38609288064241 18.883031028911386, 84.37903411702968 18.885470194991512, 84.37422720389894 18.888859105211203, 84.36767684598045 18.889331768817776, 84.36490771576072 18.893220104669076, 84.36531793577409 18.896261202491097, 84.36976816620965 18.89581080489547, 84.37407112923604 18.894031610159768, 84.37845445635624 18.89323792429784, 84.38687325094756 18.8898712787506, 84.39396763513287 18.885871473758435, 84.39782925702798 18.88612122791022, 84.40981088941325 18.89062934514489, 84.41208498108574 18.893937965839932, 84.41072055267418 18.898258836485066, 84.40770167328832 18.90112165165543, 84.40614997164317 18.906120306428594, 84.40957010563127 18.908100147725293, 84.41796657686322 18.900657908050135, 84.42032538133788 18.904871708101297, 84.42939074577504 18.9136828576045, 84.41998206108256 18.929708923976946, 84.41713717006894 18.933298470894133, 84.41559429322162 18.9380385429268, 84.42030310244509 18.94936019302616, 84.43454552236368 18.96316112508264, 84.43772926297795 18.965711669115645, 84.44064109102074 18.96692901497336, 84.43472387024201 18.97682823182341, 84.42796389794391 18.9826428697937, 84.42463738968053 18.97711808410148, 84.42214917641233 18.974959890551656, 84.41860419189805 18.97509359518769, 84.41439032262271 18.97707795122836, 84.4100115150974 18.98283019237173, 84.4083036500358 18.986669500654173, 84.40019255747183 18.987391843987105, 84.39821720108604 18.98938057753612, 84.39778019261921 18.991779635842057, 84.3944314504327 18.996118256945678, 84.39264776597112 18.996582081084934, 84.39080172751427 18.99571253243438, 84.38897792192952 18.99317087136511, 84.38633817077809 18.991779565575833, 84.37895833161294 18.982361975596493, 84.37515474081331 18.981140215399506, 84.36997767112953 18.98528264159742, 84.365835238868 18.991793012205793, 84.3662186610854 18.999730127545646, 84.36241063846529 19.00129090038751, 84.35784898213376 18.999788174056228, 84.35543215534015 19.001179367592027, 84.34625084178296 19.00859037534207, 84.34359770264358 19.013450800979523, 84.3445608675506 19.01823993972963, 84.34944802747312 19.022770358144285, 84.35328729412763 19.02889267446233, 84.35450912201267 19.03410090901199, 84.3541434347668 19.039951271606707, 84.35105770797671 19.044289941201388, 84.35505756841289 19.047397966557362, 84.35827706103225 19.057881338513916, 84.36469370075015 19.07009478679967, 84.37281818604518 19.07639103980986, 84.37520374386715 19.080029685478408, 84.37535981552968 19.082807675161945, 84.37201549277589 19.092822809493363, 84.38127708064926 19.10774299030954, 84.37957816524232 19.112380454156355, 84.3813840581598 19.11606807037769, 84.38012661915246 19.11849829630733, 84.37135114515381 19.122738955724977, 84.36905470492418 19.126792211249093, 84.37039242772491 19.13183105339617, 84.38355123299397 19.132103043851608, 84.37106127774811 19.13748963078016, 84.3664416544608 19.146229434691108, 84.36054223347602 19.15393032353718, 84.3628475884967 19.171521486271082, 84.35640868561553 19.17227958436692, 84.35355927718095 19.17708198208892, 84.35629275758794 19.1836680658266, 84.36150985500602 19.186339044995485, 84.3763408279312 19.187578738170657, 84.37867740344144 19.183944592190315, 84.38043432529409 19.188510686271215, 84.3833327148187 19.190838301418875, 84.39103801788727 19.191801447946368, 84.38807722368446 19.198931549623477, 84.38910725635154 19.20338176782399, 84.39257640784736 19.20852758255884, 84.4013831907298 19.21366893777814, 84.40365728778322 19.21679032178308, 84.40207878453326 19.229240067808004, 84.40305975261191 19.231719374801173, 84.41121549526336 19.241382257916563, 84.41815827884504 19.253350434149727, 84.41838123579375 19.25820196869369, 84.41410940328166 19.27087030237857, 84.41471139454593 19.27690342291491, 84.42119048497169 19.28991062007941, 84.41401578992675 19.29627824134635, 84.41195120870776 19.300389495500845, 84.41233024301432 19.313182667908045, 84.40898144763857 19.325110745089656, 84.41277171189502 19.334880656164977, 84.41683839161816 19.34234077123631, 84.42376784925854 19.348579045001767, 84.43364031436028 19.354389244495053, 84.4005448117062 19.35838013321395, 84.38806824310079 19.360944086866326, 84.37542670325928 19.372858870275305, 84.37535981552968 19.375989091923977, 84.38286448175701 19.383052305889446, 84.39109598787036 19.4050311968686, 84.39531874256184 19.405370135366528, 84.39560865096665 19.407559539641227, 84.3866948379773 19.41850214925361, 84.39392754721145 19.419550100337187, 84.39843125467927 19.429832735631717, 84.4000945127366 19.43694950560034, 84.38849634315461 19.440258171157243, 84.38790330467116 19.458892753252595, 84.38452777881021 19.458023165696005, 84.37999734519606 19.45854933185597, 84.37816013282163 19.468149830927462, 84.375631857234 19.470120700803317, 84.37007135456201 19.47214967562516, 84.36763665994503 19.47551178016169, 84.36966557910726 19.480358847087302, 84.37393735063273 19.486499048629092, 84.37045932108695 19.491368335383253, 84.36797114164033 19.49807039843334, 84.36975027964742 19.512941470149563, 84.36709715382106 19.51907273350817, 84.36454650481991 19.53168311267894, 84.3650593226346 19.538291515724605, 84.35742980516244 19.5308314092232, 84.35331850404401 19.534465589635964, 84.34636678952856 19.535981678245403, 84.33661025481699 19.53678877579283, 84.32554719374633 19.540850998192315, 84.31761000032492 19.548248606698532, 84.31652204121607 19.536922540526156, 84.31067608641192 19.530220471133962, 84.31040414695383 19.525703468007045, 84.31157684181679 19.516557804774624, 84.30831722903547 19.505334301548938, 84.30071451606068 19.491609106795423, 84.29775810613953 19.487702997857074, 84.24965776846422 19.48921018251813, 84.24606376701712 19.49285327227815, 84.24707593808616 19.49736141252766, 84.25276131428119 19.507193669728984, 84.24961766306157 19.50945005376569, 84.24597905026238 19.529119083370453, 84.2445967193884 19.543129635447954, 84.24419980975752 19.564069528833997, 84.23387255870914 19.567721566254427, 84.23162963727444 19.564221109647743, 84.22764765904365 19.56405171728109, 84.22052199782883 19.565902211435635, 84.21521119025338 19.56872034350545, 84.20858944902238 19.57381269459294, 84.20169123921629 19.581321816760525, 84.19780733312832 19.58302965798981, 84.19330815720298 19.583560229299284, 84.17533792484973 19.579114532795703, 84.16284799446025 19.58026057561436, 84.15989609132399 19.578579434615005, 84.15731875197437 19.573340022766786, 84.15479934183334 19.57213159766493, 84.15055873720394 19.573968712509267, 84.14850751886497 19.57662188042169, 84.14373185908417 19.579279527855142, 84.13922813895908 19.5860216923463, 84.1350098675975 19.596219637449266, 84.13182160947244 19.609093038951446, 84.12770139383247 19.62045928789836, 84.12426782623099 19.62374121358268, 84.12039291777673 19.625591770080305, 84.11228178414176 19.622800375035418, 84.10672573267591 19.619572009468534, 84.08547366950941 19.621640965518896, 84.08415823314732 19.620321133996555, 84.08447488504493 19.617948846510167, 84.08746240461252 19.610109760625193, 84.08336010826939 19.609249182227668, 84.07816966153915 19.609766375215074, 84.07180211279321 19.617351329601618, 84.06860938033937 19.616089435264882, 84.06151497103717 19.622131520475723, 84.05388545003463 19.62288954713753, 84.04057944088524 19.617881974474127, 84.03526417144066 19.619348994246103, 84.03185301027477 19.62257737107786, 84.02657343846923 19.6247311177694, 84.02157029147286 19.625190409234317, 84.01550145454065 19.61769021453301, 84.0119074681673 19.617690229624706, 84.00734129299548 19.616138483863303, 84.00499581729181 19.613498691937323, 84.00392121782008 19.61034164530968, 83.99680890122254 19.619500658162995, 83.9922026860544 19.618657883008964, 83.97734046355221 19.614158646995296, 83.96882804819488 19.61334260877636, 83.96069909455386 19.616508575818507, 83.95327917105156 19.623941925612897, 83.9483786337592 19.626389965143606, 83.943041081604 19.626831429227295, 83.93585750576923 19.627901607460693, 83.91986715830794 19.623148212163706, 83.9204334048794 19.613619053671865, 83.92327837717261 19.601539333054948, 83.92780875831616 19.58724794084984, 83.92668059825986 19.573812715918944, 83.92707750094677 19.564158705688197, 83.92875857181465 19.558852367051625, 83.93665118938539 19.542590060800496, 83.93979487984342 19.53973178147553, 83.95192807328847 19.538790932382046, 83.9585587299124 19.535290481874924, 83.96866752265822 19.526118139576877, 83.96984916805619 19.522880791701567, 83.96438679328546 19.515929087489795, 83.96228653225899 19.509940483955507, 83.95420670075247 19.49860100022265, 83.95343973711122 19.492429654934377, 83.960516258351 19.486561483876958, 83.96510468351681 19.483930535307994, 83.97126720917257 19.47800887914246, 83.9689395599069 19.472550983407668, 83.96373131740715 19.464488865007695, 83.96254075102874 19.459699856881617, 83.9621661252224 19.452609837664177, 83.95751085015505 19.44650083763953, 83.9552367074223 19.441100867978182, 83.94581464429997 19.427580951822666, 83.9367849770527 19.4122192962598, 83.93840809870653 19.403439385859247, 83.93962094822675 19.389919364295412, 83.94296078494672 19.388108983960723, 83.95314097728253 19.38783246368758, 83.95688655561773 19.386530425949474, 83.95921426140539 19.380742532514024, 83.96172471147132 19.378129509646893, 83.97766154922863 19.373251221414257, 83.98191107206267 19.372698319747517, 83.98935777899686 19.37548080057628, 83.9919797476559 19.377491821444277, 84.00991866984077 19.36633960387525, 84.01219278724102 19.362469135479017, 84.01526512713912 19.352975717251276, 84.01906432750364 19.346229099892103, 84.02262263477918 19.33755169968917, 84.02169074230231 19.331701289645437, 84.01996503746274 19.328370401735715, 84.01950129129725 19.323050661411894, 84.02102628317235 19.31974201383926, 84.0197287274436 19.316500259332226, 84.01158188325184 19.30732342022058, 84.00924092877797 19.30310062460186, 84.00755981747692 19.296920338660044, 84.00875039090711 19.288278588745946, 84.01111815372313 19.28101914695151, 84.01425291898764 19.276635840582404, 84.0120010684607 19.26870313693179, 84.00850516083278 19.263980970972767, 84.00788090502184 19.257617854379685, 84.00356887804813 19.243442356173983, 83.99801736047833 19.24005344529852, 83.99183704082274 19.23838121511966, 83.98964756282331 19.236740335245898, 83.98697657546178 19.231679218625754, 83.98550957724039 19.222801121367517, 83.98282072864913 19.21669217708333, 83.98298573767737 19.21468110123844, 83.98078294337556 19.209080500970174, 83.97651105839287 19.204951386205774, 83.97550337203712 19.2008578958228, 83.97683658895127 19.19709886961797, 83.98046187416526 19.192630859133413, 83.98571913905057 19.186361356811524, 83.99046363185445 19.18252212610759, 83.9908515634978 19.179860010292217, 83.9887468875751 19.17888794520973, 83.9852687740099 19.17857132664861, 83.98362784778307 19.17639085663145, 83.98355648461079 19.16594316355711, 83.98208496380313 19.15925001540587, 83.97627918139796 19.155401839925123, 83.97708186604342 19.153270416009065, 83.97957446459937 19.150719803317823, 83.9886621307465 19.14280937470622, 83.99175228829708 19.14142253634665, 83.99716119948333 19.13682079892089, 84.0001086412086 19.137382612441186, 84.00335041990726 19.135741629997785, 84.00493787527327 19.132981468414126, 84.00781844680405 19.133962453749415, 84.01683024447624 19.133271320171172, 84.02307304569683 19.128192387659258, 84.02478978811668 19.122698842327328, 84.0227519578375 19.120067958661647, 84.01773098759216 19.11695106142714, 84.01294642335992 19.115631091411533, 84.00743941929773 19.11944809286359, 84.00862103801573 19.103239258173975, 84.00602585259097 19.08512198519125, 84.01133666461307 19.075169279648808, 84.00981167133659 19.068859621627603, 84.01097992984258 19.064899966217226, 84.013771377924 19.06152883776231, 84.02103967569678 19.060592465899152, 84.02292589408049 19.04924852026123, 84.02263602695326 19.04547158562019, 84.01737872794993 19.045627729704897, 84.01518040729417 19.0434472043605, 84.01139016254912 19.04235914253829, 84.00150434866192 19.04425430963344, 83.99804851392662 19.05037214698741, 83.99430732309801 19.05538865448327, 83.9916764952267 19.057381863645645, 83.98275832541721 19.06073071109674, 83.97540971553613 19.06248309964622, 83.96935419433139 19.06048100371125, 83.96402114246627 19.057163377315653, 83.95776944997252 19.05060850613541, 83.95591004276966 19.04602008131097, 83.95616864937838 19.042800658185282, 83.96022197490822 19.039500886057485, 83.95773383400831 19.036071821000863, 83.95871928207511 19.034288201523403, 83.97334067758636 19.02192756887772, 83.97831703670418 19.016491907344523, 83.98036378504428 19.011939165040474, 83.97643976761582 19.002989771058335, 83.97210548672248 18.999003356174136, 83.96668320474205 18.99590872202206, 83.96221078325995 18.99216303849415, 83.96228653225899 18.987922445327257, 83.95968686641486 18.980119074670334, 83.955673726094 18.978290847910134, 83.95108976056054 18.977550621347717, 83.94445909995707 18.980591717858196, 83.9412975540724 18.984341796330757, 83.93802015627442 18.992189797402037, 83.93132699399267 18.999230744476215, 83.9257442467705 19.003667521535473, 83.9202862475408 19.005540334935127, 83.91513600259344 19.00530850160732, 83.90585219934718 19.00900956224876, 83.90194602484978 19.004260627123088, 83.89438783526407 18.992252268977772, 83.89028098580094 18.975098089108712, 83.88591107745395 18.97335903517826, 83.87985113182185 18.973260940487723, 83.8732695227633 18.974500557216263, 83.86766886592811 18.97472801784171, 83.85527708781117 18.970910960011388, 83.85224037942713 18.975378994921137, 83.84509243589694 18.992310249596926, 83.8431037054561 18.99493220907518, 83.83928667446743 18.997870690635498, 83.83515760934394 18.999694510458543, 83.8284600148195 18.998160549345506, 83.8243175169001 19.000314324307027, 83.82063433437673 19.00422048320967, 83.81646055045364 19.010427571250375, 83.81447623861008 19.01572946133983, 83.81040954776579 19.020861831016774, 83.80661931422274 19.0230824423063, 83.80023836933215 19.022939752532146, 83.79403572577819 19.01945277849702, 83.78830581872009 19.007810088544304))\",\n          \"POLYGON ((72.51626469340422 22.618370927206406, 72.51718325843063 22.61388957178118, 72.52221752629339 22.611552927019815, 72.53494380734179 22.5931012531722, 72.53572863011073 22.58833890230065, 72.54165033311442 22.58689862036208, 72.54312182487055 22.584379202163152, 72.54261791005204 22.56800986414324, 72.56366046717575 22.56532104298652, 72.56328583254796 22.558561032321386, 72.56658117276544 22.54148263245221, 72.57441137528242 22.54058634500705, 72.575918510078 22.53951172628442, 72.57701095171723 22.518188277595563, 72.58113123370676 22.520788017820188, 72.58109107445011 22.51463891127899, 72.58241100219101 22.506229020582143, 72.58692799918244 22.501292754667844, 72.59509265021096 22.498710967579598, 72.6078858385902 22.500499056939166, 72.61202827660995 22.50443201803951, 72.62034453338944 22.508971343600553, 72.62755043250274 22.509412771607902, 72.6356659732635 22.50596147867382, 72.64147179452979 22.50231841911516, 72.64842799556415 22.50168069842048, 72.65632499326631 22.50795917628648, 72.65836285343242 22.5063627622108, 72.66121662413094 22.50045895172517, 72.66459668421133 22.499170211092444, 72.67256949967856 22.50098954159384, 72.68026150950449 22.504271477186577, 72.67875877767553 22.507829835693045, 72.67803194590128 22.523601630366993, 72.675459014998 22.526299421013178, 72.66819962025733 22.526838968450665, 72.66139949459554 22.52597833314487, 72.65386804548429 22.526058586269784, 72.65135757301438 22.532881043672237, 72.65432735478974 22.540082525427923, 72.65947758887647 22.54681126236934, 72.66464125097107 22.55030279198585, 72.67070559595854 22.55209085313832, 72.67050053954985 22.555916759643686, 72.68047548884297 22.56396100682465, 72.68105518068795 22.5711892036145, 72.68261590371823 22.57723127831505, 72.6864016160674 22.582600050528622, 72.6943344143735 22.586100465543307, 72.701852481264 22.584740430459416, 72.70562040549731 22.579179877445842, 72.71154648224541 22.580798509149204, 72.71655411951564 22.586211893128105, 72.71676815819683 22.592231704871985, 72.71481501463275 22.596601623513667, 72.703230325664 22.60139957433247, 72.70004201381069 22.60394132164, 72.69704994673756 22.6109019609178, 72.69542689106498 22.618549322282224, 72.69798193839743 22.62500160679127, 72.70395717500028 22.628131909728488, 72.71605018532945 22.630682511235705, 72.73381084027776 22.626348289541358, 72.73771699580273 22.63038819626205, 72.74405780684103 22.639529393538005, 72.75061715570075 22.643738743119652, 72.75837603109485 22.636421348904182, 72.76757067961243 22.633580953024296, 72.78367694913652 22.63424978239523, 72.79325955857354 22.64055050945571, 72.8038855563442 22.638789191014503, 72.80982064777601 22.63177948264772, 72.81291973179572 22.624591378468494, 72.81681255565712 22.620640654198503, 72.8245446439632 22.620480106572273, 72.83859079499979 22.62229048401439, 72.84453477982478 22.611811627897755, 72.84033876513165 22.60836918165344, 72.83183075922675 22.605171986854366, 72.8323346377623 22.600989399603183, 72.83583949036466 22.59704753885739, 72.8368294695697 22.5930298533756, 72.84902956665353 22.596730918580484, 72.85626221344576 22.596757678934654, 72.86457844044611 22.60416868297466, 72.86670536335343 22.607771661385193, 72.86566196104201 22.616199334610382, 72.87523567319616 22.61827288225559, 72.88234792547433 22.617710957990987, 72.88414046768395 22.607138496505463, 72.88330661768752 22.600378499791162, 72.87238184378374 22.597760989336134, 72.87078995841186 22.593448988197974, 72.87047779982443 22.589230689177256, 72.87272077159173 22.584499648635774, 72.87548986609444 22.582479598818825, 72.88163890902592 22.58078068562175, 72.89903390686683 22.587696767401443, 72.90508933598528 22.591460301927288, 72.91117155986338 22.58936003392989, 72.92131600685063 22.589850496539903, 72.92874934084365 22.59421153760774, 72.93364547092938 22.604297995019632, 72.93630301902712 22.615129188141413, 72.93489846033856 22.622058639619343, 72.94082015192467 22.625059575193333, 72.97072734049762 22.633358012056608, 72.97734912272773 22.634499501737295, 72.9797971492688 22.636358978793155, 72.9832306506285 22.640510408751258, 72.98710557811808 22.650561165074585, 72.99186788186401 22.651912312227058, 72.995087414135 22.656647847183635, 73.00071921465378 22.670261511171862, 73.00602106139054 22.694296085152878, 73.00781366208048 22.69677974465428, 73.01278553921588 22.699990320883593, 73.0148947421266 22.703307897314893, 73.01447998386935 22.707249694819293, 73.01161278067136 22.715271636211913, 73.01304417952043 22.71902177958775, 73.01558137982549 22.721880064212776, 73.02416075780498 22.722709439044998, 73.02865548845308 22.72546961069877, 73.03209791289528 22.73095875176154, 73.03659717460975 22.732969859029502, 73.06062281048844 22.736421218645525, 73.06310202901552 22.727971191823656, 73.06404296503 22.716850196783362, 73.07332674587228 22.718259286205907, 73.08284692159755 22.720720654238114, 73.10027315463344 22.726379254906433, 73.10516920715862 22.726129574452436, 73.10704199684275 22.72379303650076, 73.10621713199343 22.719788728352892, 73.10936520013048 22.71731839337345, 73.11834585802674 22.71948106599515, 73.12317507158286 22.718348434197235, 73.13760915669725 22.72177304697873, 73.1409891784106 22.720132090640373, 73.14692867509972 22.71409891704953, 73.1562437599659 22.694621536354116, 73.16088121750654 22.687081213450927, 73.16816735294626 22.681288869267487, 73.17301891467324 22.681262131434078, 73.19776240860563 22.685302018823027, 73.21067157228181 22.681908661403693, 73.20940963652377 22.668361916810685, 73.21244178073853 22.655140698859434, 73.22202444393075 22.644260445712668, 73.22712559150116 22.63952938600114, 73.23670375522076 22.63434791003597, 73.24801651577172 22.644510172402953, 73.26905899370894 22.65770024002307, 73.27198864338374 22.6606521249415, 73.27410669196911 22.664228371528353, 73.275270539235 22.669458827406753, 73.27507878471073 22.675291368998284, 73.27004892574344 22.690559290634365, 73.2628875886827 22.703276702337487, 73.2597216859779 22.715927147959945, 73.2597216859779 22.72686083784953, 73.26278059251415 22.73771880398274, 73.2653891606807 22.7628903683515, 73.26686071865166 22.76765273726122, 73.26991070806125 22.771469689180172, 73.27572090527282 22.775621140338515, 73.28722980808821 22.77950053194301, 73.29957711392123 22.780463702751966, 73.30632816428667 22.779491603264006, 73.32636290026244 22.7811014066751, 73.35115999134082 22.787790023104208, 73.35688996027487 22.790019549328516, 73.36337344649868 22.79253001719904, 73.36839441732793 22.79603937704444, 73.36897851971231 22.800110507308965, 73.3685593764907 22.8079094803263, 73.3784184716247 22.820350379832135, 73.3797517512682 22.824171789730514, 73.37918989326333 22.832621812995054, 73.38748378369007 22.84336827509684, 73.39269206933591 22.852179484805134, 73.39308895190054 22.85502885204298, 73.39124285270861 22.86446868578199, 73.38674359993239 22.87282951639097, 73.37406196087763 22.886759799425406, 73.37502956228536 22.895419361206823, 73.37750431048117 22.90017724320238, 73.38519181399832 22.90734299743208, 73.39202762891786 22.91437941304464, 73.42494023632283 22.937058428049195, 73.43269905903074 22.943568755538436, 73.45390215800451 22.96288106347014, 73.45697002016024 22.969190685855175, 73.45643048169693 22.973382301094116, 73.4528408662832 22.98190808985075, 73.44563492983592 22.990179661185103, 73.44187150816542 23.00159054863121, 73.44077455032695 23.014780523536203, 73.44090384778329 23.02858150387713, 73.41998172973906 23.029999450715327, 73.42167624226023 23.034320326606622, 73.42405738559022 23.04659177938875, 73.43136583766993 23.054279321883794, 73.42373627449147 23.06349177496539, 73.42150673764908 23.073007500553526, 73.42204186817811 23.08113199293626, 73.427330335434 23.09114264719868, 73.42944399530903 23.099998469202312, 73.42611748486273 23.105728387731894, 73.41829619626543 23.107092888206317, 73.408949896066 23.103909044115095, 73.40161028407014 23.102263698033337, 73.39404315783737 23.10381097036429, 73.38038493030538 23.109117326446142, 73.38075953038397 23.11700988097311, 73.38849602358802 23.133700351148278, 73.39637082703666 23.14103106175596, 73.4059845844692 23.14594057943436, 73.41713679981041 23.149530118248745, 73.42723672822355 23.154149778070536, 73.4350980632491 23.15665131836699, 73.43849151126354 23.154270148473817, 73.44006997673934 23.147630547414444, 73.44178671891663 23.14491047537816, 73.44657136918052 23.143728849069394, 73.44975963784282 23.14573096046437, 73.45244400440676 23.14866058476175, 73.46504099628129 23.153498732835928, 73.48636438961596 23.153779644496385, 73.49312442542494 23.15282986624779, 73.50303692569904 23.153409586039356, 73.50750945717085 23.151130920540687, 73.51014032956267 23.147367455481564, 73.51580779781558 23.147791117247028, 73.52255448631234 23.151501102417253, 73.52762447178368 23.158461714646776, 73.52787864641923 23.16618045829065, 73.52530569821438 23.165511511734486, 73.52616188310456 23.17005093699056, 73.53392958358396 23.177158682474854, 73.53613241389024 23.18176052829134, 73.54107759817987 23.18743693903035, 73.54884977818028 23.19293057914352, 73.55557850806093 23.193920456353833, 73.57217976830594 23.193822397497094, 73.57787404040046 23.198290403454145, 73.58045137282406 23.20876036359944, 73.57859639398316 23.212697737359203, 73.57179184764 23.208470553928464, 73.56207104054424 23.205019238994645, 73.55789730569612 23.21264872250151, 73.55204692696765 23.219649536621716, 73.54860003257147 23.225910061827445, 73.55647482889648 23.238029896174382, 73.56791691458088 23.23830189244192, 73.57662997612192 23.244540188189156, 73.58101772932237 23.250390512012586, 73.5807591266213 23.25760089336881, 73.57628663283381 23.274750592135803, 73.57349969954127 23.276320238203667, 73.55747368199226 23.272498783919527, 73.55293876961167 23.26531065941143, 73.5401367243917 23.2507517120209, 73.53337226653589 23.252281190495754, 73.52980049510425 23.259741291068277, 73.52851183472701 23.26926147978319, 73.53263205087005 23.271540095057052, 73.53540110555942 23.274469728957424, 73.53058529960146 23.28659842096256, 73.52179643615959 23.283829330151924, 73.50051760745565 23.27916062958299, 73.48050069269866 23.271999313857243, 73.48084850784517 23.287387684993266, 73.47387888099482 23.289050918257097, 73.45765673620122 23.283717878851604, 73.42819096242138 23.269270400431253, 73.39937620092596 23.25269142563674, 73.38858964766881 23.245311617265845, 73.38025559644034 23.238020987366117, 73.38421526419356 23.231889686395043, 73.39082366269375 23.22512077772837, 73.3883577908321 23.22126817431684, 73.36150955398065 23.211360036216856, 73.34876985860572 23.2016124374247, 73.35134277411187 23.196752055355535, 73.34967955318191 23.18972897614965, 73.35486545026863 23.183379140330576, 73.36566987462801 23.17894236606508, 73.37622012521423 23.175999352764663, 73.38141501150844 23.17350224685788, 73.37637176705053 23.169092213794475, 73.37502956228536 23.16431203290065, 73.37539077026173 23.152950289364213, 73.37658573834011 23.145967297055673, 73.378922319905 23.139220680774482, 73.37309876236462 23.134859715740053, 73.3659820776012 23.137370188389617, 73.35378190195073 23.13592990870582, 73.34610785797233 23.129669320447345, 73.34567085965647 23.118900555863018, 73.34633526226442 23.109911041934513, 73.34834186096882 23.099628303333727, 73.34227748126146 23.101398598927027, 73.33743483382247 23.10089022451212, 73.33682842707807 23.095530387490335, 73.33299806734536 23.090241887769352, 73.33445621896682 23.083089551827765, 73.32977856649744 23.082652555119882, 73.31987048647353 23.0853904356009, 73.3101719461343 23.085319066957876, 73.30169516751023 23.08218876986869, 73.29609007722861 23.07637857461545, 73.29068117419907 23.065618796031625, 73.28793442815467 23.062689180429935, 73.27934170689639 23.05943844906725, 73.27865055669932 23.060820755884354, 73.27213135899343 23.062109459775986, 73.26133582416448 23.066309896695593, 73.25173091262221 23.071758967578667, 73.24823052230221 23.078688368247885, 73.24577357462799 23.08687974503646, 73.2390983443812 23.094058884855595, 73.2343671902747 23.101857895754886, 73.23059922299412 23.106138652930508, 73.2235583015938 23.106620198845047, 73.21872916151986 23.110321232599908, 73.21489873525792 23.11783034583824, 73.21153215077815 23.12723908341453, 73.21095249153304 23.13595213697854, 73.21169263692369 23.145111128128555, 73.20896372685739 23.148049714692945, 73.2033095802249 23.14771972348711, 73.19821284124454 23.149770925135382, 73.1892456054722 23.143920555075663, 73.17946673656755 23.142391133338403, 73.1757568128331 23.14540104999911, 73.1644886634995 23.159442705821114, 73.1579515545816 23.171981691914684, 73.1628253922549 23.17466160266413, 73.16378851556992 23.182848498081146, 73.16307954268981 23.18982260893512, 73.14311170553785 23.205630062270203, 73.13519232938262 23.203070573253772, 73.13257486621491 23.20117097411356, 73.13011791704949 23.19179349609456, 73.12494083226503 23.186041262793484, 73.10341680175675 23.173881265973936, 73.10260074899409 23.169961762462997, 73.0852191815416 23.169569359652954, 73.0790879639791 23.166068982951412, 73.07472246006297 23.16136012347618, 73.07025888293502 23.161386902533277, 73.05783138366115 23.165712185721056, 73.0534882666692 23.166300858787494, 73.0499432054927 23.16498982726049, 73.04638043562936 23.162568548218708, 73.04339724713618 23.162760260450302, 73.02854847206346 23.171509044271176, 73.02542263497492 23.161279879882393, 73.02140051285767 23.160860677165353, 73.02039274192555 23.157052668918286, 73.02311732581322 23.148259279988597, 73.02590871889979 23.145320768379634, 73.03299861893774 23.14344788795668, 73.03717241230213 23.13674142917143, 73.0322896926802 23.13097140502361, 73.02683169905598 23.129009309918402, 73.01299958638616 23.134168540776425, 73.00650718564079 23.135359098036933, 72.99352220531345 23.131421740482775, 72.98748912111397 23.128706182364013, 72.98352941730236 23.123292754143083, 72.9824279610962 23.11680031337777, 72.98353383212672 23.110428278130886, 72.97685410830925 23.105951378574044, 72.97334482818036 23.0908706630584, 72.96914881471793 23.08897997619395, 72.96673644943412 23.08494899246592, 72.96909970806139 23.07426047021774, 72.96275441155521 23.073707540918825, 72.9405837809189 23.075861328501677, 72.93480482880175 23.07713213464705, 72.92881620934033 23.069351037618784, 72.9218599831262 23.066840579575825, 72.92006745224434 23.065270941170592, 72.9204554295221 23.060758366531413, 72.92236394413608 23.05430155422588, 72.91490382475283 23.03489113262224, 72.9040681813951 23.02088954577619, 72.89848987875848 23.01742923299309, 72.89003096652047 23.01559213767813, 72.88639683274823 23.011949038234267, 72.87966805588569 23.007351662308874, 72.87348768414577 23.007882299671472, 72.86564411273903 23.01070046805119, 72.86042703335013 23.011770662256634, 72.85663677161794 23.012060485734715, 72.8537829032456 23.01115977143675, 72.85537039307997 23.006468825607957, 72.85809488365065 23.002268358082745, 72.8580726176397 23.000881555422225, 72.85772925217219 22.99941003471338, 72.84789242291438 22.992810604795363, 72.84639864031786 22.991941062747422, 72.84269758988128 22.988039319540505, 72.83999537460113 22.981591485644707, 72.84957803331075 22.979892586982377, 72.85035836113458 22.965008076703068, 72.84648338139898 22.960914584397695, 72.83622742277159 22.95348132833352, 72.83431894804279 22.955661800048496, 72.82771503599864 22.951898333857493, 72.82195835255143 22.944959937791396, 72.81802981678574 22.941731586049585, 72.81578246364734 22.933272620011476, 72.80825107463338 22.93035194325772, 72.80848739485738 22.922637717627683, 72.80702033038523 22.91832125103611, 72.8021331779367 22.91574841215624, 72.7992838119026 22.911409720741485, 72.79886462292978 22.90748120958065, 72.78880495529188 22.90611226937158, 72.78073836752185 22.908640566976917, 72.77429948001983 22.90753919541003, 72.77097293229345 22.904078919332093, 72.76716487345327 22.903579514307836, 72.76317395988697 22.908221377536975, 72.75982074922871 22.90876096524594, 72.75401504159032 22.906723137598835, 72.74675115515645 22.910861239450696, 72.74040139378974 22.91284103019021, 72.73367257695216 22.911632611735893, 72.72400080825894 22.902598482125406, 72.71972003331464 22.89672143962065, 72.71629543283109 22.88954228640763, 72.71196563825005 22.88406202880267, 72.70051025961948 22.879072274070218, 72.68538496581871 22.880280667416624, 72.6802882118275 22.88413785293679, 72.67848228054298 22.888338286281105, 72.67476789789487 22.89363121978988, 72.66694662311365 22.89381853539698, 72.65814876520915 22.89648062959889, 72.6482941964972 22.89162467281048, 72.64482947090197 22.886420882172633, 72.64066464638925 22.882082182744902, 72.63169742525047 22.883107788720874, 72.6231225744656 22.8862336178234, 72.61646959043986 22.884490099598363, 72.61560001214491 22.87702558529742, 72.60885786067034 22.86639063709955, 72.61714733070316 22.859398702161172, 72.6165766069283 22.852460336359314, 72.61183210628214 22.838066344798793, 72.61759326134519 22.825491685706975, 72.61856091552895 22.815909130267688, 72.61776713979057 22.813889157517206, 72.61123457091321 22.815400816992117, 72.60600855867713 22.824541938549075, 72.59713939006197 22.82319087085259, 72.5905221017888 22.820230013318557, 72.57991833115001 22.823890876426137, 72.56957323291255 22.81810741667069, 72.55991924106134 22.81128053766159, 72.5586706796009 22.805737922216597, 72.55329748291506 22.8051983785161, 72.54722423117646 22.803450419379622, 72.5394340990817 22.799129471506323, 72.53206769837185 22.796650271259956, 72.53077901728844 22.787299557269243, 72.52813926380138 22.782987596743915, 72.5289062347549 22.779397979255076, 72.5339182538993 22.774270023369436, 72.53914427414836 22.771572248057495, 72.54296125458882 22.76709977111341, 72.53846651036716 22.764740897926615, 72.53669180616585 22.75946131225108, 72.53264736359975 22.755822738645385, 72.5329371957286 22.75210831606715, 72.53964368266706 22.750610049413112, 72.54106175214325 22.745829921888202, 72.53970171977228 22.738271730559763, 72.53682557281257 22.734383387800417, 72.53650009189506 22.72814065714249, 72.5427695449264 22.71911094681201, 72.54731782796644 22.714700876432584, 72.5482319518119 22.709760239828153, 72.53958131305909 22.710197202148528, 72.53250917195972 22.709679930675314, 72.52755065246716 22.703276647144996, 72.5279029528929 22.70008846849388, 72.5329371957286 22.696360571545714, 72.5476522308705 22.692280523570616, 72.55139787515101 22.687861532534143, 72.54756756965858 22.684579651109818, 72.53968827104924 22.681360220626924, 72.54045972116447 22.675897824889514, 72.55831842065037 22.67077874781739, 72.55832735573436 22.663662020087553, 72.55272670851116 22.653802995588077, 72.54519532980088 22.647912518832147, 72.54238161221406 22.64316799650963, 72.54297470315015 22.636020068277745, 72.5450659900788 22.629500867966744, 72.545641203867 22.62475191403035, 72.5371154003241 22.62693244397412, 72.53085926104393 22.629821910533014, 72.52413946086635 22.63136027646318, 72.51862347454065 22.629090639886517, 72.51626469340422 22.62352117204596, 72.51626469340422 22.618370927206406))\",\n          \"POLYGON ((86.30372035922497 25.8673477957105, 86.31038673767956 25.86268799605364, 86.31047149478663 25.858670366896224, 86.31372660196882 25.85756895422243, 86.32050441618289 25.855647059876027, 86.32322895337613 25.85587450325382, 86.32380863470183 25.857997021891986, 86.32594452230163 25.859758337772995, 86.33331094674497 25.860538710350887, 86.3376675449071 25.862380300808578, 86.33988368605401 25.86168028110453, 86.33831854211778 25.859151944539256, 86.34591683366558 25.85580311875553, 86.35427768460343 25.85678859034921, 86.3581481525505 25.855241329741276, 86.35925853041982 25.851718587396647, 86.3609707950883 25.85092043439247, 86.36415011891991 25.850969459652656, 86.36685235156449 25.848142406153244, 86.36199195544567 25.843219553909716, 86.36151926732408 25.841150517406238, 86.3618983151413 25.840062527943324, 86.3633519239195 25.839652262241653, 86.36419024870283 25.840169518659103, 86.36472538675075 25.83556778236522, 86.36831494049514 25.83154119307878, 86.3713694084915 25.831349490962214, 86.37297913779159 25.834051660715748, 86.3771528915313 25.830350652428123, 86.3772509869315 25.827768778293127, 86.37504367825402 25.82238221101073, 86.3777147150678 25.82041129581487, 86.37596676466295 25.818641002691933, 86.37209179073946 25.817218591882547, 86.371565621642 25.815671230277022, 86.37243511968148 25.814520828706844, 86.37592216067702 25.812732679196085, 86.38685583379507 25.81320978587903, 86.39440955764888 25.812371542024923, 86.39644740951456 25.81036045027087, 86.39628683856807 25.808523306159422, 86.3934642451232 25.80404639399922, 86.39478858952101 25.803230371563682, 86.40146835395132 25.802820100022963, 86.40273469530803 25.795270896958776, 86.40733204172376 25.796760198120854, 86.40750153890585 25.79622959986192, 86.40735436841591 25.795431398483466, 86.40718046718925 25.794289875843592, 86.40492417745767 25.791601052953126, 86.40434442479676 25.788261178593743, 86.40526751396351 25.78687887132748, 86.40788054920942 25.786869944867316, 86.40793400905692 25.78451104649176, 86.40631983653672 25.78406962386532, 86.40175817045846 25.78460915022833, 86.40040704411996 25.783650441854448, 86.40009496717141 25.781679564459694, 86.39668370596016 25.77726949519418, 86.39659005295361 25.77565971235451, 86.39721880744666 25.774339824238304, 86.39881071030875 25.77342123998795, 86.40458524238232 25.774999805697764, 86.40496875571584 25.77256959265895, 86.40429544218858 25.77098212101548, 86.40170470403531 25.769086976414144, 86.4027703903689 25.76772251304014, 86.40429544218858 25.76794098841069, 86.4059274489621 25.76563121519696, 86.40769328479732 25.765109501626533, 86.40634216367802 25.75450131240841, 86.39842274562537 25.73511315204566, 86.40202125224937 25.730899320912787, 86.40994064342442 25.728558228493636, 86.41210331530053 25.727880428088135, 86.41413666402846 25.729302878432378, 86.4170528688879 25.72866078363397, 86.41868044437992 25.72590066105516, 86.418091891005 25.723657695234703, 86.4144354449496 25.71953751850975, 86.41700830137357 25.717918838351263, 86.41989336776861 25.718997967514934, 86.42105273877435 25.718021398594026, 86.41890790837404 25.709232521093526, 86.42106610022606 25.70686920465069, 86.42466012572105 25.711738512569163, 86.42629216503154 25.71098938847233, 86.42798662478567 25.707890327036267, 86.43258837466209 25.70396187442762, 86.43274890665764 25.70200874381724, 86.43084936088633 25.700122549957534, 86.43229858183453 25.698392437507078, 86.44444072284118 25.69218979985504, 86.44386104110224 25.697933165284077, 86.44696008725796 25.69736239243426, 86.44947060234395 25.695159625010042, 86.4528416099485 25.69457095478228, 86.45497310136398 25.697081481833816, 86.45613690857398 25.701852650083108, 86.4580320217792 25.69840131763214, 86.45726950879612 25.693050437173063, 86.45553050349147 25.689451911181386, 86.44888194754026 25.68366843873274, 86.45526739378991 25.682549230900293, 86.45391184363491 25.67801878767417, 86.4548259159081 25.676458127463075, 86.45940991807487 25.67772008208575, 86.46172417974786 25.67751938572215, 86.46276759981897 25.67648932425508, 86.46192034839582 25.67264115652679, 86.4657284296849 25.66659905157997, 86.46431937774007 25.664766374511952, 86.46985758723605 25.665493168961184, 86.47112397489194 25.664512192824645, 86.47059776396893 25.66365157949164, 86.47154308788525 25.6619303634527, 86.47348730338119 25.66003075375728, 86.46848862101177 25.65603096472818, 86.46969701998164 25.654238384663557, 86.47689850533058 25.658108901577798, 86.4782852930611 25.656789040321218, 86.4709188150153 25.649351197980227, 86.47296111736846 25.643068341024847, 86.47361661159036 25.63778879498298, 86.47750048517726 25.63989793620638, 86.47827186973345 25.639260302073364, 86.47889620495546 25.634319611174757, 86.48047471298446 25.631911681924542, 86.48027846292219 25.63040897234684, 86.48773411152501 25.624977828557988, 86.48863931208138 25.620549888244145, 86.49967108731902 25.621249944213183, 86.50137447285958 25.620661412963774, 86.50263196430157 25.618998164266888, 86.50367090526488 25.613821133911348, 86.50518255110337 25.611288317025547, 86.51103293215847 25.611939360571323, 86.51872933678531 25.60822944484087, 86.52265779231348 25.608220501824754, 86.53273981391638 25.60633877786512, 86.53523245185445 25.608898236033404, 86.53646758943029 25.611261613768292, 86.53881757174817 25.611934942513024, 86.54147517242431 25.610088810757162, 86.54366905747767 25.607092304766855, 86.55208782244257 25.612389749848553, 86.55435757310528 25.61168970597084, 86.55831725603105 25.60800198582341, 86.56173735798522 25.60159873784841, 86.56371270869364 25.600961078311034, 86.56965669258439 25.603966534324314, 86.57161871460266 25.60396652122688, 86.57782136562163 25.602673395539956, 86.58539734295489 25.59960101532547, 86.59012396592317 25.595962376160724, 86.59172927083182 25.597202089422225, 86.59115407334805 25.59899011119255, 86.58500497693984 25.609460139555907, 86.5880816989816 25.6127776790395, 86.58586999477556 25.614458778635502, 86.59099797685609 25.620991338385984, 86.6002282982731 25.62150856687481, 86.60479891341312 25.62269023466778, 86.6084954966266 25.625891871896446, 86.61226789473055 25.626962115518214, 86.61963435831349 25.627666618138925, 86.62935517995297 25.630431229967517, 86.63421556481589 25.630917290338566, 86.640922090867 25.636112188418668, 86.64498879426974 25.64125793198898, 86.65524471497925 25.640169905614293, 86.65751442249588 25.637860096018798, 86.65738505497993 25.632460159424436, 86.66040830730171 25.631412251549825, 86.6602611920851 25.628429179936457, 86.66237033958772 25.623769370353216, 86.66691414192096 25.62127229206963, 86.66927307068651 25.620902145514822, 86.67077574807759 25.62618174162878, 86.67391943365777 25.629263019925652, 86.67712999651117 25.62729203275677, 86.67920791793671 25.630600693902945, 86.6782759221895 25.632232729323746, 86.68091573699557 25.637610423380142, 86.68026029123779 25.639679480598772, 86.68193242509928 25.641851072080886, 86.68457665296901 25.643269002426013, 86.6966340576107 25.647277762552566, 86.69885469805055 25.646698036050584, 86.7021410430598 25.644098422695027, 86.70495474007518 25.63673200589635, 86.70675626922853 25.63781108218518, 86.70939601190886 25.641347152393504, 86.70852647976037 25.64261797384617, 86.70305069910725 25.64471819465507, 86.70321573325238 25.651041213436276, 86.70687659918966 25.654011020256664, 86.71378375035897 25.6573508545961, 86.71571900632776 25.66130160205161, 86.7151170781971 25.664302613093064, 86.72487799666929 25.66251001957168, 86.72725471222121 25.661399769514667, 86.72982764944864 25.65726168740777, 86.73732785583702 25.651571897080075, 86.73607479312531 25.647572016970788, 86.73684621940824 25.644178660072473, 86.742232817961 25.640919116308716, 86.74658937898677 25.6394118956342, 86.74989354445123 25.63887232878412, 86.75305954866566 25.63925135388295, 86.75625672319875 25.641868904375894, 86.75628794517951 25.639059671080165, 86.76140700528245 25.631670863782013, 86.7590481344133 25.629851603870232, 86.75894112647683 25.624451620590428, 86.77319236522841 25.623269961349422, 86.78230233489117 25.625972209364182, 86.7903376194997 25.62982040248784, 86.79588472702417 25.631510337823148, 86.80127577370183 25.63831051097886, 86.80341173141512 25.640651529152255, 86.80568584473703 25.645164172314924, 86.80016545252519 25.6492308081374, 86.79778431187219 25.6525216918936, 86.79876530963118 25.657101194704538, 86.80024132949822 25.657511433313022, 86.80367483016622 25.656682022673948, 86.80915949828362 25.657502481942576, 86.81590164321845 25.665898965966527, 86.81815349070908 25.666982485709028, 86.82263044304194 25.66500272597936, 86.82656786208578 25.665029447688006, 86.82816866160194 25.66714302239378, 86.82895793485834 25.669938934167916, 86.82955991561232 25.676150450498728, 86.83580708402859 25.678228352439813, 86.84377105055128 25.67920940267838, 86.8524796497381 25.674790433767416, 86.8571171100186 25.676141541843172, 86.85469136978142 25.684988405056274, 86.85181968950583 25.689607968084594, 86.85183752845735 25.69581065473973, 86.86372997722411 25.707101013167026, 86.86505874937305 25.71163147819526, 86.86982113367091 25.71659000268245, 86.8683451607049 25.72165999093858, 86.86329742953048 25.729628400887986, 86.8580624620522 25.73131841613742, 86.84320921845382 25.733200192414937, 86.83962856336674 25.735813165704045, 86.83793853842448 25.738461922322486, 86.8392584446687 25.74276051422755, 86.84144787057483 25.74540028205173, 86.8479447302159 25.74133358058037, 86.85170821505592 25.741761688548348, 86.85283642265107 25.742898716395835, 86.85357660321974 25.74627867273878, 86.85050870009185 25.748200550403467, 86.84436855953669 25.749498157982973, 86.85183752845735 25.76249197616964, 86.85254656400394 25.767941039542794, 86.84522020580567 25.771668845653323, 86.84649106211297 25.776199242715023, 86.84848874387038 25.7809660957182, 86.85246181102913 25.78490794807373, 86.85415630646435 25.7901919317931, 86.85357660321974 25.794811549852213, 86.850316983198 25.797781323264257, 86.84680323881045 25.81423986497105, 86.86374781179185 25.818489441030273, 86.86132202065613 25.822020990996936, 86.86036777601089 25.825021984081072, 86.85665786238249 25.825797849649486, 86.84707521451556 25.837061562787813, 86.84667835305234 25.842091440071744, 86.8444309671434 25.84498981263616, 86.84588017926114 25.8514288046392, 86.84105096309092 25.849333025684967, 86.83825513539011 25.861069385532556, 86.83927176990932 25.864471632464348, 86.83361763349964 25.867619756916792, 86.83331892863886 25.869180497113877, 86.83553956385052 25.87095072626778, 86.83436676188144 25.872230491446228, 86.8242178896853 25.86971998202862, 86.8184299939322 25.8692518400022, 86.81476460871446 25.869969739315522, 86.80304608846518 25.875320668777697, 86.79651793020807 25.87197190171684, 86.7856288473407 25.86394102199731, 86.78157103600164 25.862362469375952, 86.77081121028321 25.860770589277173, 86.76281159616663 25.862518581642334, 86.75080323448195 25.86301794649393, 86.74360626961722 25.858010447294756, 86.72947534748677 25.86048968044641, 86.72408427403033 25.8627816817409, 86.72229174917616 25.866781459415293, 86.7198570620691 25.86783830164626, 86.7160578947536 25.867998781782063, 86.71156317149863 25.866580789246566, 86.70600709915593 25.867031214663022, 86.70359026424154 25.87017926963078, 86.6975615576043 25.889812736783973, 86.69772207876616 25.895752238503647, 86.69526512591764 25.905459735998466, 86.68151770063665 25.90204848096762, 86.68074186915929 25.907189845188036, 86.68177192914415 25.916611901590972, 86.6787174122345 25.918881588033116, 86.6781912503056 25.92502182249816, 86.68520983906696 25.935300046435824, 86.68327460863726 25.93707026506147, 86.67463735839341 25.93752956274273, 86.66839014754072 25.936249792470832, 86.66654409607628 25.93484075081171, 86.66455087293612 25.929949084625317, 86.657487595864 25.930461860012567, 86.64317392805394 25.9230508201208, 86.6410914858747 25.92310885500718, 86.63658336575642 25.926172271355654, 86.63510294595011 25.928370528545443, 86.62901184784889 25.928160989300935, 86.62770087252048 25.930221126895578, 86.62634971236041 25.93674032515842, 86.62232762485525 25.94238108742319, 86.61976813278454 25.94413798686287, 86.61709711329028 25.944739946892714, 86.6136948371363 25.943580593152586, 86.61116205718922 25.94403093624743, 86.61073396453752 25.94725043433753, 86.61386871094638 25.95297146310313, 86.61711942303121 25.956351458262276, 86.62462407775114 25.96219281014384, 86.62613119428396 25.966411125486943, 86.62406218548452 25.96713801325317, 86.61884508922526 25.966839262362708, 86.61142064982018 25.968457880079303, 86.60798712798787 25.970732060172974, 86.60383572960555 25.975030635872432, 86.60478106116653 25.982339029920972, 86.6015169936487 25.990031021340428, 86.6025470177189 25.992349786285907, 86.60367520997082 25.996982755978138, 86.60526260773683 26.007961030719528, 86.60852673569333 26.01115822417113, 86.61252648157634 26.012709969384563, 86.61937573176215 26.013044465228322, 86.62349590236958 26.017062126572377, 86.62510566163745 26.020192390926955, 86.62766072359447 26.02895000773829, 86.61730220864095 26.030501809967788, 86.61149643467097 26.029859740394073, 86.60701061773592 26.02811171585126, 86.6024177368275 26.024562321417417, 86.59606793628527 26.022390689538064, 86.56915285312554 26.029529729497163, 86.56022573681447 26.030680163155164, 86.55523598943024 26.032829470121044, 86.54493549562787 26.035388987461353, 86.54102929533084 26.03377036933154, 86.53743077353431 26.029222060384093, 86.53412658893573 26.01802971873645, 86.52072250829032 26.013708865186253, 86.51653095900568 26.005651269201866, 86.50927606279438 25.998855589985144, 86.5063107232959 26.002088418975248, 86.50289952798505 26.00344841744381, 86.5017624109618 26.010658784795297, 86.49960423075197 26.013668680273728, 86.48948657294582 26.02013888822085, 86.482695355194 26.027652418259834, 86.48137541682604 26.03508130936513, 86.48398401827517 26.03832304048902, 86.49411065897364 26.045319433864965, 86.49778048481535 26.05118759609195, 86.50018395977821 26.057461559788898, 86.49814608760163 26.064890399294963, 86.48898269163448 26.06356162564584, 86.48465734037237 26.06055170772749, 86.48124612871217 26.055249856544073, 86.4784948199448 26.04905165592275, 86.47070478121195 26.05524092495453, 86.45520047772744 26.05931210079957, 86.45276581436285 26.063410012169353, 86.45215496880009 26.074531011153248, 86.45011266509047 26.07800015344134, 86.44645623995683 26.079070372152827, 86.44303161131108 26.07778168460155, 86.43765395733752 26.074071671188292, 86.4299085185392 26.078588740547996, 86.42504804203014 26.075182010115636, 86.42311283264799 26.073790814289133, 86.42132027617313 26.076091694486976, 86.41652670704882 26.066700793328963, 86.41536738588161 26.062219366074444, 86.4123753035461 26.0593299128735, 86.40468784252826 26.05985159755411, 86.40058096881062 26.057247485965615, 86.39421783830264 26.050897714690496, 86.39369166886381 26.047540074026347, 86.39234055734751 26.045350628141684, 86.36988897178787 26.044811092067885, 86.37098146391241 26.041390909777373, 86.36979086204157 26.03945122577899, 86.36585796475755 26.036900662980177, 86.36628159248585 26.033832750473874, 86.36982658050356 26.032289937290162, 86.36944751506138 26.03092989996946, 86.3649304403118 26.028049310292715, 86.36514453945858 26.025092955941336, 86.36885003470529 26.024780767305252, 86.36460940586629 26.020950403260635, 86.36547005501512 26.017690855050216, 86.36807410372155 26.015768957092583, 86.36934051340413 26.013579532129686, 86.36998708135451 26.009521747623296, 86.37124455219814 26.008228629976294, 86.37317534467184 26.009780405525834, 86.37753189893331 26.008250879494167, 86.37661780830754 25.9966037403206, 86.37207841624422 25.99339320589888, 86.37190895417729 25.99222044788436, 86.37576160145355 25.988470317965287, 86.37718852747403 25.985518399045624, 86.3729702473898 25.98714148008662, 86.37211405578022 25.986958673393428, 86.37404040844741 25.983971140360083, 86.37549405314923 25.98201799175645, 86.37367034231877 25.980519780645245, 86.37436594378487 25.978950106972157, 86.37840144846422 25.975900152596864, 86.38005130182495 25.972488923545296, 86.37650185481272 25.96877891027577, 86.3743882078195 25.96863178896859, 86.37177072465529 25.967178109870286, 86.36968834526829 25.96438225177947, 86.3713694084915 25.96310250546564, 86.37013869078858 25.960511749166407, 86.3713381751201 25.959668973203893, 86.37539595432644 25.963338814478668, 86.37821855752702 25.960360191008174, 86.37890528405133 25.955967963793373, 86.3761362130665 25.955481931692308, 86.37309061555628 25.953751780425648, 86.37267145170036 25.952538925686213, 86.37420537959369 25.950871234047696, 86.37885179331077 25.9510005246409, 86.38170558413155 25.949899142285247, 86.37948494381746 25.947388657706057, 86.37954740042727 25.945908206252085, 86.3813087530314 25.944748877601906, 86.38065328693575 25.943491378084055, 86.38202666411266 25.93918835925432, 86.38484928165933 25.937721334676358, 86.38590164562692 25.939941962755398, 86.38910768007295 25.938158307803466, 86.39360249229708 25.93682945132967, 86.3929916208269 25.93391771220214, 86.39364708059841 25.932098388824382, 86.39637160587102 25.931010318971236, 86.39964458084965 25.93131353977075, 86.39663912035377 25.927670475513896, 86.39362922982505 25.92676082043662, 86.37503030454032 25.92429045521989, 86.37182422292372 25.92699269036179, 86.37287214365323 25.932780587633044, 86.36720909203031 25.934519697393792, 86.36115359405599 25.938559600036136, 86.3576666125918 25.93777929468816, 86.35529882596143 25.9343011837101, 86.35456305563571 25.929868826245258, 86.3519277589872 25.928428554610367, 86.35235583488533 25.92537401994104, 86.34789222054017 25.924758663299432, 86.34455237232177 25.922270509841074, 86.34216231018526 25.914511692190676, 86.33790388533421 25.91037805982566, 86.33811345762774 25.90773833137464, 86.33986589356336 25.90521891710135, 86.32849072401329 25.90318108744202, 86.32730012412773 25.896380963594837, 86.3252578476191 25.892060070357072, 86.3196126626787 25.885362561594796, 86.31359285683673 25.882620210782513, 86.31495730374462 25.872761078323506, 86.3111715288727 25.870678740627312, 86.30372035922497 25.8673477957105))\"\n        ],\n        \"semantic_type\": \"\",\n        \"description\": \"\"\n      }\n    },\n    {\n      \"column\": \"ADM1_NAME\",\n      \"properties\": {\n        \"dtype\": \"category\",\n        \"num_unique_values\": 34,\n        \"samples\": [\n          \"Mizoram\",\n          \"Delhi\",\n          \"Karnataka\"\n        ],\n        \"semantic_type\": \"\",\n        \"description\": \"\"\n      }\n    },\n    {\n      \"column\": \"ADM2_CODE\",\n      \"properties\": {\n        \"dtype\": \"number\",\n        \"std\": 25392,\n        \"min\": 17545,\n        \"max\": 70298,\n        \"num_unique_values\": 573,\n        \"samples\": [\n          70213,\n          17644,\n          17624\n        ],\n        \"semantic_type\": \"\",\n        \"description\": \"\"\n      }\n    },\n    {\n      \"column\": \"ADM2_NAME\",\n      \"properties\": {\n        \"dtype\": \"category\",\n        \"num_unique_values\": 568,\n        \"samples\": [\n          \"Bishnupur\",\n          \"Jhajjar\",\n          \"Umaria\"\n        ],\n        \"semantic_type\": \"\",\n        \"description\": \"\"\n      }\n    },\n    {\n      \"column\": \"Shape_Area\",\n      \"properties\": {\n        \"dtype\": \"number\",\n        \"std\": 0.3687459433565583,\n        \"min\": 0.00141044067682,\n        \"max\": 3.5190560987,\n        \"num_unique_values\": 573,\n        \"samples\": [\n          0.34937884728,\n          0.350501010597,\n          0.152042762027\n        ],\n        \"semantic_type\": \"\",\n        \"description\": \"\"\n      }\n    },\n    {\n      \"column\": \"area_m2\",\n      \"properties\": {\n        \"dtype\": \"number\",\n        \"std\": 43169612.977927156,\n        \"min\": 11129.392156862745,\n        \"max\": 507386567.3686276,\n        \"num_unique_values\": 6876,\n        \"samples\": [\n          4695926.262745098,\n          78260629.88235283,\n          29261345.33333332\n        ],\n        \"semantic_type\": \"\",\n        \"description\": \"\"\n      }\n    },\n    {\n      \"column\": \"year\",\n      \"properties\": {\n        \"dtype\": \"date\",\n        \"min\": \"1975\",\n        \"max\": \"2030\",\n        \"num_unique_values\": 12,\n        \"samples\": [\n          \"2025\",\n          \"2020\",\n          \"1975\"\n        ],\n        \"semantic_type\": \"\",\n        \"description\": \"\"\n      }\n    }\n  ]\n}"
            }
          },
          "metadata": {},
          "execution_count": 74
        }
      ]
    },
    {
      "cell_type": "code",
      "source": [],
      "metadata": {
        "id": "UHjEfOXV_S6h"
      },
      "execution_count": null,
      "outputs": []
    }
  ]
}