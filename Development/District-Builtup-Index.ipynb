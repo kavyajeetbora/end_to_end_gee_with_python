{
  "nbformat": 4,
  "nbformat_minor": 0,
  "metadata": {
    "colab": {
      "provenance": [],
      "authorship_tag": "ABX9TyOKx1vQb/MqAqPv0dEkpEsE",
      "include_colab_link": true
    },
    "kernelspec": {
      "name": "python3",
      "display_name": "Python 3"
    },
    "language_info": {
      "name": "python"
    }
  },
  "cells": [
    {
      "cell_type": "markdown",
      "metadata": {
        "id": "view-in-github",
        "colab_type": "text"
      },
      "source": [
        "<a href=\"https://colab.research.google.com/github/kavyajeetbora/end_to_end_gee_with_python/blob/master/Development/District-Builtup-Index.ipynb\" target=\"_parent\"><img src=\"https://colab.research.google.com/assets/colab-badge.svg\" alt=\"Open In Colab\"/></a>"
      ]
    },
    {
      "cell_type": "code",
      "source": [
        "import ee\n",
        "import geemap\n",
        "import seaborn as sns\n",
        "import matplotlib.pyplot as plt\n",
        "import pandas as pd\n",
        "\n",
        "ee.Authenticate()\n",
        "ee.Initialize(project='kavyajeetbora-ee')"
      ],
      "metadata": {
        "id": "2P7il3MsTjQf"
      },
      "execution_count": 1,
      "outputs": []
    },
    {
      "cell_type": "code",
      "source": [
        "# Define the time range.\n",
        "start_date = '1990-01-01'\n",
        "end_date = '2024-12-31'\n",
        "\n",
        "# Load the GAUL dataset for second-level administrative units\n",
        "gaul_dataset = ee.FeatureCollection('FAO/GAUL/2015/level2')\n",
        "# Filter the dataset to get the boundary of Goa\n",
        "boundary = gaul_dataset.filter(ee.Filter.eq('ADM1_NAME', 'Goa'))\n",
        "boundary.size()"
      ],
      "metadata": {
        "colab": {
          "base_uri": "https://localhost:8080/",
          "height": 68
        },
        "id": "nr2sJKnsXDnp",
        "outputId": "b9d05a32-9c73-4879-f1c5-51dfdc63f0e5"
      },
      "execution_count": 2,
      "outputs": [
        {
          "output_type": "display_data",
          "data": {
            "text/plain": [
              "<IPython.core.display.HTML object>"
            ],
            "text/html": [
              "\n",
              "            <style>\n",
              "                .geemap-dark {\n",
              "                    --jp-widgets-color: white;\n",
              "                    --jp-widgets-label-color: white;\n",
              "                    --jp-ui-font-color1: white;\n",
              "                    --jp-layout-color2: #454545;\n",
              "                    background-color: #383838;\n",
              "                }\n",
              "\n",
              "                .geemap-dark .jupyter-button {\n",
              "                    --jp-layout-color3: #383838;\n",
              "                }\n",
              "\n",
              "                .geemap-colab {\n",
              "                    background-color: var(--colab-primary-surface-color, white);\n",
              "                }\n",
              "\n",
              "                .geemap-colab .jupyter-button {\n",
              "                    --jp-layout-color3: var(--colab-primary-surface-color, white);\n",
              "                }\n",
              "            </style>\n",
              "            "
            ]
          },
          "metadata": {}
        },
        {
          "output_type": "execute_result",
          "data": {
            "text/plain": [
              "<ee.ee_number.Number at 0x7c172e78e920>"
            ],
            "text/html": [
              "<div><style>:root {\n",
              "  --font-color-primary: var(--jp-content-font-color0, rgba(0, 0, 0, 1));\n",
              "  --font-color-secondary: var(--jp-content-font-color2, rgba(0, 0, 0, 0.6));\n",
              "  --font-color-accent: rgba(123, 31, 162, 1);\n",
              "  --border-color: var(--jp-border-color2, #e0e0e0);\n",
              "  --background-color: var(--jp-layout-color0, white);\n",
              "  --background-color-row-even: var(--jp-layout-color1, white);\n",
              "  --background-color-row-odd: var(--jp-layout-color2, #eeeeee);\n",
              "}\n",
              "\n",
              "html[theme=\"dark\"],\n",
              "body[data-theme=\"dark\"],\n",
              "body.vscode-dark {\n",
              "  --font-color-primary: rgba(255, 255, 255, 1);\n",
              "  --font-color-secondary: rgba(255, 255, 255, 0.6);\n",
              "  --font-color-accent: rgb(173, 132, 190);\n",
              "  --border-color: #2e2e2e;\n",
              "  --background-color: #111111;\n",
              "  --background-color-row-even: #111111;\n",
              "  --background-color-row-odd: #313131;\n",
              "}\n",
              "\n",
              ".ee {\n",
              "  padding: 1em;\n",
              "  line-height: 1.5em;\n",
              "  min-width: 300px;\n",
              "  max-width: 1200px;\n",
              "  overflow-y: scroll;\n",
              "  max-height: 600px;\n",
              "  border: 1px solid var(--border-color);\n",
              "  font-family: monospace;\n",
              "}\n",
              "\n",
              ".ee li {\n",
              "  list-style-type: none;\n",
              "}\n",
              "\n",
              ".ee ul {\n",
              "  padding-left: 1.5em !important;\n",
              "  margin: 0;\n",
              "}\n",
              "\n",
              ".ee > ul {\n",
              "  padding-left: 0 !important;\n",
              "}\n",
              "\n",
              ".ee-open,\n",
              ".ee-shut {\n",
              "  color: var(--font-color-secondary);\n",
              "  cursor: pointer;\n",
              "  margin: 0;\n",
              "}\n",
              "\n",
              ".ee-open:hover,\n",
              ".ee-shut:hover {\n",
              "  color: var(--font-color-primary);\n",
              "}\n",
              "\n",
              ".ee-k {\n",
              "  color: var(--font-color-accent);\n",
              "  margin-right: 6px;\n",
              "}\n",
              "\n",
              ".ee-v {\n",
              "  color: var(--font-color-primary);\n",
              "}\n",
              "\n",
              ".ee-toggle {\n",
              "  display: none;\n",
              "}\n",
              "\n",
              ".ee-shut + ul {\n",
              "  display: none;\n",
              "}\n",
              "\n",
              ".ee-open + ul {\n",
              "  display: block;\n",
              "}\n",
              "\n",
              ".ee-shut::before {\n",
              "  display: inline-block;\n",
              "  content: \"▼\";\n",
              "  margin-right: 6px;\n",
              "  transform: rotate(-90deg);\n",
              "  transition: transform 0.2s;\n",
              "}\n",
              "\n",
              ".ee-open::before {\n",
              "  transform: rotate(0deg);\n",
              "  display: inline-block;\n",
              "  content: \"▼\";\n",
              "  margin-right: 6px;\n",
              "  transition: transform 0.2s;\n",
              "}\n",
              "</style><div class='ee'><ul><li><span class='ee-v'>2</span></li></ul></div><script>function toggleHeader() {\n",
              "    const parent = this.parentElement;\n",
              "    parent.className = parent.className === \"ee-open\" ? \"ee-shut\" : \"ee-open\";\n",
              "}\n",
              "\n",
              "for (let c of document.getElementsByClassName(\"ee-toggle\")) {\n",
              "    c.onclick = toggleHeader;\n",
              "}</script></div>"
            ]
          },
          "metadata": {},
          "execution_count": 2
        }
      ]
    },
    {
      "cell_type": "markdown",
      "source": [
        "## Merge the landsat image collection\n",
        "\n",
        "\n",
        "- We will merge the landsat images from landsat 5 to landsat 9.\n",
        "- We will filter the image collection by cloud cover, we want only clean images\n",
        "- Also print the starting date and ending date of the available image collections\n",
        "\n",
        "Which images to consider for cloud free images ?\n",
        "\n",
        "Recommendation:\n",
        "1. For General Land Cover Mapping and Long-Term Monitoring: Use the Median Composite method to ensure consistent and robust results, especially in areas with frequent cloud cover.\n",
        "2. For Time-Series Analysis and Short-Term Changes: Use Zero Cloud Cover Images to maintain temporal precision and clarity."
      ],
      "metadata": {
        "id": "nl29TvXMyACn"
      }
    },
    {
      "cell_type": "code",
      "source": [
        "# Function to calculate NDBI for Landsat 7 and 8\n",
        "def calculate_ndbi_landsat7(image):\n",
        "    # Select the NIR and SWIR bands\n",
        "    nir = image.select('SR_B4')\n",
        "    swir = image.select('SR_B5')\n",
        "\n",
        "    # Calculate NDBI\n",
        "    ndbi = swir.subtract(nir).divide(swir.add(nir)).rename('NDBI')\n",
        "\n",
        "    # Copy properties from the original image\n",
        "    ndbi = ndbi.copyProperties(image)\n",
        "\n",
        "    return ndbi\n",
        "\n",
        "# Function to calculate NDBI for Landsat 8 and 9\n",
        "def calculate_ndbi_landsat8(image):\n",
        "    # Select the NIR and SWIR bands\n",
        "    nir = image.select('SR_B5')\n",
        "    swir = image.select('SR_B6')\n",
        "\n",
        "    # Calculate NDBI\n",
        "    ndbi = swir.subtract(nir).divide(swir.add(nir)).rename('NDBI')\n",
        "\n",
        "    # Copy properties from the original image\n",
        "    ndbi = ndbi.copyProperties(image)\n",
        "\n",
        "    return ndbi\n",
        "\n",
        "# Applies scaling factors.\n",
        "def apply_scale_factors(image):\n",
        "  optical_bands = image.select('SR_B.').multiply(0.0000275).add(-0.2)\n",
        "  thermal_bands = image.select('ST_B.*').multiply(0.00341802).add(149.0)\n",
        "  return image.addBands(optical_bands, None, True).addBands(\n",
        "      thermal_bands, None, True\n",
        "  )"
      ],
      "metadata": {
        "colab": {
          "base_uri": "https://localhost:8080/",
          "height": 17
        },
        "id": "upvSvjHEiJjH",
        "outputId": "2a4c41b8-88d6-4747-d2d0-0ace1c958b60"
      },
      "execution_count": 3,
      "outputs": [
        {
          "output_type": "display_data",
          "data": {
            "text/plain": [
              "<IPython.core.display.HTML object>"
            ],
            "text/html": [
              "\n",
              "            <style>\n",
              "                .geemap-dark {\n",
              "                    --jp-widgets-color: white;\n",
              "                    --jp-widgets-label-color: white;\n",
              "                    --jp-ui-font-color1: white;\n",
              "                    --jp-layout-color2: #454545;\n",
              "                    background-color: #383838;\n",
              "                }\n",
              "\n",
              "                .geemap-dark .jupyter-button {\n",
              "                    --jp-layout-color3: #383838;\n",
              "                }\n",
              "\n",
              "                .geemap-colab {\n",
              "                    background-color: var(--colab-primary-surface-color, white);\n",
              "                }\n",
              "\n",
              "                .geemap-colab .jupyter-button {\n",
              "                    --jp-layout-color3: var(--colab-primary-surface-color, white);\n",
              "                }\n",
              "            </style>\n",
              "            "
            ]
          },
          "metadata": {}
        }
      ]
    },
    {
      "cell_type": "code",
      "source": [
        "%%time\n",
        "# Load the Landsat image collections.\n",
        "landsat_collections = [\n",
        "    \"LANDSAT/LT05/C02/T1_L2\",  # Landsat 5\n",
        "    \"LANDSAT/LE07/C02/T1_L2\",  # Landsat 7\n",
        "    'LANDSAT/LC08/C02/T1_L2',  # Landsat 8\n",
        "    'LANDSAT/LC09/C02/T1_L2'   # Landsat 9\n",
        "]\n",
        "\n",
        "landsat_images = ee.ImageCollection([])\n",
        "for collection in landsat_collections:\n",
        "\n",
        "    image_collection = ee.ImageCollection(collection).filterDate(start_date, end_date)\\\n",
        "        .filterBounds(boundary)\\\n",
        "        .filter(ee.Filter.lt(\"CLOUD_COVER\", 20))  ## images with less than 5% cloud clover\n",
        "\n",
        "    # Map the function to the image collection\n",
        "    scaled_image_collection = image_collection.map(apply_scale_factors)\n",
        "\n",
        "    ## Calculate the index: NDBI:\n",
        "    if \"LT05\" in collection or \"LE07\" in collection:\n",
        "        new_collection = scaled_image_collection.map(calculate_ndbi_landsat7)\n",
        "    elif \"LC08\" in collection or \"LC09\" in collection:\n",
        "        new_collection = scaled_image_collection.map(calculate_ndbi_landsat8)\n",
        "\n",
        "    landsat_images = landsat_images.merge(new_collection)\n",
        "\n",
        "\n",
        "# Print the number of images in the combined Landsat collection.\n",
        "print('Number of images in Landsat collection:', landsat_images.size().getInfo())\n",
        "\n",
        "first_image = landsat_images.sort('system:index', True).first()\n",
        "last_image = landsat_images.sort('system:index', False).first()\n",
        "\n",
        "date1 = first_image.get('DATE_ACQUIRED').getInfo()\n",
        "date2 = last_image.get('DATE_ACQUIRED').getInfo()\n",
        "\n",
        "print(f\"Images collection are from date: {date1} to {date2}\")"
      ],
      "metadata": {
        "colab": {
          "base_uri": "https://localhost:8080/",
          "height": 86
        },
        "id": "k4I_-Y_YZK1C",
        "outputId": "e74efbce-9866-4682-b3a4-516b56ab7565"
      },
      "execution_count": 12,
      "outputs": [
        {
          "output_type": "display_data",
          "data": {
            "text/plain": [
              "<IPython.core.display.HTML object>"
            ],
            "text/html": [
              "\n",
              "            <style>\n",
              "                .geemap-dark {\n",
              "                    --jp-widgets-color: white;\n",
              "                    --jp-widgets-label-color: white;\n",
              "                    --jp-ui-font-color1: white;\n",
              "                    --jp-layout-color2: #454545;\n",
              "                    background-color: #383838;\n",
              "                }\n",
              "\n",
              "                .geemap-dark .jupyter-button {\n",
              "                    --jp-layout-color3: #383838;\n",
              "                }\n",
              "\n",
              "                .geemap-colab {\n",
              "                    background-color: var(--colab-primary-surface-color, white);\n",
              "                }\n",
              "\n",
              "                .geemap-colab .jupyter-button {\n",
              "                    --jp-layout-color3: var(--colab-primary-surface-color, white);\n",
              "                }\n",
              "            </style>\n",
              "            "
            ]
          },
          "metadata": {}
        },
        {
          "output_type": "stream",
          "name": "stdout",
          "text": [
            "Number of images in Landsat collection: 1361\n",
            "Images collection are from date: 1990-02-07 to 2024-10-01\n",
            "CPU times: user 57.3 ms, sys: 143 µs, total: 57.5 ms\n",
            "Wall time: 2.59 s\n"
          ]
        }
      ]
    },
    {
      "cell_type": "markdown",
      "source": [
        "## Get the number of images for each year"
      ],
      "metadata": {
        "id": "q6B8q235x9Nm"
      }
    },
    {
      "cell_type": "code",
      "source": [
        "# Function to get the year from the image date\n",
        "def get_year(image):\n",
        "    year = ee.Date(image.get('DATE_ACQUIRED')).get('year')\n",
        "    return year\n",
        "\n",
        "# Map the function over the image collection to get the list of years\n",
        "yearly_images = landsat_images.map(lambda image: image.set('year', get_year(image)))\n",
        "\n",
        "# Reduce the collection by year to count the number of images per year\n",
        "year_counts = yearly_images.aggregate_histogram('year')\n",
        "\n",
        "# Print the number of images for each year\n",
        "print('Number of images for each year:', year_counts.getInfo())"
      ],
      "metadata": {
        "colab": {
          "base_uri": "https://localhost:8080/",
          "height": 54
        },
        "id": "xvOc1vnJxYSF",
        "outputId": "f96c62b6-da4c-41d1-d875-b7a738d26955"
      },
      "execution_count": 41,
      "outputs": [
        {
          "output_type": "display_data",
          "data": {
            "text/plain": [
              "<IPython.core.display.HTML object>"
            ],
            "text/html": [
              "\n",
              "            <style>\n",
              "                .geemap-dark {\n",
              "                    --jp-widgets-color: white;\n",
              "                    --jp-widgets-label-color: white;\n",
              "                    --jp-ui-font-color1: white;\n",
              "                    --jp-layout-color2: #454545;\n",
              "                    background-color: #383838;\n",
              "                }\n",
              "\n",
              "                .geemap-dark .jupyter-button {\n",
              "                    --jp-layout-color3: #383838;\n",
              "                }\n",
              "\n",
              "                .geemap-colab {\n",
              "                    background-color: var(--colab-primary-surface-color, white);\n",
              "                }\n",
              "\n",
              "                .geemap-colab .jupyter-button {\n",
              "                    --jp-layout-color3: var(--colab-primary-surface-color, white);\n",
              "                }\n",
              "            </style>\n",
              "            "
            ]
          },
          "metadata": {}
        },
        {
          "output_type": "stream",
          "name": "stdout",
          "text": [
            "Number of images for each year: {'1990': 10, '1991': 19, '1992': 29, '1993': 23, '1994': 24, '1995': 14, '1996': 20, '1997': 12, '1998': 14, '1999': 20, '2000': 20, '2001': 23, '2002': 13, '2003': 19, '2004': 22, '2005': 26, '2006': 31, '2007': 21, '2008': 28, '2009': 23, '2010': 14, '2011': 16, '2012': 31, '2013': 39, '2014': 69, '2015': 67, '2016': 72, '2017': 73, '2018': 75, '2019': 76, '2020': 74, '2021': 71, '2022': 109, '2023': 97, '2024': 67}\n"
          ]
        }
      ]
    },
    {
      "cell_type": "code",
      "source": [
        "# Function to plot a bar plot from a dictionary\n",
        "def plot_bar_from_dict(data_dict):\n",
        "    # Convert the dictionary to a DataFrame\n",
        "    df = pd.DataFrame(list(data_dict.items()), columns=['Category', 'Value'])\n",
        "\n",
        "    # Set the style of the plot\n",
        "    sns.set(style=\"whitegrid\")\n",
        "\n",
        "    # Create the bar plot\n",
        "    plt.figure(figsize=(10, 4))\n",
        "    bar_plot = sns.barplot(x='Category', y='Value', data=df)\n",
        "\n",
        "    # Add titles and labels\n",
        "    bar_plot.set_title('Number of Landsat Images each year', fontsize=12)\n",
        "    bar_plot.set_xlabel('Year', fontsize=8)\n",
        "    bar_plot.set_ylabel('Number of Images', fontsize=8)\n",
        "\n",
        "    # Rotate x-axis labels for better readability\n",
        "    plt.xticks(rotation=45)\n",
        "\n",
        "    # Show the plot\n",
        "    plt.tight_layout()\n",
        "    plt.show()\n",
        "\n",
        "\n",
        "plot_bar_from_dict(year_counts.getInfo())"
      ],
      "metadata": {
        "colab": {
          "base_uri": "https://localhost:8080/",
          "height": 401
        },
        "id": "Q6Hp_M3z0zKX",
        "outputId": "04c585e9-f380-4389-d823-c17e569e336f"
      },
      "execution_count": 42,
      "outputs": [
        {
          "output_type": "display_data",
          "data": {
            "text/plain": [
              "<IPython.core.display.HTML object>"
            ],
            "text/html": [
              "\n",
              "            <style>\n",
              "                .geemap-dark {\n",
              "                    --jp-widgets-color: white;\n",
              "                    --jp-widgets-label-color: white;\n",
              "                    --jp-ui-font-color1: white;\n",
              "                    --jp-layout-color2: #454545;\n",
              "                    background-color: #383838;\n",
              "                }\n",
              "\n",
              "                .geemap-dark .jupyter-button {\n",
              "                    --jp-layout-color3: #383838;\n",
              "                }\n",
              "\n",
              "                .geemap-colab {\n",
              "                    background-color: var(--colab-primary-surface-color, white);\n",
              "                }\n",
              "\n",
              "                .geemap-colab .jupyter-button {\n",
              "                    --jp-layout-color3: var(--colab-primary-surface-color, white);\n",
              "                }\n",
              "            </style>\n",
              "            "
            ]
          },
          "metadata": {}
        },
        {
          "output_type": "display_data",
          "data": {
            "text/plain": [
              "<Figure size 1000x400 with 1 Axes>"
            ],
            "image/png": "[encoded data removed]"
          },
          "metadata": {}
        }
      ]
    },
    {
      "cell_type": "markdown",
      "source": [
        "## Find the yearly composites\n",
        "\n",
        "\n",
        "- We will find the median composites for each year to get cloud free images\n",
        "- we will determine this for each year"
      ],
      "metadata": {
        "id": "vY_koXHv17hS"
      }
    },
    {
      "cell_type": "code",
      "source": [
        "%%time\n",
        "\n",
        "def get_yearly_composites(image_collection):\n",
        "\n",
        "    yearly_composites = []\n",
        "    for year in year_counts.getInfo().keys():\n",
        "\n",
        "        img_col = image_collection.filter(ee.Filter.rangeContains('year', int(year), int(year)))\n",
        "\n",
        "        first_image = img_col.first()\n",
        "\n",
        "        median_composite = img_col.median().set('year', year) #.copyProperties(first_image)\n",
        "        yearly_composites.append(median_composite)\n",
        "\n",
        "    yearly_composites = ee.ImageCollection.fromImages(yearly_composites)\n",
        "    return yearly_composites\n",
        "\n",
        "yearly_composites = get_yearly_composites(yearly_images)\n",
        "\n",
        "# Print the number of images in the yearly image collection\n",
        "print('Number of images in yearly image collection:', yearly_composites.size().getInfo())"
      ],
      "metadata": {
        "colab": {
          "base_uri": "https://localhost:8080/",
          "height": 69
        },
        "id": "cm2NAxdlzs61",
        "outputId": "38f59792-9a5f-4a0a-af0e-a136b1231aeb"
      },
      "execution_count": 49,
      "outputs": [
        {
          "output_type": "display_data",
          "data": {
            "text/plain": [
              "<IPython.core.display.HTML object>"
            ],
            "text/html": [
              "\n",
              "            <style>\n",
              "                .geemap-dark {\n",
              "                    --jp-widgets-color: white;\n",
              "                    --jp-widgets-label-color: white;\n",
              "                    --jp-ui-font-color1: white;\n",
              "                    --jp-layout-color2: #454545;\n",
              "                    background-color: #383838;\n",
              "                }\n",
              "\n",
              "                .geemap-dark .jupyter-button {\n",
              "                    --jp-layout-color3: #383838;\n",
              "                }\n",
              "\n",
              "                .geemap-colab {\n",
              "                    background-color: var(--colab-primary-surface-color, white);\n",
              "                }\n",
              "\n",
              "                .geemap-colab .jupyter-button {\n",
              "                    --jp-layout-color3: var(--colab-primary-surface-color, white);\n",
              "                }\n",
              "            </style>\n",
              "            "
            ]
          },
          "metadata": {}
        },
        {
          "output_type": "stream",
          "name": "stdout",
          "text": [
            "Number of images in yearly image collection: 35\n",
            "CPU times: user 152 ms, sys: 21.7 ms, total: 173 ms\n",
            "Wall time: 27.5 s\n"
          ]
        }
      ]
    },
    {
      "cell_type": "markdown",
      "source": [
        "## Visualizing the results"
      ],
      "metadata": {
        "id": "zSvd_UIe5cqm"
      }
    },
    {
      "cell_type": "code",
      "source": [
        "year = 2020\n",
        "image = yearly_composites.filter(ee.Filter.eq('year', str(year))).first()\n",
        "\n",
        "# Create a map and display the first image\n",
        "Map = geemap.Map()\n",
        "Map.centerObject(boundary, 10)\n",
        "\n",
        "visualization = {\n",
        "    'bands': ['NDBI'], # NDBI\n",
        "    'min': -1,\n",
        "    'max': 1,\n",
        "    'palette': ['blue', 'white', 'red']\n",
        "}\n",
        "title = f\"Year: {image.get('year').getInfo()}\"\n",
        "\n",
        "Map.addLayer(image.clip(boundary), visualization, title)\n",
        "Map"
      ],
      "metadata": {
        "colab": {
          "base_uri": "https://localhost:8080/",
          "height": 17
        },
        "id": "HEkK0QD72XRV",
        "outputId": "48341ca1-dc8e-4191-a5be-a7624d6b97e8"
      },
      "execution_count": null,
      "outputs": [
        {
          "output_type": "display_data",
          "data": {
            "text/plain": [
              "<IPython.core.display.HTML object>"
            ],
            "text/html": [
              "\n",
              "            <style>\n",
              "                .geemap-dark {\n",
              "                    --jp-widgets-color: white;\n",
              "                    --jp-widgets-label-color: white;\n",
              "                    --jp-ui-font-color1: white;\n",
              "                    --jp-layout-color2: #454545;\n",
              "                    background-color: #383838;\n",
              "                }\n",
              "\n",
              "                .geemap-dark .jupyter-button {\n",
              "                    --jp-layout-color3: #383838;\n",
              "                }\n",
              "\n",
              "                .geemap-colab {\n",
              "                    background-color: var(--colab-primary-surface-color, white);\n",
              "                }\n",
              "\n",
              "                .geemap-colab .jupyter-button {\n",
              "                    --jp-layout-color3: var(--colab-primary-surface-color, white);\n",
              "                }\n",
              "            </style>\n",
              "            "
            ]
          },
          "metadata": {}
        }
      ]
    },
    {
      "cell_type": "markdown",
      "source": [
        "Exporting the image"
      ],
      "metadata": {
        "id": "vTMXHFUf3uEq"
      }
    },
    {
      "cell_type": "code",
      "source": [
        "# # Export the NDBI image to a GeoTIFF file\n",
        "# export_task = ee.batch.Export.image.toDrive(\n",
        "#     image=first_image,\n",
        "#     description='NDBI_Image_Export-2',\n",
        "#     folder='projects/gee_exports',\n",
        "#     fileNamePrefix='NDBI_Image-2',\n",
        "#     scale=30,\n",
        "#     region=boundary,\n",
        "#     fileFormat='GeoTIFF'\n",
        "# )\n",
        "\n",
        "# # Start the export task\n",
        "# export_task.start()"
      ],
      "metadata": {
        "colab": {
          "base_uri": "https://localhost:8080/",
          "height": 17
        },
        "id": "SdDw8a1hHpgJ",
        "outputId": "c5264a04-0ef7-438e-deaf-6da5c779c645"
      },
      "execution_count": 56,
      "outputs": [
        {
          "output_type": "display_data",
          "data": {
            "text/plain": [
              "<IPython.core.display.HTML object>"
            ],
            "text/html": [
              "\n",
              "            <style>\n",
              "                .geemap-dark {\n",
              "                    --jp-widgets-color: white;\n",
              "                    --jp-widgets-label-color: white;\n",
              "                    --jp-ui-font-color1: white;\n",
              "                    --jp-layout-color2: #454545;\n",
              "                    background-color: #383838;\n",
              "                }\n",
              "\n",
              "                .geemap-dark .jupyter-button {\n",
              "                    --jp-layout-color3: #383838;\n",
              "                }\n",
              "\n",
              "                .geemap-colab {\n",
              "                    background-color: var(--colab-primary-surface-color, white);\n",
              "                }\n",
              "\n",
              "                .geemap-colab .jupyter-button {\n",
              "                    --jp-layout-color3: var(--colab-primary-surface-color, white);\n",
              "                }\n",
              "            </style>\n",
              "            "
            ]
          },
          "metadata": {}
        }
      ]
    }
  ]
}