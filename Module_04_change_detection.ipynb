{
  "nbformat": 4,
  "nbformat_minor": 0,
  "metadata": {
    "colab": {
      "provenance": [],
      "authorship_tag": "ABX9TyMpqF6mfA5+rafOLvbloAIr",
      "include_colab_link": true
    },
    "kernelspec": {
      "name": "python3",
      "display_name": "Python 3"
    },
    "language_info": {
      "name": "python"
    }
  },
  "cells": [
    {
      "cell_type": "markdown",
      "metadata": {
        "id": "view-in-github",
        "colab_type": "text"
      },
      "source": [
        "<a href=\"https://colab.research.google.com/github/kavyajeetbora/end_to_end_gee_with_python/blob/master/Module_04_change_detection.ipynb\" target=\"_parent\"><img src=\"https://colab.research.google.com/assets/colab-badge.svg\" alt=\"Open In Colab\"/></a>"
      ]
    },
    {
      "cell_type": "markdown",
      "source": [
        "# Module 4: Change Detection\n",
        "\n",
        "## Introduction\n",
        "\n",
        "Many earth observation datasets are available at regular intervals over long periods of time. This enables us to detect changes on the Earth’s surface. Change detection technique in remote sensing fall in the following categories\n",
        "\n",
        "1. Single Band Change: Measuring change in a single band image or a spectral index using a threshold\n",
        "2. Multi Band Change: Measuring spectral distance and spectral angle between two multiband images\n",
        "3. Classification of Change: One-pass classification using stacked image containing bands from before and after an event\n",
        "4. Post Classification Comparison: Comparing two classified images and computing class transitions\n"
      ],
      "metadata": {
        "id": "RqV3vzCPcKf6"
      }
    },
    {
      "cell_type": "code",
      "execution_count": 1,
      "metadata": {
        "id": "L8O-m7VdbXrS"
      },
      "outputs": [],
      "source": [
        "import geemap\n",
        "import ee\n",
        "\n",
        "ee.Authenticate()\n",
        "ee.Initialize(project='kavyajeetbora-ee')"
      ]
    }
  ]
}