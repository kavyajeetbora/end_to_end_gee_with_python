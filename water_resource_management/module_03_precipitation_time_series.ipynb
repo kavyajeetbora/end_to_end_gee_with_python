{
  "nbformat": 4,
  "nbformat_minor": 0,
  "metadata": {
    "colab": {
      "provenance": [],
      "authorship_tag": "ABX9TyMd+1XLr5DBDiuPCuq784tT",
      "include_colab_link": true
    },
    "kernelspec": {
      "name": "python3",
      "display_name": "Python 3"
    },
    "language_info": {
      "name": "python"
    }
  },
  "cells": [
    {
      "cell_type": "markdown",
      "metadata": {
        "id": "view-in-github",
        "colab_type": "text"
      },
      "source": [
        "<a href=\"https://colab.research.google.com/github/kavyajeetbora/end_to_end_gee_with_python/blob/master/water_resource_management/module_03_precipitation_time_series.ipynb\" target=\"_parent\"><img src=\"https://colab.research.google.com/assets/colab-badge.svg\" alt=\"Open In Colab\"/></a>"
      ]
    },
    {
      "cell_type": "markdown",
      "source": [
        "# Module 3: Precipitation Time Series Analysis\n",
        "\n",
        "The main advantage of the gridded precipitation datasets is that they offer a consistent long-term time-series. We will cover the basics of gridded rainfall datasets, how to aggregate them to the requirement temporal resolution, prepare a time-series and perform pixel-wise trend analysis"
      ],
      "metadata": {
        "id": "U3EQtdTb1xGv"
      }
    },
    {
      "cell_type": "code",
      "execution_count": null,
      "metadata": {
        "id": "kkJUhUfu1odA"
      },
      "outputs": [],
      "source": [
        "import geemap\n",
        "import ee\n",
        "\n",
        "ee.Authenticate()\n",
        "ee.Initialize(project='kavyajeetbora-ee')"
      ]
    },
    {
      "cell_type": "markdown",
      "source": [
        "## Map and Reduce in google earth engine\n",
        "\n",
        "<img src='https://github.com/kavyajeetbora/end_to_end_gee_with_python/blob/master/images/Map%20Reduce%20in%20google%20earth%20engine.PNG?raw=true' height=300/>"
      ],
      "metadata": {
        "id": "XtZZZ7WR4SN_"
      }
    }
  ]
}